{
  "nbformat": 4,
  "nbformat_minor": 0,
  "metadata": {
    "colab": {
      "name": "submission2.6-machineLearningTerapan.ipynb",
      "provenance": [],
      "collapsed_sections": []
    },
    "kernelspec": {
      "name": "python3",
      "display_name": "Python 3"
    },
    "language_info": {
      "name": "python"
    }
  },
  "cells": [
    {
      "cell_type": "markdown",
      "metadata": {
        "id": "iAGFy82DMVLK"
      },
      "source": [
        "# Sistem Rekomendasi Movie - Submission Machine Learning Terapan\n",
        "Nama : Sukma Ramadhan Asri  \n",
        "Asal : Bandung, Jawabarat"
      ]
    },
    {
      "cell_type": "markdown",
      "metadata": {
        "id": "CTdNZhu3iGIY"
      },
      "source": [
        "## Project Overview\n",
        "\n",
        "Sistem rekomendasi movie merupakan sistem yang merekomendasikan movie kepada penonton atau pengguna lainnya, rekomendasi ini contohnya diterapkan pada situs seperti netflix, iqiyi, dan wetv. Sistem rekomendasi yang saya buat ini didasarkan dengan peferensi kesukaan pengguna dimasa lalu, serta rating dari movie tersebut.\n",
        "Sistem rekomendasi telah menjadi lazim dalam beberapa tahun terakhir karena mereka menangani masalah kelebihan informasi dengan menyarankan pengguna produk yang paling relevan dari sejumlah besar data. Untuk produk media, rekomendasi film kolaboratif online berupaya membantu pengguna mengakses film pilihan mereka dengan menangkap tetangga yang persis sama di antara pengguna atau film dari peringkat umum historis mereka. Namun, karena data yang jarang, pemilihan tetangga menjadi lebih sulit dengan meningkatnya film dan pengguna dengan cepat. Dalam makalah ini, diusulkan sistem rekomendasi film berbasis model hibrida yang memanfaatkan pengelompokan K-means yang ditingkatkan ditambah dengan algoritma genetika (GAs) untuk mempartisi ruang pengguna yang ditransformasikan. Ini menggunakan teknik reduksi data analisis komponen utama (PCA) untuk memadat ruang populasi film yang juga dapat mengurangi kompleksitas komputasi dalam rekomendasi film cerdas. Hasil eksperimen pada dataset Movielens menunjukkan bahwa pendekatan yang diusulkan dapat memberikan kinerja tinggi dalam hal akurasi, dan menghasilkan rekomendasi film yang lebih andal dan personal jika dibandingkan dengan metode yang ada.\n",
        "\n",
        "referensi dari proyek overview yang saya buat dapat dilihat dari tautan berikut :\n",
        "[Journal of Visual Languages & Computing](https://www.sciencedirect.com/science/article/abs/pii/S1045926X14000901)"
      ]
    },
    {
      "cell_type": "markdown",
      "metadata": {
        "id": "PDBTe5xLXnKy"
      },
      "source": [
        "## Business Understanding\n",
        "\n",
        "### Problem Statements\n",
        "\n",
        "1. Bagaimana cara merekomendasikan movie yang disukai pengguna lain dapat direkomendasikan kepada pengguna lainnya juga ?\n",
        "\n",
        "### Goals\n",
        "\n",
        "Dapat membuat sistem rekomendasi yang akurat berdasarkan ratings dan aktivitas pengguna pada masa lalu.\n",
        "\n",
        "### Solution approach\n",
        "\n",
        "Solusi yang saya buat yaitu dengan menggunakan 2 algoritma Machine Learning sistem rekomendasi,yaitu :\n",
        "\n",
        "- **Content Based Filtering** adalah algoritma yang merekomendasikan item serupa dengan apa yang disukai pengguna, berdasarkan tindakan mereka sebelumnya atau umpan balik eksplisit.\n",
        "- **Collaborative Filtering**. adalah algoritma yang bergantung pada pendapat komunitas pengguna. Dia tidak memerlukan atribut untuk setiap itemnya.\n",
        "\n",
        "Algoritma Content Based Filtering digunakan untuk merekemondesikan movie berdasarkan aktivitas pengguna pada masa lalu, sedangkan algoritma Collabarative Filltering digunakan untuk merekomendasikan movie berdasarkan ratings yang paling tinggi."
      ]
    },
    {
      "cell_type": "markdown",
      "metadata": {
        "id": "wmP458BpMqAC"
      },
      "source": [
        "Install opendatasets yaitu library untuk mendownload dataset"
      ]
    },
    {
      "cell_type": "code",
      "metadata": {
        "id": "-V5gNHVFM9av",
        "colab": {
          "base_uri": "https://localhost:8080/"
        },
        "outputId": "9a9fec8f-3bc4-47ea-f855-629ff62c309e"
      },
      "source": [
        "!pip install opendatasets\n"
      ],
      "execution_count": null,
      "outputs": [
        {
          "output_type": "stream",
          "name": "stdout",
          "text": [
            "Requirement already satisfied: opendatasets in /usr/local/lib/python3.7/dist-packages (0.1.20)\n",
            "Requirement already satisfied: click in /usr/local/lib/python3.7/dist-packages (from opendatasets) (7.1.2)\n",
            "Requirement already satisfied: tqdm in /usr/local/lib/python3.7/dist-packages (from opendatasets) (4.62.3)\n",
            "Requirement already satisfied: kaggle in /usr/local/lib/python3.7/dist-packages (from opendatasets) (1.5.12)\n",
            "Requirement already satisfied: urllib3 in /usr/local/lib/python3.7/dist-packages (from kaggle->opendatasets) (1.24.3)\n",
            "Requirement already satisfied: six>=1.10 in /usr/local/lib/python3.7/dist-packages (from kaggle->opendatasets) (1.15.0)\n",
            "Requirement already satisfied: requests in /usr/local/lib/python3.7/dist-packages (from kaggle->opendatasets) (2.23.0)\n",
            "Requirement already satisfied: certifi in /usr/local/lib/python3.7/dist-packages (from kaggle->opendatasets) (2021.5.30)\n",
            "Requirement already satisfied: python-dateutil in /usr/local/lib/python3.7/dist-packages (from kaggle->opendatasets) (2.8.2)\n",
            "Requirement already satisfied: python-slugify in /usr/local/lib/python3.7/dist-packages (from kaggle->opendatasets) (5.0.2)\n",
            "Requirement already satisfied: text-unidecode>=1.3 in /usr/local/lib/python3.7/dist-packages (from python-slugify->kaggle->opendatasets) (1.3)\n",
            "Requirement already satisfied: idna<3,>=2.5 in /usr/local/lib/python3.7/dist-packages (from requests->kaggle->opendatasets) (2.10)\n",
            "Requirement already satisfied: chardet<4,>=3.0.2 in /usr/local/lib/python3.7/dist-packages (from requests->kaggle->opendatasets) (3.0.4)\n"
          ]
        }
      ]
    },
    {
      "cell_type": "markdown",
      "metadata": {
        "id": "d08A9uuJM8_U"
      },
      "source": [
        "Import library opendatasets"
      ]
    },
    {
      "cell_type": "code",
      "metadata": {
        "id": "-sSWoK1YGmgK"
      },
      "source": [
        "import opendatasets as od"
      ],
      "execution_count": null,
      "outputs": []
    },
    {
      "cell_type": "markdown",
      "metadata": {
        "id": "ZYl-y9lHX3pj"
      },
      "source": [
        "## Data Understanding\n",
        "\n",
        "Data atau dataset yang digunakan pada proyek machine learning ini adalah data **Movie Recommendation Data** yang didapat dari situs kaggle. Link dataset dapat dilihat dari tautan berikut [movie-recommendation-data](https://www.kaggle.com/rohan4050/movie-recommendation-data)"
      ]
    },
    {
      "cell_type": "markdown",
      "metadata": {
        "id": "fJuf9AElNEOT"
      },
      "source": [
        "download dataset yang dibutuhkan, dengan menambah baris code seperti berikut :"
      ]
    },
    {
      "cell_type": "code",
      "metadata": {
        "colab": {
          "base_uri": "https://localhost:8080/"
        },
        "id": "mc6tVXtKaB3m",
        "outputId": "f7a2ae05-1cec-42a2-8d7f-de084468bb75"
      },
      "source": [
        "od.download('https://www.kaggle.com/rohan4050/movie-recommendation-data?select=ml-latest-small')"
      ],
      "execution_count": null,
      "outputs": [
        {
          "output_type": "stream",
          "name": "stdout",
          "text": [
            "Skipping, found downloaded files in \"./movie-recommendation-data\" (use force=True to force download)\n"
          ]
        }
      ]
    },
    {
      "cell_type": "markdown",
      "metadata": {
        "id": "8GyZMXxVaVei"
      },
      "source": [
        "Selanjutnya, baca data-data di atas dengan menggunakan fungsi pandas.read_csv"
      ]
    },
    {
      "cell_type": "code",
      "metadata": {
        "colab": {
          "base_uri": "https://localhost:8080/"
        },
        "id": "dbbCjBLHaUya",
        "outputId": "fc157da7-c15b-41d1-e608-02b7eb7ee3b6"
      },
      "source": [
        "import pandas as pd\n",
        " \n",
        "links = pd.read_csv('/content/movie-recommendation-data/ml-latest-small/links.csv')\n",
        "movies = pd.read_csv('/content/movie-recommendation-data/ml-latest-small/movies.csv')\n",
        "ratings = pd.read_csv('/content/movie-recommendation-data/ml-latest-small/ratings.csv')\n",
        "tags = pd.read_csv('/content/movie-recommendation-data/ml-latest-small/tags.csv')\n",
        "\n",
        "print('Jumlah data link movie : ', len(links.movieId.unique()))\n",
        "print('Jumlah data movie : ', len(movies.movieId.unique()))\n",
        "print('Jumlah data ratings dari user : ', len(ratings.userId.unique()))\n",
        "print('Jumlah data ratings dari user : ', len(ratings.movieId.unique()))\n",
        "print('Jumlah data : ', len(tags.movieId.unique()))\n"
      ],
      "execution_count": null,
      "outputs": [
        {
          "output_type": "stream",
          "name": "stdout",
          "text": [
            "Jumlah data link movie :  9742\n",
            "Jumlah data movie :  9742\n",
            "Jumlah data ratings dari user :  610\n",
            "Jumlah data ratings dari user :  9724\n",
            "Jumlah data :  1572\n"
          ]
        }
      ]
    },
    {
      "cell_type": "markdown",
      "metadata": {
        "id": "DgVamyCSarb0"
      },
      "source": [
        "### Univariate Exploratory Data Analysis\n",
        "Variabel-variabel pada movie-recommendation-data adalah sebagai berikut :\n",
        "\n",
        "- links : merupakan daftar link movie tersebut.\n",
        "- movies : merupakan daftar movie yang tersedia.\n",
        "- ratings : merupakan daftar penilaian yang diberikan pengguna terhadap movie.\n",
        "- tags : merupakan daftar kata kunci dari movie tersebut\n"
      ]
    },
    {
      "cell_type": "markdown",
      "metadata": {
        "id": "jqmiPJrSbDkU"
      },
      "source": [
        "####  Link Variabel\n",
        " eksplorasi variabel links, merupakan daftar link movie tersebut."
      ]
    },
    {
      "cell_type": "code",
      "metadata": {
        "colab": {
          "base_uri": "https://localhost:8080/"
        },
        "id": "aic0aBpYbGWb",
        "outputId": "c6e4d312-c10a-4627-aa6a-883e590fe447"
      },
      "source": [
        "links.info()"
      ],
      "execution_count": null,
      "outputs": [
        {
          "output_type": "stream",
          "name": "stdout",
          "text": [
            "<class 'pandas.core.frame.DataFrame'>\n",
            "RangeIndex: 9742 entries, 0 to 9741\n",
            "Data columns (total 3 columns):\n",
            " #   Column   Non-Null Count  Dtype  \n",
            "---  ------   --------------  -----  \n",
            " 0   movieId  9742 non-null   int64  \n",
            " 1   imdbId   9742 non-null   int64  \n",
            " 2   tmdbId   9734 non-null   float64\n",
            "dtypes: float64(1), int64(2)\n",
            "memory usage: 228.5 KB\n"
          ]
        }
      ]
    },
    {
      "cell_type": "markdown",
      "metadata": {
        "id": "WsKTQbyjYloa"
      },
      "source": [
        "####  movies Variabel\n",
        " eksplorasi variabel movies yang merupakan daftar movie yang tersedia."
      ]
    },
    {
      "cell_type": "code",
      "metadata": {
        "colab": {
          "base_uri": "https://localhost:8080/"
        },
        "id": "7beQSe34buyC",
        "outputId": "16344dcf-a020-4ffb-fac6-24e38b7773d8"
      },
      "source": [
        "movies.info()"
      ],
      "execution_count": null,
      "outputs": [
        {
          "output_type": "stream",
          "name": "stdout",
          "text": [
            "<class 'pandas.core.frame.DataFrame'>\n",
            "RangeIndex: 9742 entries, 0 to 9741\n",
            "Data columns (total 3 columns):\n",
            " #   Column   Non-Null Count  Dtype \n",
            "---  ------   --------------  ----- \n",
            " 0   movieId  9742 non-null   int64 \n",
            " 1   title    9742 non-null   object\n",
            " 2   genres   9742 non-null   object\n",
            "dtypes: int64(1), object(2)\n",
            "memory usage: 228.5+ KB\n"
          ]
        }
      ]
    },
    {
      "cell_type": "markdown",
      "metadata": {
        "id": "w8LAINmqci3c"
      },
      "source": [
        "#### Ratings\n",
        " eksplorasi data yang akan digunakan pada model yaitu data ratings."
      ]
    },
    {
      "cell_type": "code",
      "metadata": {
        "colab": {
          "base_uri": "https://localhost:8080/",
          "height": 204
        },
        "id": "6AtvsrCXcodd",
        "outputId": "b452e8c5-e192-4f48-b532-dac5ccb9a284"
      },
      "source": [
        "ratings.head()"
      ],
      "execution_count": null,
      "outputs": [
        {
          "output_type": "execute_result",
          "data": {
            "text/html": [
              "<div>\n",
              "<style scoped>\n",
              "    .dataframe tbody tr th:only-of-type {\n",
              "        vertical-align: middle;\n",
              "    }\n",
              "\n",
              "    .dataframe tbody tr th {\n",
              "        vertical-align: top;\n",
              "    }\n",
              "\n",
              "    .dataframe thead th {\n",
              "        text-align: right;\n",
              "    }\n",
              "</style>\n",
              "<table border=\"1\" class=\"dataframe\">\n",
              "  <thead>\n",
              "    <tr style=\"text-align: right;\">\n",
              "      <th></th>\n",
              "      <th>userId</th>\n",
              "      <th>movieId</th>\n",
              "      <th>rating</th>\n",
              "      <th>timestamp</th>\n",
              "    </tr>\n",
              "  </thead>\n",
              "  <tbody>\n",
              "    <tr>\n",
              "      <th>0</th>\n",
              "      <td>1</td>\n",
              "      <td>1</td>\n",
              "      <td>4.0</td>\n",
              "      <td>964982703</td>\n",
              "    </tr>\n",
              "    <tr>\n",
              "      <th>1</th>\n",
              "      <td>1</td>\n",
              "      <td>3</td>\n",
              "      <td>4.0</td>\n",
              "      <td>964981247</td>\n",
              "    </tr>\n",
              "    <tr>\n",
              "      <th>2</th>\n",
              "      <td>1</td>\n",
              "      <td>6</td>\n",
              "      <td>4.0</td>\n",
              "      <td>964982224</td>\n",
              "    </tr>\n",
              "    <tr>\n",
              "      <th>3</th>\n",
              "      <td>1</td>\n",
              "      <td>47</td>\n",
              "      <td>5.0</td>\n",
              "      <td>964983815</td>\n",
              "    </tr>\n",
              "    <tr>\n",
              "      <th>4</th>\n",
              "      <td>1</td>\n",
              "      <td>50</td>\n",
              "      <td>5.0</td>\n",
              "      <td>964982931</td>\n",
              "    </tr>\n",
              "  </tbody>\n",
              "</table>\n",
              "</div>"
            ],
            "text/plain": [
              "   userId  movieId  rating  timestamp\n",
              "0       1        1     4.0  964982703\n",
              "1       1        3     4.0  964981247\n",
              "2       1        6     4.0  964982224\n",
              "3       1       47     5.0  964983815\n",
              "4       1       50     5.0  964982931"
            ]
          },
          "metadata": {},
          "execution_count": 7
        }
      ]
    },
    {
      "cell_type": "markdown",
      "metadata": {
        "id": "R0sCgMM9ZR97"
      },
      "source": [
        "cek nilai data dari data ratings"
      ]
    },
    {
      "cell_type": "code",
      "metadata": {
        "colab": {
          "base_uri": "https://localhost:8080/",
          "height": 297
        },
        "id": "tukNUnMHcs_w",
        "outputId": "6085f5ec-33b4-44a1-86be-0f2f7ab22145"
      },
      "source": [
        "ratings.describe()"
      ],
      "execution_count": null,
      "outputs": [
        {
          "output_type": "execute_result",
          "data": {
            "text/html": [
              "<div>\n",
              "<style scoped>\n",
              "    .dataframe tbody tr th:only-of-type {\n",
              "        vertical-align: middle;\n",
              "    }\n",
              "\n",
              "    .dataframe tbody tr th {\n",
              "        vertical-align: top;\n",
              "    }\n",
              "\n",
              "    .dataframe thead th {\n",
              "        text-align: right;\n",
              "    }\n",
              "</style>\n",
              "<table border=\"1\" class=\"dataframe\">\n",
              "  <thead>\n",
              "    <tr style=\"text-align: right;\">\n",
              "      <th></th>\n",
              "      <th>userId</th>\n",
              "      <th>movieId</th>\n",
              "      <th>rating</th>\n",
              "      <th>timestamp</th>\n",
              "    </tr>\n",
              "  </thead>\n",
              "  <tbody>\n",
              "    <tr>\n",
              "      <th>count</th>\n",
              "      <td>100836.000000</td>\n",
              "      <td>100836.000000</td>\n",
              "      <td>100836.000000</td>\n",
              "      <td>1.008360e+05</td>\n",
              "    </tr>\n",
              "    <tr>\n",
              "      <th>mean</th>\n",
              "      <td>326.127564</td>\n",
              "      <td>19435.295718</td>\n",
              "      <td>3.501557</td>\n",
              "      <td>1.205946e+09</td>\n",
              "    </tr>\n",
              "    <tr>\n",
              "      <th>std</th>\n",
              "      <td>182.618491</td>\n",
              "      <td>35530.987199</td>\n",
              "      <td>1.042529</td>\n",
              "      <td>2.162610e+08</td>\n",
              "    </tr>\n",
              "    <tr>\n",
              "      <th>min</th>\n",
              "      <td>1.000000</td>\n",
              "      <td>1.000000</td>\n",
              "      <td>0.500000</td>\n",
              "      <td>8.281246e+08</td>\n",
              "    </tr>\n",
              "    <tr>\n",
              "      <th>25%</th>\n",
              "      <td>177.000000</td>\n",
              "      <td>1199.000000</td>\n",
              "      <td>3.000000</td>\n",
              "      <td>1.019124e+09</td>\n",
              "    </tr>\n",
              "    <tr>\n",
              "      <th>50%</th>\n",
              "      <td>325.000000</td>\n",
              "      <td>2991.000000</td>\n",
              "      <td>3.500000</td>\n",
              "      <td>1.186087e+09</td>\n",
              "    </tr>\n",
              "    <tr>\n",
              "      <th>75%</th>\n",
              "      <td>477.000000</td>\n",
              "      <td>8122.000000</td>\n",
              "      <td>4.000000</td>\n",
              "      <td>1.435994e+09</td>\n",
              "    </tr>\n",
              "    <tr>\n",
              "      <th>max</th>\n",
              "      <td>610.000000</td>\n",
              "      <td>193609.000000</td>\n",
              "      <td>5.000000</td>\n",
              "      <td>1.537799e+09</td>\n",
              "    </tr>\n",
              "  </tbody>\n",
              "</table>\n",
              "</div>"
            ],
            "text/plain": [
              "              userId        movieId         rating     timestamp\n",
              "count  100836.000000  100836.000000  100836.000000  1.008360e+05\n",
              "mean      326.127564   19435.295718       3.501557  1.205946e+09\n",
              "std       182.618491   35530.987199       1.042529  2.162610e+08\n",
              "min         1.000000       1.000000       0.500000  8.281246e+08\n",
              "25%       177.000000    1199.000000       3.000000  1.019124e+09\n",
              "50%       325.000000    2991.000000       3.500000  1.186087e+09\n",
              "75%       477.000000    8122.000000       4.000000  1.435994e+09\n",
              "max       610.000000  193609.000000       5.000000  1.537799e+09"
            ]
          },
          "metadata": {},
          "execution_count": 8
        }
      ]
    },
    {
      "cell_type": "markdown",
      "metadata": {
        "id": "9D2H5CzqdIqc"
      },
      "source": [
        "Dari output di atas, diketahui bahwa nilai maksimum ratings adalah 5 dan nilai minimumnya adalah 0.5. Artinya, skala rating berkisar antara 0.5 hingga 5. "
      ]
    },
    {
      "cell_type": "markdown",
      "metadata": {
        "id": "4JDbMFjidam-"
      },
      "source": [
        "## Data Preprocessing\n",
        "\n",
        "\n",
        "### Menggabungkan Movie\n",
        "menggabungkan beberapa file dengan fungsi concatenate berdasarkan pada movieId, gabungkan seluruh data pada variabel movie_all\n",
        "\n",
        "\n",
        "\n"
      ]
    },
    {
      "cell_type": "code",
      "metadata": {
        "colab": {
          "base_uri": "https://localhost:8080/"
        },
        "id": "wUWZhuFWdk36",
        "outputId": "60b74950-5b35-46f3-ede3-244cc7f2dca9"
      },
      "source": [
        "import numpy as np\n",
        " \n",
        "# Menggabungkan seluruh movieID pada kategori movie\n",
        "movie_all = np.concatenate((\n",
        "    links.movieId.unique(),\n",
        "    movies.movieId.unique(),\n",
        "    ratings.movieId.unique(),\n",
        "    tags.movieId.unique(),\n",
        "))\n",
        " \n",
        "# Mengurutkan data dan menghapus data yang sama\n",
        "movie_all = np.sort(np.unique(movie_all))\n",
        " \n",
        "print('Jumlah seluruh data movie berdasarkan movieID: ', len(movie_all))"
      ],
      "execution_count": null,
      "outputs": [
        {
          "output_type": "stream",
          "name": "stdout",
          "text": [
            "Jumlah seluruh data movie berdasarkan movieID:  9742\n"
          ]
        }
      ]
    },
    {
      "cell_type": "markdown",
      "metadata": {
        "id": "HDGh2SBAds2u"
      },
      "source": [
        "### Menggabungkan Seluruh User\n",
        "menggabungkan beberapa file dengan fungsi concatenate berdasarkan pada userId, gabungkan seluruh data pada variabel user_all"
      ]
    },
    {
      "cell_type": "code",
      "metadata": {
        "colab": {
          "base_uri": "https://localhost:8080/"
        },
        "id": "Ee-_z7-Edsbk",
        "outputId": "d06d7f64-e755-4767-8812-daa39ecf7b03"
      },
      "source": [
        "# Menggabungkan seluruh userId\n",
        "user_all = np.concatenate((\n",
        "    ratings.userId.unique(),\n",
        "    tags.userId.unique(),\n",
        "   \n",
        "))\n",
        " \n",
        "# Menghapus data yang sama kemudian mengurutkannya\n",
        "user_all = np.sort(np.unique(user_all)) \n",
        " \n",
        "print('Jumlah seluruh user: ', len(user_all))"
      ],
      "execution_count": null,
      "outputs": [
        {
          "output_type": "stream",
          "name": "stdout",
          "text": [
            "Jumlah seluruh user:  610\n"
          ]
        }
      ]
    },
    {
      "cell_type": "markdown",
      "metadata": {
        "id": "MMVOJKQEd0NU"
      },
      "source": [
        "Menggabungkan file links, movies, ratingsm tags ke dalam dataframe movie_info. Serta menggabungkan dataframe ratings dengan movie_info berdasarkan nilai movieId"
      ]
    },
    {
      "cell_type": "code",
      "metadata": {
        "colab": {
          "base_uri": "https://localhost:8080/",
          "height": 541
        },
        "id": "Z6o8vxu9d4cd",
        "outputId": "8969d09f-7c8c-4fb9-b471-3db166ce1a06"
      },
      "source": [
        "movie_info = pd.concat([links, movies, ratings, tags])\n",
        "movie = pd.merge(ratings, movie_info , on='movieId', how='left')\n",
        "movie"
      ],
      "execution_count": null,
      "outputs": [
        {
          "output_type": "execute_result",
          "data": {
            "text/html": [
              "<div>\n",
              "<style scoped>\n",
              "    .dataframe tbody tr th:only-of-type {\n",
              "        vertical-align: middle;\n",
              "    }\n",
              "\n",
              "    .dataframe tbody tr th {\n",
              "        vertical-align: top;\n",
              "    }\n",
              "\n",
              "    .dataframe thead th {\n",
              "        text-align: right;\n",
              "    }\n",
              "</style>\n",
              "<table border=\"1\" class=\"dataframe\">\n",
              "  <thead>\n",
              "    <tr style=\"text-align: right;\">\n",
              "      <th></th>\n",
              "      <th>userId_x</th>\n",
              "      <th>movieId</th>\n",
              "      <th>rating_x</th>\n",
              "      <th>timestamp_x</th>\n",
              "      <th>imdbId</th>\n",
              "      <th>tmdbId</th>\n",
              "      <th>title</th>\n",
              "      <th>genres</th>\n",
              "      <th>userId_y</th>\n",
              "      <th>rating_y</th>\n",
              "      <th>timestamp_y</th>\n",
              "      <th>tag</th>\n",
              "    </tr>\n",
              "  </thead>\n",
              "  <tbody>\n",
              "    <tr>\n",
              "      <th>0</th>\n",
              "      <td>1</td>\n",
              "      <td>1</td>\n",
              "      <td>4.0</td>\n",
              "      <td>964982703</td>\n",
              "      <td>114709.0</td>\n",
              "      <td>862.0</td>\n",
              "      <td>NaN</td>\n",
              "      <td>NaN</td>\n",
              "      <td>NaN</td>\n",
              "      <td>NaN</td>\n",
              "      <td>NaN</td>\n",
              "      <td>NaN</td>\n",
              "    </tr>\n",
              "    <tr>\n",
              "      <th>1</th>\n",
              "      <td>1</td>\n",
              "      <td>1</td>\n",
              "      <td>4.0</td>\n",
              "      <td>964982703</td>\n",
              "      <td>NaN</td>\n",
              "      <td>NaN</td>\n",
              "      <td>Toy Story (1995)</td>\n",
              "      <td>Adventure|Animation|Children|Comedy|Fantasy</td>\n",
              "      <td>NaN</td>\n",
              "      <td>NaN</td>\n",
              "      <td>NaN</td>\n",
              "      <td>NaN</td>\n",
              "    </tr>\n",
              "    <tr>\n",
              "      <th>2</th>\n",
              "      <td>1</td>\n",
              "      <td>1</td>\n",
              "      <td>4.0</td>\n",
              "      <td>964982703</td>\n",
              "      <td>NaN</td>\n",
              "      <td>NaN</td>\n",
              "      <td>NaN</td>\n",
              "      <td>NaN</td>\n",
              "      <td>1.0</td>\n",
              "      <td>4.0</td>\n",
              "      <td>9.649827e+08</td>\n",
              "      <td>NaN</td>\n",
              "    </tr>\n",
              "    <tr>\n",
              "      <th>3</th>\n",
              "      <td>1</td>\n",
              "      <td>1</td>\n",
              "      <td>4.0</td>\n",
              "      <td>964982703</td>\n",
              "      <td>NaN</td>\n",
              "      <td>NaN</td>\n",
              "      <td>NaN</td>\n",
              "      <td>NaN</td>\n",
              "      <td>5.0</td>\n",
              "      <td>4.0</td>\n",
              "      <td>8.474350e+08</td>\n",
              "      <td>NaN</td>\n",
              "    </tr>\n",
              "    <tr>\n",
              "      <th>4</th>\n",
              "      <td>1</td>\n",
              "      <td>1</td>\n",
              "      <td>4.0</td>\n",
              "      <td>964982703</td>\n",
              "      <td>NaN</td>\n",
              "      <td>NaN</td>\n",
              "      <td>NaN</td>\n",
              "      <td>NaN</td>\n",
              "      <td>7.0</td>\n",
              "      <td>4.5</td>\n",
              "      <td>1.106636e+09</td>\n",
              "      <td>NaN</td>\n",
              "    </tr>\n",
              "    <tr>\n",
              "      <th>...</th>\n",
              "      <td>...</td>\n",
              "      <td>...</td>\n",
              "      <td>...</td>\n",
              "      <td>...</td>\n",
              "      <td>...</td>\n",
              "      <td>...</td>\n",
              "      <td>...</td>\n",
              "      <td>...</td>\n",
              "      <td>...</td>\n",
              "      <td>...</td>\n",
              "      <td>...</td>\n",
              "      <td>...</td>\n",
              "    </tr>\n",
              "    <tr>\n",
              "      <th>6359580</th>\n",
              "      <td>610</td>\n",
              "      <td>170875</td>\n",
              "      <td>3.0</td>\n",
              "      <td>1493846415</td>\n",
              "      <td>4630562.0</td>\n",
              "      <td>337339.0</td>\n",
              "      <td>NaN</td>\n",
              "      <td>NaN</td>\n",
              "      <td>NaN</td>\n",
              "      <td>NaN</td>\n",
              "      <td>NaN</td>\n",
              "      <td>NaN</td>\n",
              "    </tr>\n",
              "    <tr>\n",
              "      <th>6359581</th>\n",
              "      <td>610</td>\n",
              "      <td>170875</td>\n",
              "      <td>3.0</td>\n",
              "      <td>1493846415</td>\n",
              "      <td>NaN</td>\n",
              "      <td>NaN</td>\n",
              "      <td>The Fate of the Furious (2017)</td>\n",
              "      <td>Action|Crime|Drama|Thriller</td>\n",
              "      <td>NaN</td>\n",
              "      <td>NaN</td>\n",
              "      <td>NaN</td>\n",
              "      <td>NaN</td>\n",
              "    </tr>\n",
              "    <tr>\n",
              "      <th>6359582</th>\n",
              "      <td>610</td>\n",
              "      <td>170875</td>\n",
              "      <td>3.0</td>\n",
              "      <td>1493846415</td>\n",
              "      <td>NaN</td>\n",
              "      <td>NaN</td>\n",
              "      <td>NaN</td>\n",
              "      <td>NaN</td>\n",
              "      <td>50.0</td>\n",
              "      <td>1.0</td>\n",
              "      <td>1.514498e+09</td>\n",
              "      <td>NaN</td>\n",
              "    </tr>\n",
              "    <tr>\n",
              "      <th>6359583</th>\n",
              "      <td>610</td>\n",
              "      <td>170875</td>\n",
              "      <td>3.0</td>\n",
              "      <td>1493846415</td>\n",
              "      <td>NaN</td>\n",
              "      <td>NaN</td>\n",
              "      <td>NaN</td>\n",
              "      <td>NaN</td>\n",
              "      <td>249.0</td>\n",
              "      <td>3.0</td>\n",
              "      <td>1.505165e+09</td>\n",
              "      <td>NaN</td>\n",
              "    </tr>\n",
              "    <tr>\n",
              "      <th>6359584</th>\n",
              "      <td>610</td>\n",
              "      <td>170875</td>\n",
              "      <td>3.0</td>\n",
              "      <td>1493846415</td>\n",
              "      <td>NaN</td>\n",
              "      <td>NaN</td>\n",
              "      <td>NaN</td>\n",
              "      <td>NaN</td>\n",
              "      <td>610.0</td>\n",
              "      <td>3.0</td>\n",
              "      <td>1.493846e+09</td>\n",
              "      <td>NaN</td>\n",
              "    </tr>\n",
              "  </tbody>\n",
              "</table>\n",
              "<p>6359585 rows × 12 columns</p>\n",
              "</div>"
            ],
            "text/plain": [
              "         userId_x  movieId  rating_x  ...  rating_y   timestamp_y  tag\n",
              "0               1        1       4.0  ...       NaN           NaN  NaN\n",
              "1               1        1       4.0  ...       NaN           NaN  NaN\n",
              "2               1        1       4.0  ...       4.0  9.649827e+08  NaN\n",
              "3               1        1       4.0  ...       4.0  8.474350e+08  NaN\n",
              "4               1        1       4.0  ...       4.5  1.106636e+09  NaN\n",
              "...           ...      ...       ...  ...       ...           ...  ...\n",
              "6359580       610   170875       3.0  ...       NaN           NaN  NaN\n",
              "6359581       610   170875       3.0  ...       NaN           NaN  NaN\n",
              "6359582       610   170875       3.0  ...       1.0  1.514498e+09  NaN\n",
              "6359583       610   170875       3.0  ...       3.0  1.505165e+09  NaN\n",
              "6359584       610   170875       3.0  ...       3.0  1.493846e+09  NaN\n",
              "\n",
              "[6359585 rows x 12 columns]"
            ]
          },
          "metadata": {},
          "execution_count": 11
        }
      ]
    },
    {
      "cell_type": "markdown",
      "metadata": {
        "id": "jJYUmT4geR6y"
      },
      "source": [
        "seperti yang dilihat dari hasil diatas terdapat banyak sekali missing value maka lakukan cek missing value\n"
      ]
    },
    {
      "cell_type": "code",
      "metadata": {
        "colab": {
          "base_uri": "https://localhost:8080/"
        },
        "id": "c4bGIhrHeT4b",
        "outputId": "f1668a89-edaf-48cd-c54c-c1a41e4bb196"
      },
      "source": [
        "movie.isnull().sum()"
      ],
      "execution_count": null,
      "outputs": [
        {
          "output_type": "execute_result",
          "data": {
            "text/plain": [
              "userId_x             0\n",
              "movieId              0\n",
              "rating_x             0\n",
              "timestamp_x          0\n",
              "imdbId         6258749\n",
              "tmdbId         6258762\n",
              "title          6258749\n",
              "genres         6258749\n",
              "userId_y        201672\n",
              "rating_y        434885\n",
              "timestamp_y     201672\n",
              "tag            6126372\n",
              "dtype: int64"
            ]
          },
          "metadata": {},
          "execution_count": 12
        }
      ]
    },
    {
      "cell_type": "markdown",
      "metadata": {
        "id": "IMrfrsLQb3v0"
      },
      "source": [
        "menggabungkan rating berdasarkan movieId"
      ]
    },
    {
      "cell_type": "code",
      "metadata": {
        "colab": {
          "base_uri": "https://localhost:8080/",
          "height": 450
        },
        "id": "J8P4byuEeaP0",
        "outputId": "a2449aa0-eac4-4fe2-b072-9bc683c8ba6d"
      },
      "source": [
        "movie.groupby('movieId').sum()"
      ],
      "execution_count": null,
      "outputs": [
        {
          "output_type": "execute_result",
          "data": {
            "text/html": [
              "<div>\n",
              "<style scoped>\n",
              "    .dataframe tbody tr th:only-of-type {\n",
              "        vertical-align: middle;\n",
              "    }\n",
              "\n",
              "    .dataframe tbody tr th {\n",
              "        vertical-align: top;\n",
              "    }\n",
              "\n",
              "    .dataframe thead th {\n",
              "        text-align: right;\n",
              "    }\n",
              "</style>\n",
              "<table border=\"1\" class=\"dataframe\">\n",
              "  <thead>\n",
              "    <tr style=\"text-align: right;\">\n",
              "      <th></th>\n",
              "      <th>userId_x</th>\n",
              "      <th>rating_x</th>\n",
              "      <th>timestamp_x</th>\n",
              "      <th>imdbId</th>\n",
              "      <th>tmdbId</th>\n",
              "      <th>userId_y</th>\n",
              "      <th>rating_y</th>\n",
              "      <th>timestamp_y</th>\n",
              "    </tr>\n",
              "    <tr>\n",
              "      <th>movieId</th>\n",
              "      <th></th>\n",
              "      <th></th>\n",
              "      <th></th>\n",
              "      <th></th>\n",
              "      <th></th>\n",
              "      <th></th>\n",
              "      <th></th>\n",
              "      <th></th>\n",
              "    </tr>\n",
              "  </thead>\n",
              "  <tbody>\n",
              "    <tr>\n",
              "      <th>1</th>\n",
              "      <td>14498880</td>\n",
              "      <td>185460.0</td>\n",
              "      <td>53441180205380</td>\n",
              "      <td>24662435.0</td>\n",
              "      <td>185330.0</td>\n",
              "      <td>14465415.0</td>\n",
              "      <td>181245.0</td>\n",
              "      <td>5.304394e+13</td>\n",
              "    </tr>\n",
              "    <tr>\n",
              "      <th>2</th>\n",
              "      <td>4205116</td>\n",
              "      <td>43790.0</td>\n",
              "      <td>14492875665352</td>\n",
              "      <td>12484670.0</td>\n",
              "      <td>972840.0</td>\n",
              "      <td>4060210.0</td>\n",
              "      <td>41525.0</td>\n",
              "      <td>1.437287e+13</td>\n",
              "    </tr>\n",
              "    <tr>\n",
              "      <th>3</th>\n",
              "      <td>825832</td>\n",
              "      <td>9492.0</td>\n",
              "      <td>2926881125616</td>\n",
              "      <td>5887856.0</td>\n",
              "      <td>811304.0</td>\n",
              "      <td>796900.0</td>\n",
              "      <td>8814.0</td>\n",
              "      <td>2.836734e+12</td>\n",
              "    </tr>\n",
              "    <tr>\n",
              "      <th>4</th>\n",
              "      <td>13851</td>\n",
              "      <td>148.5</td>\n",
              "      <td>56610468432</td>\n",
              "      <td>804195.0</td>\n",
              "      <td>219499.0</td>\n",
              "      <td>10773.0</td>\n",
              "      <td>115.5</td>\n",
              "      <td>4.403036e+10</td>\n",
              "    </tr>\n",
              "    <tr>\n",
              "      <th>5</th>\n",
              "      <td>777987</td>\n",
              "      <td>7976.5</td>\n",
              "      <td>2577949287482</td>\n",
              "      <td>5539009.0</td>\n",
              "      <td>581238.0</td>\n",
              "      <td>765723.0</td>\n",
              "      <td>7374.5</td>\n",
              "      <td>2.494850e+12</td>\n",
              "    </tr>\n",
              "    <tr>\n",
              "      <th>...</th>\n",
              "      <td>...</td>\n",
              "      <td>...</td>\n",
              "      <td>...</td>\n",
              "      <td>...</td>\n",
              "      <td>...</td>\n",
              "      <td>...</td>\n",
              "      <td>...</td>\n",
              "      <td>...</td>\n",
              "    </tr>\n",
              "    <tr>\n",
              "      <th>193581</th>\n",
              "      <td>552</td>\n",
              "      <td>12.0</td>\n",
              "      <td>4611327246</td>\n",
              "      <td>5476944.0</td>\n",
              "      <td>432131.0</td>\n",
              "      <td>184.0</td>\n",
              "      <td>4.0</td>\n",
              "      <td>1.537109e+09</td>\n",
              "    </tr>\n",
              "    <tr>\n",
              "      <th>193583</th>\n",
              "      <td>552</td>\n",
              "      <td>10.5</td>\n",
              "      <td>4611328635</td>\n",
              "      <td>5914996.0</td>\n",
              "      <td>445030.0</td>\n",
              "      <td>184.0</td>\n",
              "      <td>3.5</td>\n",
              "      <td>1.537110e+09</td>\n",
              "    </tr>\n",
              "    <tr>\n",
              "      <th>193585</th>\n",
              "      <td>552</td>\n",
              "      <td>10.5</td>\n",
              "      <td>4611329415</td>\n",
              "      <td>6397426.0</td>\n",
              "      <td>479308.0</td>\n",
              "      <td>184.0</td>\n",
              "      <td>3.5</td>\n",
              "      <td>1.537110e+09</td>\n",
              "    </tr>\n",
              "    <tr>\n",
              "      <th>193587</th>\n",
              "      <td>552</td>\n",
              "      <td>10.5</td>\n",
              "      <td>4611330063</td>\n",
              "      <td>8391976.0</td>\n",
              "      <td>483455.0</td>\n",
              "      <td>184.0</td>\n",
              "      <td>3.5</td>\n",
              "      <td>1.537110e+09</td>\n",
              "    </tr>\n",
              "    <tr>\n",
              "      <th>193609</th>\n",
              "      <td>993</td>\n",
              "      <td>12.0</td>\n",
              "      <td>4611472818</td>\n",
              "      <td>101726.0</td>\n",
              "      <td>37891.0</td>\n",
              "      <td>331.0</td>\n",
              "      <td>4.0</td>\n",
              "      <td>1.537158e+09</td>\n",
              "    </tr>\n",
              "  </tbody>\n",
              "</table>\n",
              "<p>9724 rows × 8 columns</p>\n",
              "</div>"
            ],
            "text/plain": [
              "         userId_x  rating_x     timestamp_x  ...    userId_y  rating_y   timestamp_y\n",
              "movieId                                      ...                                    \n",
              "1        14498880  185460.0  53441180205380  ...  14465415.0  181245.0  5.304394e+13\n",
              "2         4205116   43790.0  14492875665352  ...   4060210.0   41525.0  1.437287e+13\n",
              "3          825832    9492.0   2926881125616  ...    796900.0    8814.0  2.836734e+12\n",
              "4           13851     148.5     56610468432  ...     10773.0     115.5  4.403036e+10\n",
              "5          777987    7976.5   2577949287482  ...    765723.0    7374.5  2.494850e+12\n",
              "...           ...       ...             ...  ...         ...       ...           ...\n",
              "193581        552      12.0      4611327246  ...       184.0       4.0  1.537109e+09\n",
              "193583        552      10.5      4611328635  ...       184.0       3.5  1.537110e+09\n",
              "193585        552      10.5      4611329415  ...       184.0       3.5  1.537110e+09\n",
              "193587        552      10.5      4611330063  ...       184.0       3.5  1.537110e+09\n",
              "193609        993      12.0      4611472818  ...       331.0       4.0  1.537158e+09\n",
              "\n",
              "[9724 rows x 8 columns]"
            ]
          },
          "metadata": {},
          "execution_count": 13
        }
      ]
    },
    {
      "cell_type": "markdown",
      "metadata": {
        "id": "9pNaVVD9ekSS"
      },
      "source": [
        "### Menggabungkan Data dengan Fitur Nama Movie\n",
        "\n",
        "mendefinisikan variabel all_movie_rate dengan variabel ratings "
      ]
    },
    {
      "cell_type": "code",
      "metadata": {
        "colab": {
          "base_uri": "https://localhost:8080/",
          "height": 419
        },
        "id": "sNijmVwJenTL",
        "outputId": "7102c1e7-b3b1-4eb2-b414-a403ac244367"
      },
      "source": [
        "all_movie_rate = ratings\n",
        "all_movie_rate"
      ],
      "execution_count": null,
      "outputs": [
        {
          "output_type": "execute_result",
          "data": {
            "text/html": [
              "<div>\n",
              "<style scoped>\n",
              "    .dataframe tbody tr th:only-of-type {\n",
              "        vertical-align: middle;\n",
              "    }\n",
              "\n",
              "    .dataframe tbody tr th {\n",
              "        vertical-align: top;\n",
              "    }\n",
              "\n",
              "    .dataframe thead th {\n",
              "        text-align: right;\n",
              "    }\n",
              "</style>\n",
              "<table border=\"1\" class=\"dataframe\">\n",
              "  <thead>\n",
              "    <tr style=\"text-align: right;\">\n",
              "      <th></th>\n",
              "      <th>userId</th>\n",
              "      <th>movieId</th>\n",
              "      <th>rating</th>\n",
              "      <th>timestamp</th>\n",
              "    </tr>\n",
              "  </thead>\n",
              "  <tbody>\n",
              "    <tr>\n",
              "      <th>0</th>\n",
              "      <td>1</td>\n",
              "      <td>1</td>\n",
              "      <td>4.0</td>\n",
              "      <td>964982703</td>\n",
              "    </tr>\n",
              "    <tr>\n",
              "      <th>1</th>\n",
              "      <td>1</td>\n",
              "      <td>3</td>\n",
              "      <td>4.0</td>\n",
              "      <td>964981247</td>\n",
              "    </tr>\n",
              "    <tr>\n",
              "      <th>2</th>\n",
              "      <td>1</td>\n",
              "      <td>6</td>\n",
              "      <td>4.0</td>\n",
              "      <td>964982224</td>\n",
              "    </tr>\n",
              "    <tr>\n",
              "      <th>3</th>\n",
              "      <td>1</td>\n",
              "      <td>47</td>\n",
              "      <td>5.0</td>\n",
              "      <td>964983815</td>\n",
              "    </tr>\n",
              "    <tr>\n",
              "      <th>4</th>\n",
              "      <td>1</td>\n",
              "      <td>50</td>\n",
              "      <td>5.0</td>\n",
              "      <td>964982931</td>\n",
              "    </tr>\n",
              "    <tr>\n",
              "      <th>...</th>\n",
              "      <td>...</td>\n",
              "      <td>...</td>\n",
              "      <td>...</td>\n",
              "      <td>...</td>\n",
              "    </tr>\n",
              "    <tr>\n",
              "      <th>100831</th>\n",
              "      <td>610</td>\n",
              "      <td>166534</td>\n",
              "      <td>4.0</td>\n",
              "      <td>1493848402</td>\n",
              "    </tr>\n",
              "    <tr>\n",
              "      <th>100832</th>\n",
              "      <td>610</td>\n",
              "      <td>168248</td>\n",
              "      <td>5.0</td>\n",
              "      <td>1493850091</td>\n",
              "    </tr>\n",
              "    <tr>\n",
              "      <th>100833</th>\n",
              "      <td>610</td>\n",
              "      <td>168250</td>\n",
              "      <td>5.0</td>\n",
              "      <td>1494273047</td>\n",
              "    </tr>\n",
              "    <tr>\n",
              "      <th>100834</th>\n",
              "      <td>610</td>\n",
              "      <td>168252</td>\n",
              "      <td>5.0</td>\n",
              "      <td>1493846352</td>\n",
              "    </tr>\n",
              "    <tr>\n",
              "      <th>100835</th>\n",
              "      <td>610</td>\n",
              "      <td>170875</td>\n",
              "      <td>3.0</td>\n",
              "      <td>1493846415</td>\n",
              "    </tr>\n",
              "  </tbody>\n",
              "</table>\n",
              "<p>100836 rows × 4 columns</p>\n",
              "</div>"
            ],
            "text/plain": [
              "        userId  movieId  rating   timestamp\n",
              "0            1        1     4.0   964982703\n",
              "1            1        3     4.0   964981247\n",
              "2            1        6     4.0   964982224\n",
              "3            1       47     5.0   964983815\n",
              "4            1       50     5.0   964982931\n",
              "...        ...      ...     ...         ...\n",
              "100831     610   166534     4.0  1493848402\n",
              "100832     610   168248     5.0  1493850091\n",
              "100833     610   168250     5.0  1494273047\n",
              "100834     610   168252     5.0  1493846352\n",
              "100835     610   170875     3.0  1493846415\n",
              "\n",
              "[100836 rows x 4 columns]"
            ]
          },
          "metadata": {},
          "execution_count": 14
        }
      ]
    },
    {
      "cell_type": "markdown",
      "metadata": {
        "id": "Lz8HHnLyevq9"
      },
      "source": [
        "Menggabungkan all movie_rate dengan dataframe movies berdasarkan movieId "
      ]
    },
    {
      "cell_type": "code",
      "metadata": {
        "colab": {
          "base_uri": "https://localhost:8080/",
          "height": 419
        },
        "id": "WwucJQmnevTF",
        "outputId": "ad33ca6e-47a6-4fcb-eac7-7913f3931a69"
      },
      "source": [
        "all_movie_name = pd.merge(all_movie_rate, movies[['movieId','title','genres']], on='movieId', how='left')\n",
        "all_movie_name"
      ],
      "execution_count": null,
      "outputs": [
        {
          "output_type": "execute_result",
          "data": {
            "text/html": [
              "<div>\n",
              "<style scoped>\n",
              "    .dataframe tbody tr th:only-of-type {\n",
              "        vertical-align: middle;\n",
              "    }\n",
              "\n",
              "    .dataframe tbody tr th {\n",
              "        vertical-align: top;\n",
              "    }\n",
              "\n",
              "    .dataframe thead th {\n",
              "        text-align: right;\n",
              "    }\n",
              "</style>\n",
              "<table border=\"1\" class=\"dataframe\">\n",
              "  <thead>\n",
              "    <tr style=\"text-align: right;\">\n",
              "      <th></th>\n",
              "      <th>userId</th>\n",
              "      <th>movieId</th>\n",
              "      <th>rating</th>\n",
              "      <th>timestamp</th>\n",
              "      <th>title</th>\n",
              "      <th>genres</th>\n",
              "    </tr>\n",
              "  </thead>\n",
              "  <tbody>\n",
              "    <tr>\n",
              "      <th>0</th>\n",
              "      <td>1</td>\n",
              "      <td>1</td>\n",
              "      <td>4.0</td>\n",
              "      <td>964982703</td>\n",
              "      <td>Toy Story (1995)</td>\n",
              "      <td>Adventure|Animation|Children|Comedy|Fantasy</td>\n",
              "    </tr>\n",
              "    <tr>\n",
              "      <th>1</th>\n",
              "      <td>1</td>\n",
              "      <td>3</td>\n",
              "      <td>4.0</td>\n",
              "      <td>964981247</td>\n",
              "      <td>Grumpier Old Men (1995)</td>\n",
              "      <td>Comedy|Romance</td>\n",
              "    </tr>\n",
              "    <tr>\n",
              "      <th>2</th>\n",
              "      <td>1</td>\n",
              "      <td>6</td>\n",
              "      <td>4.0</td>\n",
              "      <td>964982224</td>\n",
              "      <td>Heat (1995)</td>\n",
              "      <td>Action|Crime|Thriller</td>\n",
              "    </tr>\n",
              "    <tr>\n",
              "      <th>3</th>\n",
              "      <td>1</td>\n",
              "      <td>47</td>\n",
              "      <td>5.0</td>\n",
              "      <td>964983815</td>\n",
              "      <td>Seven (a.k.a. Se7en) (1995)</td>\n",
              "      <td>Mystery|Thriller</td>\n",
              "    </tr>\n",
              "    <tr>\n",
              "      <th>4</th>\n",
              "      <td>1</td>\n",
              "      <td>50</td>\n",
              "      <td>5.0</td>\n",
              "      <td>964982931</td>\n",
              "      <td>Usual Suspects, The (1995)</td>\n",
              "      <td>Crime|Mystery|Thriller</td>\n",
              "    </tr>\n",
              "    <tr>\n",
              "      <th>...</th>\n",
              "      <td>...</td>\n",
              "      <td>...</td>\n",
              "      <td>...</td>\n",
              "      <td>...</td>\n",
              "      <td>...</td>\n",
              "      <td>...</td>\n",
              "    </tr>\n",
              "    <tr>\n",
              "      <th>100831</th>\n",
              "      <td>610</td>\n",
              "      <td>166534</td>\n",
              "      <td>4.0</td>\n",
              "      <td>1493848402</td>\n",
              "      <td>Split (2017)</td>\n",
              "      <td>Drama|Horror|Thriller</td>\n",
              "    </tr>\n",
              "    <tr>\n",
              "      <th>100832</th>\n",
              "      <td>610</td>\n",
              "      <td>168248</td>\n",
              "      <td>5.0</td>\n",
              "      <td>1493850091</td>\n",
              "      <td>John Wick: Chapter Two (2017)</td>\n",
              "      <td>Action|Crime|Thriller</td>\n",
              "    </tr>\n",
              "    <tr>\n",
              "      <th>100833</th>\n",
              "      <td>610</td>\n",
              "      <td>168250</td>\n",
              "      <td>5.0</td>\n",
              "      <td>1494273047</td>\n",
              "      <td>Get Out (2017)</td>\n",
              "      <td>Horror</td>\n",
              "    </tr>\n",
              "    <tr>\n",
              "      <th>100834</th>\n",
              "      <td>610</td>\n",
              "      <td>168252</td>\n",
              "      <td>5.0</td>\n",
              "      <td>1493846352</td>\n",
              "      <td>Logan (2017)</td>\n",
              "      <td>Action|Sci-Fi</td>\n",
              "    </tr>\n",
              "    <tr>\n",
              "      <th>100835</th>\n",
              "      <td>610</td>\n",
              "      <td>170875</td>\n",
              "      <td>3.0</td>\n",
              "      <td>1493846415</td>\n",
              "      <td>The Fate of the Furious (2017)</td>\n",
              "      <td>Action|Crime|Drama|Thriller</td>\n",
              "    </tr>\n",
              "  </tbody>\n",
              "</table>\n",
              "<p>100836 rows × 6 columns</p>\n",
              "</div>"
            ],
            "text/plain": [
              "        userId  ...                                       genres\n",
              "0            1  ...  Adventure|Animation|Children|Comedy|Fantasy\n",
              "1            1  ...                               Comedy|Romance\n",
              "2            1  ...                        Action|Crime|Thriller\n",
              "3            1  ...                             Mystery|Thriller\n",
              "4            1  ...                       Crime|Mystery|Thriller\n",
              "...        ...  ...                                          ...\n",
              "100831     610  ...                        Drama|Horror|Thriller\n",
              "100832     610  ...                        Action|Crime|Thriller\n",
              "100833     610  ...                                       Horror\n",
              "100834     610  ...                                Action|Sci-Fi\n",
              "100835     610  ...                  Action|Crime|Drama|Thriller\n",
              "\n",
              "[100836 rows x 6 columns]"
            ]
          },
          "metadata": {},
          "execution_count": 15
        }
      ]
    },
    {
      "cell_type": "markdown",
      "metadata": {
        "id": "C_J0MPIke9Bd"
      },
      "source": [
        "Menggabungkan dataframe tags dengan all_movie_name berdasarkan movieId dan memasukkannya ke dalam variabel all_movie"
      ]
    },
    {
      "cell_type": "code",
      "metadata": {
        "colab": {
          "base_uri": "https://localhost:8080/",
          "height": 419
        },
        "id": "JWbVLFgnfAa9",
        "outputId": "6f9f5e23-377f-4619-b8e7-673550dca2d3"
      },
      "source": [
        "# Menggabungkan dataframe genres dengan all_movie_name dan memasukkannya ke dalam variabel all_movie\n",
        "all_movie = pd.merge(all_movie_name, tags[['movieId','tag']], on='movieId', how='left')\n",
        "all_movie"
      ],
      "execution_count": null,
      "outputs": [
        {
          "output_type": "execute_result",
          "data": {
            "text/html": [
              "<div>\n",
              "<style scoped>\n",
              "    .dataframe tbody tr th:only-of-type {\n",
              "        vertical-align: middle;\n",
              "    }\n",
              "\n",
              "    .dataframe tbody tr th {\n",
              "        vertical-align: top;\n",
              "    }\n",
              "\n",
              "    .dataframe thead th {\n",
              "        text-align: right;\n",
              "    }\n",
              "</style>\n",
              "<table border=\"1\" class=\"dataframe\">\n",
              "  <thead>\n",
              "    <tr style=\"text-align: right;\">\n",
              "      <th></th>\n",
              "      <th>userId</th>\n",
              "      <th>movieId</th>\n",
              "      <th>rating</th>\n",
              "      <th>timestamp</th>\n",
              "      <th>title</th>\n",
              "      <th>genres</th>\n",
              "      <th>tag</th>\n",
              "    </tr>\n",
              "  </thead>\n",
              "  <tbody>\n",
              "    <tr>\n",
              "      <th>0</th>\n",
              "      <td>1</td>\n",
              "      <td>1</td>\n",
              "      <td>4.0</td>\n",
              "      <td>964982703</td>\n",
              "      <td>Toy Story (1995)</td>\n",
              "      <td>Adventure|Animation|Children|Comedy|Fantasy</td>\n",
              "      <td>pixar</td>\n",
              "    </tr>\n",
              "    <tr>\n",
              "      <th>1</th>\n",
              "      <td>1</td>\n",
              "      <td>1</td>\n",
              "      <td>4.0</td>\n",
              "      <td>964982703</td>\n",
              "      <td>Toy Story (1995)</td>\n",
              "      <td>Adventure|Animation|Children|Comedy|Fantasy</td>\n",
              "      <td>pixar</td>\n",
              "    </tr>\n",
              "    <tr>\n",
              "      <th>2</th>\n",
              "      <td>1</td>\n",
              "      <td>1</td>\n",
              "      <td>4.0</td>\n",
              "      <td>964982703</td>\n",
              "      <td>Toy Story (1995)</td>\n",
              "      <td>Adventure|Animation|Children|Comedy|Fantasy</td>\n",
              "      <td>fun</td>\n",
              "    </tr>\n",
              "    <tr>\n",
              "      <th>3</th>\n",
              "      <td>1</td>\n",
              "      <td>3</td>\n",
              "      <td>4.0</td>\n",
              "      <td>964981247</td>\n",
              "      <td>Grumpier Old Men (1995)</td>\n",
              "      <td>Comedy|Romance</td>\n",
              "      <td>moldy</td>\n",
              "    </tr>\n",
              "    <tr>\n",
              "      <th>4</th>\n",
              "      <td>1</td>\n",
              "      <td>3</td>\n",
              "      <td>4.0</td>\n",
              "      <td>964981247</td>\n",
              "      <td>Grumpier Old Men (1995)</td>\n",
              "      <td>Comedy|Romance</td>\n",
              "      <td>old</td>\n",
              "    </tr>\n",
              "    <tr>\n",
              "      <th>...</th>\n",
              "      <td>...</td>\n",
              "      <td>...</td>\n",
              "      <td>...</td>\n",
              "      <td>...</td>\n",
              "      <td>...</td>\n",
              "      <td>...</td>\n",
              "      <td>...</td>\n",
              "    </tr>\n",
              "    <tr>\n",
              "      <th>285757</th>\n",
              "      <td>610</td>\n",
              "      <td>168252</td>\n",
              "      <td>5.0</td>\n",
              "      <td>1493846352</td>\n",
              "      <td>Logan (2017)</td>\n",
              "      <td>Action|Sci-Fi</td>\n",
              "      <td>emotional</td>\n",
              "    </tr>\n",
              "    <tr>\n",
              "      <th>285758</th>\n",
              "      <td>610</td>\n",
              "      <td>168252</td>\n",
              "      <td>5.0</td>\n",
              "      <td>1493846352</td>\n",
              "      <td>Logan (2017)</td>\n",
              "      <td>Action|Sci-Fi</td>\n",
              "      <td>gritty</td>\n",
              "    </tr>\n",
              "    <tr>\n",
              "      <th>285759</th>\n",
              "      <td>610</td>\n",
              "      <td>168252</td>\n",
              "      <td>5.0</td>\n",
              "      <td>1493846352</td>\n",
              "      <td>Logan (2017)</td>\n",
              "      <td>Action|Sci-Fi</td>\n",
              "      <td>heartbreaking</td>\n",
              "    </tr>\n",
              "    <tr>\n",
              "      <th>285760</th>\n",
              "      <td>610</td>\n",
              "      <td>168252</td>\n",
              "      <td>5.0</td>\n",
              "      <td>1493846352</td>\n",
              "      <td>Logan (2017)</td>\n",
              "      <td>Action|Sci-Fi</td>\n",
              "      <td>predictible plot</td>\n",
              "    </tr>\n",
              "    <tr>\n",
              "      <th>285761</th>\n",
              "      <td>610</td>\n",
              "      <td>170875</td>\n",
              "      <td>3.0</td>\n",
              "      <td>1493846415</td>\n",
              "      <td>The Fate of the Furious (2017)</td>\n",
              "      <td>Action|Crime|Drama|Thriller</td>\n",
              "      <td>NaN</td>\n",
              "    </tr>\n",
              "  </tbody>\n",
              "</table>\n",
              "<p>285762 rows × 7 columns</p>\n",
              "</div>"
            ],
            "text/plain": [
              "        userId  ...               tag\n",
              "0            1  ...             pixar\n",
              "1            1  ...             pixar\n",
              "2            1  ...               fun\n",
              "3            1  ...             moldy\n",
              "4            1  ...               old\n",
              "...        ...  ...               ...\n",
              "285757     610  ...         emotional\n",
              "285758     610  ...            gritty\n",
              "285759     610  ...     heartbreaking\n",
              "285760     610  ...  predictible plot\n",
              "285761     610  ...               NaN\n",
              "\n",
              "[285762 rows x 7 columns]"
            ]
          },
          "metadata": {},
          "execution_count": 16
        }
      ]
    },
    {
      "cell_type": "markdown",
      "metadata": {
        "id": "NUE0UkmxfJsZ"
      },
      "source": [
        "## Data Preparation\n",
        "\n",
        "\n",
        "### Mengatasi Missing Value\n",
        "Mencari data apakah ada data kosong atau tidak"
      ]
    },
    {
      "cell_type": "code",
      "metadata": {
        "colab": {
          "base_uri": "https://localhost:8080/"
        },
        "id": "ZO1jqCsXfOPX",
        "outputId": "cf24bd28-863a-45b2-8c0a-b25527f56259"
      },
      "source": [
        "all_movie.isnull().sum()\n"
      ],
      "execution_count": null,
      "outputs": [
        {
          "output_type": "execute_result",
          "data": {
            "text/plain": [
              "userId           0\n",
              "movieId          0\n",
              "rating           0\n",
              "timestamp        0\n",
              "title            0\n",
              "genres           0\n",
              "tag          52549\n",
              "dtype: int64"
            ]
          },
          "metadata": {},
          "execution_count": 17
        }
      ]
    },
    {
      "cell_type": "markdown",
      "metadata": {
        "id": "UylX9xq4fRIc"
      },
      "source": [
        "ternyata dari data diatas terdapat data kosong pada kolom tag yaitu 52549, maka dilakukanlah pembersihan missing value dengan fungsi dropna()"
      ]
    },
    {
      "cell_type": "code",
      "metadata": {
        "colab": {
          "base_uri": "https://localhost:8080/",
          "height": 419
        },
        "id": "wJYSwUNWfWn9",
        "outputId": "1160c31b-9910-4b18-a9ff-993c44fae50c"
      },
      "source": [
        "all_movie_clean = all_movie.dropna()\n",
        "all_movie_clean"
      ],
      "execution_count": null,
      "outputs": [
        {
          "output_type": "execute_result",
          "data": {
            "text/html": [
              "<div>\n",
              "<style scoped>\n",
              "    .dataframe tbody tr th:only-of-type {\n",
              "        vertical-align: middle;\n",
              "    }\n",
              "\n",
              "    .dataframe tbody tr th {\n",
              "        vertical-align: top;\n",
              "    }\n",
              "\n",
              "    .dataframe thead th {\n",
              "        text-align: right;\n",
              "    }\n",
              "</style>\n",
              "<table border=\"1\" class=\"dataframe\">\n",
              "  <thead>\n",
              "    <tr style=\"text-align: right;\">\n",
              "      <th></th>\n",
              "      <th>userId</th>\n",
              "      <th>movieId</th>\n",
              "      <th>rating</th>\n",
              "      <th>timestamp</th>\n",
              "      <th>title</th>\n",
              "      <th>genres</th>\n",
              "      <th>tag</th>\n",
              "    </tr>\n",
              "  </thead>\n",
              "  <tbody>\n",
              "    <tr>\n",
              "      <th>0</th>\n",
              "      <td>1</td>\n",
              "      <td>1</td>\n",
              "      <td>4.0</td>\n",
              "      <td>964982703</td>\n",
              "      <td>Toy Story (1995)</td>\n",
              "      <td>Adventure|Animation|Children|Comedy|Fantasy</td>\n",
              "      <td>pixar</td>\n",
              "    </tr>\n",
              "    <tr>\n",
              "      <th>1</th>\n",
              "      <td>1</td>\n",
              "      <td>1</td>\n",
              "      <td>4.0</td>\n",
              "      <td>964982703</td>\n",
              "      <td>Toy Story (1995)</td>\n",
              "      <td>Adventure|Animation|Children|Comedy|Fantasy</td>\n",
              "      <td>pixar</td>\n",
              "    </tr>\n",
              "    <tr>\n",
              "      <th>2</th>\n",
              "      <td>1</td>\n",
              "      <td>1</td>\n",
              "      <td>4.0</td>\n",
              "      <td>964982703</td>\n",
              "      <td>Toy Story (1995)</td>\n",
              "      <td>Adventure|Animation|Children|Comedy|Fantasy</td>\n",
              "      <td>fun</td>\n",
              "    </tr>\n",
              "    <tr>\n",
              "      <th>3</th>\n",
              "      <td>1</td>\n",
              "      <td>3</td>\n",
              "      <td>4.0</td>\n",
              "      <td>964981247</td>\n",
              "      <td>Grumpier Old Men (1995)</td>\n",
              "      <td>Comedy|Romance</td>\n",
              "      <td>moldy</td>\n",
              "    </tr>\n",
              "    <tr>\n",
              "      <th>4</th>\n",
              "      <td>1</td>\n",
              "      <td>3</td>\n",
              "      <td>4.0</td>\n",
              "      <td>964981247</td>\n",
              "      <td>Grumpier Old Men (1995)</td>\n",
              "      <td>Comedy|Romance</td>\n",
              "      <td>old</td>\n",
              "    </tr>\n",
              "    <tr>\n",
              "      <th>...</th>\n",
              "      <td>...</td>\n",
              "      <td>...</td>\n",
              "      <td>...</td>\n",
              "      <td>...</td>\n",
              "      <td>...</td>\n",
              "      <td>...</td>\n",
              "      <td>...</td>\n",
              "    </tr>\n",
              "    <tr>\n",
              "      <th>285756</th>\n",
              "      <td>610</td>\n",
              "      <td>168252</td>\n",
              "      <td>5.0</td>\n",
              "      <td>1493846352</td>\n",
              "      <td>Logan (2017)</td>\n",
              "      <td>Action|Sci-Fi</td>\n",
              "      <td>dark</td>\n",
              "    </tr>\n",
              "    <tr>\n",
              "      <th>285757</th>\n",
              "      <td>610</td>\n",
              "      <td>168252</td>\n",
              "      <td>5.0</td>\n",
              "      <td>1493846352</td>\n",
              "      <td>Logan (2017)</td>\n",
              "      <td>Action|Sci-Fi</td>\n",
              "      <td>emotional</td>\n",
              "    </tr>\n",
              "    <tr>\n",
              "      <th>285758</th>\n",
              "      <td>610</td>\n",
              "      <td>168252</td>\n",
              "      <td>5.0</td>\n",
              "      <td>1493846352</td>\n",
              "      <td>Logan (2017)</td>\n",
              "      <td>Action|Sci-Fi</td>\n",
              "      <td>gritty</td>\n",
              "    </tr>\n",
              "    <tr>\n",
              "      <th>285759</th>\n",
              "      <td>610</td>\n",
              "      <td>168252</td>\n",
              "      <td>5.0</td>\n",
              "      <td>1493846352</td>\n",
              "      <td>Logan (2017)</td>\n",
              "      <td>Action|Sci-Fi</td>\n",
              "      <td>heartbreaking</td>\n",
              "    </tr>\n",
              "    <tr>\n",
              "      <th>285760</th>\n",
              "      <td>610</td>\n",
              "      <td>168252</td>\n",
              "      <td>5.0</td>\n",
              "      <td>1493846352</td>\n",
              "      <td>Logan (2017)</td>\n",
              "      <td>Action|Sci-Fi</td>\n",
              "      <td>predictible plot</td>\n",
              "    </tr>\n",
              "  </tbody>\n",
              "</table>\n",
              "<p>233213 rows × 7 columns</p>\n",
              "</div>"
            ],
            "text/plain": [
              "        userId  ...               tag\n",
              "0            1  ...             pixar\n",
              "1            1  ...             pixar\n",
              "2            1  ...               fun\n",
              "3            1  ...             moldy\n",
              "4            1  ...               old\n",
              "...        ...  ...               ...\n",
              "285756     610  ...              dark\n",
              "285757     610  ...         emotional\n",
              "285758     610  ...            gritty\n",
              "285759     610  ...     heartbreaking\n",
              "285760     610  ...  predictible plot\n",
              "\n",
              "[233213 rows x 7 columns]"
            ]
          },
          "metadata": {},
          "execution_count": 18
        }
      ]
    },
    {
      "cell_type": "markdown",
      "metadata": {
        "id": "9vGTpaUufaXb"
      },
      "source": [
        "data di atas beruabh menjadi 233213 baris yang awalnya 285762 baris. \n",
        "cek kembali missing value pada variabel all_movie_clean\n"
      ]
    },
    {
      "cell_type": "code",
      "metadata": {
        "colab": {
          "base_uri": "https://localhost:8080/"
        },
        "id": "qyxMof4mfcTl",
        "outputId": "6bf4c76b-0074-4652-d493-c5c414c2c896"
      },
      "source": [
        "all_movie_clean.isnull().sum()"
      ],
      "execution_count": null,
      "outputs": [
        {
          "output_type": "execute_result",
          "data": {
            "text/plain": [
              "userId       0\n",
              "movieId      0\n",
              "rating       0\n",
              "timestamp    0\n",
              "title        0\n",
              "genres       0\n",
              "tag          0\n",
              "dtype: int64"
            ]
          },
          "metadata": {},
          "execution_count": 19
        }
      ]
    },
    {
      "cell_type": "markdown",
      "metadata": {
        "id": "OBYxxR4dZLUv"
      },
      "source": [
        "Mengurutkan movie berdasarkan movieId kemudian memasukkannya ke dalam variabel fix_movie"
      ]
    },
    {
      "cell_type": "code",
      "metadata": {
        "colab": {
          "base_uri": "https://localhost:8080/",
          "height": 419
        },
        "id": "U5b3ZneVfm-r",
        "outputId": "6fbffe7f-3443-4c7f-d12a-7e2dc8a490a1"
      },
      "source": [
        "fix_movie = all_movie_clean.sort_values('movieId', ascending=True)\n",
        "fix_movie"
      ],
      "execution_count": null,
      "outputs": [
        {
          "output_type": "execute_result",
          "data": {
            "text/html": [
              "<div>\n",
              "<style scoped>\n",
              "    .dataframe tbody tr th:only-of-type {\n",
              "        vertical-align: middle;\n",
              "    }\n",
              "\n",
              "    .dataframe tbody tr th {\n",
              "        vertical-align: top;\n",
              "    }\n",
              "\n",
              "    .dataframe thead th {\n",
              "        text-align: right;\n",
              "    }\n",
              "</style>\n",
              "<table border=\"1\" class=\"dataframe\">\n",
              "  <thead>\n",
              "    <tr style=\"text-align: right;\">\n",
              "      <th></th>\n",
              "      <th>userId</th>\n",
              "      <th>movieId</th>\n",
              "      <th>rating</th>\n",
              "      <th>timestamp</th>\n",
              "      <th>title</th>\n",
              "      <th>genres</th>\n",
              "      <th>tag</th>\n",
              "    </tr>\n",
              "  </thead>\n",
              "  <tbody>\n",
              "    <tr>\n",
              "      <th>0</th>\n",
              "      <td>1</td>\n",
              "      <td>1</td>\n",
              "      <td>4.0</td>\n",
              "      <td>964982703</td>\n",
              "      <td>Toy Story (1995)</td>\n",
              "      <td>Adventure|Animation|Children|Comedy|Fantasy</td>\n",
              "      <td>pixar</td>\n",
              "    </tr>\n",
              "    <tr>\n",
              "      <th>121430</th>\n",
              "      <td>275</td>\n",
              "      <td>1</td>\n",
              "      <td>5.0</td>\n",
              "      <td>1049076484</td>\n",
              "      <td>Toy Story (1995)</td>\n",
              "      <td>Adventure|Animation|Children|Comedy|Fantasy</td>\n",
              "      <td>pixar</td>\n",
              "    </tr>\n",
              "    <tr>\n",
              "      <th>121431</th>\n",
              "      <td>275</td>\n",
              "      <td>1</td>\n",
              "      <td>5.0</td>\n",
              "      <td>1049076484</td>\n",
              "      <td>Toy Story (1995)</td>\n",
              "      <td>Adventure|Animation|Children|Comedy|Fantasy</td>\n",
              "      <td>pixar</td>\n",
              "    </tr>\n",
              "    <tr>\n",
              "      <th>121432</th>\n",
              "      <td>275</td>\n",
              "      <td>1</td>\n",
              "      <td>5.0</td>\n",
              "      <td>1049076484</td>\n",
              "      <td>Toy Story (1995)</td>\n",
              "      <td>Adventure|Animation|Children|Comedy|Fantasy</td>\n",
              "      <td>fun</td>\n",
              "    </tr>\n",
              "    <tr>\n",
              "      <th>35190</th>\n",
              "      <td>73</td>\n",
              "      <td>1</td>\n",
              "      <td>4.5</td>\n",
              "      <td>1464196374</td>\n",
              "      <td>Toy Story (1995)</td>\n",
              "      <td>Adventure|Animation|Children|Comedy|Fantasy</td>\n",
              "      <td>fun</td>\n",
              "    </tr>\n",
              "    <tr>\n",
              "      <th>...</th>\n",
              "      <td>...</td>\n",
              "      <td>...</td>\n",
              "      <td>...</td>\n",
              "      <td>...</td>\n",
              "      <td>...</td>\n",
              "      <td>...</td>\n",
              "      <td>...</td>\n",
              "    </tr>\n",
              "    <tr>\n",
              "      <th>263644</th>\n",
              "      <td>586</td>\n",
              "      <td>187595</td>\n",
              "      <td>5.0</td>\n",
              "      <td>1529899556</td>\n",
              "      <td>Solo: A Star Wars Story (2018)</td>\n",
              "      <td>Action|Adventure|Children|Sci-Fi</td>\n",
              "      <td>star wars</td>\n",
              "    </tr>\n",
              "    <tr>\n",
              "      <th>81531</th>\n",
              "      <td>184</td>\n",
              "      <td>193565</td>\n",
              "      <td>3.5</td>\n",
              "      <td>1537098554</td>\n",
              "      <td>Gintama: The Movie (2010)</td>\n",
              "      <td>Action|Animation|Comedy|Sci-Fi</td>\n",
              "      <td>anime</td>\n",
              "    </tr>\n",
              "    <tr>\n",
              "      <th>81532</th>\n",
              "      <td>184</td>\n",
              "      <td>193565</td>\n",
              "      <td>3.5</td>\n",
              "      <td>1537098554</td>\n",
              "      <td>Gintama: The Movie (2010)</td>\n",
              "      <td>Action|Animation|Comedy|Sci-Fi</td>\n",
              "      <td>comedy</td>\n",
              "    </tr>\n",
              "    <tr>\n",
              "      <th>81534</th>\n",
              "      <td>184</td>\n",
              "      <td>193565</td>\n",
              "      <td>3.5</td>\n",
              "      <td>1537098554</td>\n",
              "      <td>Gintama: The Movie (2010)</td>\n",
              "      <td>Action|Animation|Comedy|Sci-Fi</td>\n",
              "      <td>remaster</td>\n",
              "    </tr>\n",
              "    <tr>\n",
              "      <th>81533</th>\n",
              "      <td>184</td>\n",
              "      <td>193565</td>\n",
              "      <td>3.5</td>\n",
              "      <td>1537098554</td>\n",
              "      <td>Gintama: The Movie (2010)</td>\n",
              "      <td>Action|Animation|Comedy|Sci-Fi</td>\n",
              "      <td>gintama</td>\n",
              "    </tr>\n",
              "  </tbody>\n",
              "</table>\n",
              "<p>233213 rows × 7 columns</p>\n",
              "</div>"
            ],
            "text/plain": [
              "        userId  movieId  ...                                       genres        tag\n",
              "0            1        1  ...  Adventure|Animation|Children|Comedy|Fantasy      pixar\n",
              "121430     275        1  ...  Adventure|Animation|Children|Comedy|Fantasy      pixar\n",
              "121431     275        1  ...  Adventure|Animation|Children|Comedy|Fantasy      pixar\n",
              "121432     275        1  ...  Adventure|Animation|Children|Comedy|Fantasy        fun\n",
              "35190       73        1  ...  Adventure|Animation|Children|Comedy|Fantasy        fun\n",
              "...        ...      ...  ...                                          ...        ...\n",
              "263644     586   187595  ...             Action|Adventure|Children|Sci-Fi  star wars\n",
              "81531      184   193565  ...               Action|Animation|Comedy|Sci-Fi      anime\n",
              "81532      184   193565  ...               Action|Animation|Comedy|Sci-Fi     comedy\n",
              "81534      184   193565  ...               Action|Animation|Comedy|Sci-Fi   remaster\n",
              "81533      184   193565  ...               Action|Animation|Comedy|Sci-Fi    gintama\n",
              "\n",
              "[233213 rows x 7 columns]"
            ]
          },
          "metadata": {},
          "execution_count": 20
        }
      ]
    },
    {
      "cell_type": "markdown",
      "metadata": {
        "id": "RADwqhsDZaad"
      },
      "source": [
        "Mengecek berapa jumlah fix_movie"
      ]
    },
    {
      "cell_type": "code",
      "metadata": {
        "colab": {
          "base_uri": "https://localhost:8080/"
        },
        "id": "LYxQopk_fp6H",
        "outputId": "42e18258-c873-473a-9626-c8f80941df59"
      },
      "source": [
        "len(fix_movie.movieId.unique())"
      ],
      "execution_count": null,
      "outputs": [
        {
          "output_type": "execute_result",
          "data": {
            "text/plain": [
              "1554"
            ]
          },
          "metadata": {},
          "execution_count": 21
        }
      ]
    },
    {
      "cell_type": "markdown",
      "metadata": {
        "id": "YnE5GkmjZmb9"
      },
      "source": [
        "Membuat variabel preparation yang berisi dataframe fix_movie kemudian mengurutkan berdasarkan movieId"
      ]
    },
    {
      "cell_type": "code",
      "metadata": {
        "colab": {
          "base_uri": "https://localhost:8080/",
          "height": 419
        },
        "id": "BxZnswmmgY4i",
        "outputId": "62b65950-b2cf-4b54-99bb-a6f176e329d9"
      },
      "source": [
        "preparation = fix_movie\n",
        "preparation.sort_values('movieId')"
      ],
      "execution_count": null,
      "outputs": [
        {
          "output_type": "execute_result",
          "data": {
            "text/html": [
              "<div>\n",
              "<style scoped>\n",
              "    .dataframe tbody tr th:only-of-type {\n",
              "        vertical-align: middle;\n",
              "    }\n",
              "\n",
              "    .dataframe tbody tr th {\n",
              "        vertical-align: top;\n",
              "    }\n",
              "\n",
              "    .dataframe thead th {\n",
              "        text-align: right;\n",
              "    }\n",
              "</style>\n",
              "<table border=\"1\" class=\"dataframe\">\n",
              "  <thead>\n",
              "    <tr style=\"text-align: right;\">\n",
              "      <th></th>\n",
              "      <th>userId</th>\n",
              "      <th>movieId</th>\n",
              "      <th>rating</th>\n",
              "      <th>timestamp</th>\n",
              "      <th>title</th>\n",
              "      <th>genres</th>\n",
              "      <th>tag</th>\n",
              "    </tr>\n",
              "  </thead>\n",
              "  <tbody>\n",
              "    <tr>\n",
              "      <th>0</th>\n",
              "      <td>1</td>\n",
              "      <td>1</td>\n",
              "      <td>4.0</td>\n",
              "      <td>964982703</td>\n",
              "      <td>Toy Story (1995)</td>\n",
              "      <td>Adventure|Animation|Children|Comedy|Fantasy</td>\n",
              "      <td>pixar</td>\n",
              "    </tr>\n",
              "    <tr>\n",
              "      <th>44427</th>\n",
              "      <td>98</td>\n",
              "      <td>1</td>\n",
              "      <td>4.5</td>\n",
              "      <td>1532457849</td>\n",
              "      <td>Toy Story (1995)</td>\n",
              "      <td>Adventure|Animation|Children|Comedy|Fantasy</td>\n",
              "      <td>fun</td>\n",
              "    </tr>\n",
              "    <tr>\n",
              "      <th>44426</th>\n",
              "      <td>98</td>\n",
              "      <td>1</td>\n",
              "      <td>4.5</td>\n",
              "      <td>1532457849</td>\n",
              "      <td>Toy Story (1995)</td>\n",
              "      <td>Adventure|Animation|Children|Comedy|Fantasy</td>\n",
              "      <td>pixar</td>\n",
              "    </tr>\n",
              "    <tr>\n",
              "      <th>44425</th>\n",
              "      <td>98</td>\n",
              "      <td>1</td>\n",
              "      <td>4.5</td>\n",
              "      <td>1532457849</td>\n",
              "      <td>Toy Story (1995)</td>\n",
              "      <td>Adventure|Animation|Children|Comedy|Fantasy</td>\n",
              "      <td>pixar</td>\n",
              "    </tr>\n",
              "    <tr>\n",
              "      <th>209733</th>\n",
              "      <td>453</td>\n",
              "      <td>1</td>\n",
              "      <td>5.0</td>\n",
              "      <td>1005966797</td>\n",
              "      <td>Toy Story (1995)</td>\n",
              "      <td>Adventure|Animation|Children|Comedy|Fantasy</td>\n",
              "      <td>fun</td>\n",
              "    </tr>\n",
              "    <tr>\n",
              "      <th>...</th>\n",
              "      <td>...</td>\n",
              "      <td>...</td>\n",
              "      <td>...</td>\n",
              "      <td>...</td>\n",
              "      <td>...</td>\n",
              "      <td>...</td>\n",
              "      <td>...</td>\n",
              "    </tr>\n",
              "    <tr>\n",
              "      <th>191470</th>\n",
              "      <td>414</td>\n",
              "      <td>187595</td>\n",
              "      <td>3.5</td>\n",
              "      <td>1527977920</td>\n",
              "      <td>Solo: A Star Wars Story (2018)</td>\n",
              "      <td>Action|Adventure|Children|Sci-Fi</td>\n",
              "      <td>star wars</td>\n",
              "    </tr>\n",
              "    <tr>\n",
              "      <th>81534</th>\n",
              "      <td>184</td>\n",
              "      <td>193565</td>\n",
              "      <td>3.5</td>\n",
              "      <td>1537098554</td>\n",
              "      <td>Gintama: The Movie (2010)</td>\n",
              "      <td>Action|Animation|Comedy|Sci-Fi</td>\n",
              "      <td>remaster</td>\n",
              "    </tr>\n",
              "    <tr>\n",
              "      <th>81531</th>\n",
              "      <td>184</td>\n",
              "      <td>193565</td>\n",
              "      <td>3.5</td>\n",
              "      <td>1537098554</td>\n",
              "      <td>Gintama: The Movie (2010)</td>\n",
              "      <td>Action|Animation|Comedy|Sci-Fi</td>\n",
              "      <td>anime</td>\n",
              "    </tr>\n",
              "    <tr>\n",
              "      <th>81532</th>\n",
              "      <td>184</td>\n",
              "      <td>193565</td>\n",
              "      <td>3.5</td>\n",
              "      <td>1537098554</td>\n",
              "      <td>Gintama: The Movie (2010)</td>\n",
              "      <td>Action|Animation|Comedy|Sci-Fi</td>\n",
              "      <td>comedy</td>\n",
              "    </tr>\n",
              "    <tr>\n",
              "      <th>81533</th>\n",
              "      <td>184</td>\n",
              "      <td>193565</td>\n",
              "      <td>3.5</td>\n",
              "      <td>1537098554</td>\n",
              "      <td>Gintama: The Movie (2010)</td>\n",
              "      <td>Action|Animation|Comedy|Sci-Fi</td>\n",
              "      <td>gintama</td>\n",
              "    </tr>\n",
              "  </tbody>\n",
              "</table>\n",
              "<p>233213 rows × 7 columns</p>\n",
              "</div>"
            ],
            "text/plain": [
              "        userId  movieId  ...                                       genres        tag\n",
              "0            1        1  ...  Adventure|Animation|Children|Comedy|Fantasy      pixar\n",
              "44427       98        1  ...  Adventure|Animation|Children|Comedy|Fantasy        fun\n",
              "44426       98        1  ...  Adventure|Animation|Children|Comedy|Fantasy      pixar\n",
              "44425       98        1  ...  Adventure|Animation|Children|Comedy|Fantasy      pixar\n",
              "209733     453        1  ...  Adventure|Animation|Children|Comedy|Fantasy        fun\n",
              "...        ...      ...  ...                                          ...        ...\n",
              "191470     414   187595  ...             Action|Adventure|Children|Sci-Fi  star wars\n",
              "81534      184   193565  ...               Action|Animation|Comedy|Sci-Fi   remaster\n",
              "81531      184   193565  ...               Action|Animation|Comedy|Sci-Fi      anime\n",
              "81532      184   193565  ...               Action|Animation|Comedy|Sci-Fi     comedy\n",
              "81533      184   193565  ...               Action|Animation|Comedy|Sci-Fi    gintama\n",
              "\n",
              "[233213 rows x 7 columns]"
            ]
          },
          "metadata": {},
          "execution_count": 22
        }
      ]
    },
    {
      "cell_type": "markdown",
      "metadata": {
        "id": "-62oleszggho"
      },
      "source": [
        "Selanjutnya, gunakan data unik untuk dimasukkan ke dalam proses pemodelan. \n",
        "serta hapus data duplicate dengan fungsi drop_duplicates() berdasarkan movieId"
      ]
    },
    {
      "cell_type": "code",
      "metadata": {
        "colab": {
          "base_uri": "https://localhost:8080/",
          "height": 419
        },
        "id": "y6LiJxffgiGZ",
        "outputId": "b0147e38-4ea1-41b7-b891-7cd37a662652"
      },
      "source": [
        "# Membuang data duplikat pada variabel preparation\n",
        "preparation = preparation.drop_duplicates('movieId')\n",
        "preparation"
      ],
      "execution_count": null,
      "outputs": [
        {
          "output_type": "execute_result",
          "data": {
            "text/html": [
              "<div>\n",
              "<style scoped>\n",
              "    .dataframe tbody tr th:only-of-type {\n",
              "        vertical-align: middle;\n",
              "    }\n",
              "\n",
              "    .dataframe tbody tr th {\n",
              "        vertical-align: top;\n",
              "    }\n",
              "\n",
              "    .dataframe thead th {\n",
              "        text-align: right;\n",
              "    }\n",
              "</style>\n",
              "<table border=\"1\" class=\"dataframe\">\n",
              "  <thead>\n",
              "    <tr style=\"text-align: right;\">\n",
              "      <th></th>\n",
              "      <th>userId</th>\n",
              "      <th>movieId</th>\n",
              "      <th>rating</th>\n",
              "      <th>timestamp</th>\n",
              "      <th>title</th>\n",
              "      <th>genres</th>\n",
              "      <th>tag</th>\n",
              "    </tr>\n",
              "  </thead>\n",
              "  <tbody>\n",
              "    <tr>\n",
              "      <th>0</th>\n",
              "      <td>1</td>\n",
              "      <td>1</td>\n",
              "      <td>4.0</td>\n",
              "      <td>964982703</td>\n",
              "      <td>Toy Story (1995)</td>\n",
              "      <td>Adventure|Animation|Children|Comedy|Fantasy</td>\n",
              "      <td>pixar</td>\n",
              "    </tr>\n",
              "    <tr>\n",
              "      <th>187260</th>\n",
              "      <td>414</td>\n",
              "      <td>2</td>\n",
              "      <td>3.0</td>\n",
              "      <td>961594981</td>\n",
              "      <td>Jumanji (1995)</td>\n",
              "      <td>Adventure|Children|Fantasy</td>\n",
              "      <td>fantasy</td>\n",
              "    </tr>\n",
              "    <tr>\n",
              "      <th>106951</th>\n",
              "      <td>240</td>\n",
              "      <td>3</td>\n",
              "      <td>4.0</td>\n",
              "      <td>849122858</td>\n",
              "      <td>Grumpier Old Men (1995)</td>\n",
              "      <td>Comedy|Romance</td>\n",
              "      <td>old</td>\n",
              "    </tr>\n",
              "    <tr>\n",
              "      <th>19921</th>\n",
              "      <td>45</td>\n",
              "      <td>5</td>\n",
              "      <td>3.0</td>\n",
              "      <td>959625102</td>\n",
              "      <td>Father of the Bride Part II (1995)</td>\n",
              "      <td>Comedy</td>\n",
              "      <td>pregnancy</td>\n",
              "    </tr>\n",
              "    <tr>\n",
              "      <th>115692</th>\n",
              "      <td>262</td>\n",
              "      <td>7</td>\n",
              "      <td>3.0</td>\n",
              "      <td>840306238</td>\n",
              "      <td>Sabrina (1995)</td>\n",
              "      <td>Comedy|Romance</td>\n",
              "      <td>remake</td>\n",
              "    </tr>\n",
              "    <tr>\n",
              "      <th>...</th>\n",
              "      <td>...</td>\n",
              "      <td>...</td>\n",
              "      <td>...</td>\n",
              "      <td>...</td>\n",
              "      <td>...</td>\n",
              "      <td>...</td>\n",
              "      <td>...</td>\n",
              "    </tr>\n",
              "    <tr>\n",
              "      <th>27632</th>\n",
              "      <td>62</td>\n",
              "      <td>183611</td>\n",
              "      <td>4.0</td>\n",
              "      <td>1526244681</td>\n",
              "      <td>Game Night (2018)</td>\n",
              "      <td>Action|Comedy|Crime|Horror</td>\n",
              "      <td>Comedy</td>\n",
              "    </tr>\n",
              "    <tr>\n",
              "      <th>174264</th>\n",
              "      <td>380</td>\n",
              "      <td>184471</td>\n",
              "      <td>3.0</td>\n",
              "      <td>1536872748</td>\n",
              "      <td>Tomb Raider (2018)</td>\n",
              "      <td>Action|Adventure|Fantasy</td>\n",
              "      <td>Alicia Vikander</td>\n",
              "    </tr>\n",
              "    <tr>\n",
              "      <th>44721</th>\n",
              "      <td>98</td>\n",
              "      <td>187593</td>\n",
              "      <td>5.0</td>\n",
              "      <td>1532457913</td>\n",
              "      <td>Deadpool 2 (2018)</td>\n",
              "      <td>Action|Comedy|Sci-Fi</td>\n",
              "      <td>sarcasm</td>\n",
              "    </tr>\n",
              "    <tr>\n",
              "      <th>263643</th>\n",
              "      <td>586</td>\n",
              "      <td>187595</td>\n",
              "      <td>5.0</td>\n",
              "      <td>1529899556</td>\n",
              "      <td>Solo: A Star Wars Story (2018)</td>\n",
              "      <td>Action|Adventure|Children|Sci-Fi</td>\n",
              "      <td>Emilia Clarke</td>\n",
              "    </tr>\n",
              "    <tr>\n",
              "      <th>81531</th>\n",
              "      <td>184</td>\n",
              "      <td>193565</td>\n",
              "      <td>3.5</td>\n",
              "      <td>1537098554</td>\n",
              "      <td>Gintama: The Movie (2010)</td>\n",
              "      <td>Action|Animation|Comedy|Sci-Fi</td>\n",
              "      <td>anime</td>\n",
              "    </tr>\n",
              "  </tbody>\n",
              "</table>\n",
              "<p>1554 rows × 7 columns</p>\n",
              "</div>"
            ],
            "text/plain": [
              "        userId  ...              tag\n",
              "0            1  ...            pixar\n",
              "187260     414  ...          fantasy\n",
              "106951     240  ...              old\n",
              "19921       45  ...        pregnancy\n",
              "115692     262  ...           remake\n",
              "...        ...  ...              ...\n",
              "27632       62  ...           Comedy\n",
              "174264     380  ...  Alicia Vikander\n",
              "44721       98  ...          sarcasm\n",
              "263643     586  ...    Emilia Clarke\n",
              "81531      184  ...            anime\n",
              "\n",
              "[1554 rows x 7 columns]"
            ]
          },
          "metadata": {},
          "execution_count": 23
        }
      ]
    },
    {
      "cell_type": "markdown",
      "metadata": {
        "id": "KeW79sqrgkl9"
      },
      "source": [
        "Selanjutnya,  melakukan konversi data series menjadi list. Dalam hal ini, menggunakan fungsi tolist() dari library numpy. Implementasikan "
      ]
    },
    {
      "cell_type": "code",
      "metadata": {
        "colab": {
          "base_uri": "https://localhost:8080/"
        },
        "id": "zwSLmndSgnzS",
        "outputId": "751f74a3-749e-430e-9956-b19fec0b9f39"
      },
      "source": [
        "# Mengonversi data series ‘movieId’ menjadi dalam bentuk list\n",
        "movie_id = preparation['movieId'].tolist()\n",
        " \n",
        "# Mengonversi data series ‘title’ menjadi dalam bentuk list\n",
        "movie_name = preparation['title'].tolist()\n",
        " \n",
        "# Mengonversi data series ‘genres’ menjadi dalam bentuk list\n",
        "movie_genre = preparation['genres'].tolist()\n",
        " \n",
        "print(len(movie_id))\n",
        "print(len(movie_name))\n",
        "print(len(movie_genre))"
      ],
      "execution_count": null,
      "outputs": [
        {
          "output_type": "stream",
          "name": "stdout",
          "text": [
            "1554\n",
            "1554\n",
            "1554\n"
          ]
        }
      ]
    },
    {
      "cell_type": "markdown",
      "metadata": {
        "id": "ZnrKJDkggsPF"
      },
      "source": [
        "membuat dictionary untuk menentukan pasangan key-value pada data movie_id, movie_name, dan movie_genre yang telah disiapkan sebelumnya."
      ]
    },
    {
      "cell_type": "code",
      "metadata": {
        "colab": {
          "base_uri": "https://localhost:8080/",
          "height": 419
        },
        "id": "Nk8CFm8cgum9",
        "outputId": "1b76e184-cf7d-4409-8878-68d6daeeec56"
      },
      "source": [
        "# Membuat dictionary untuk data ‘movie_id’, ‘movie_name’, dan ‘movie_genre’\n",
        "movie_new = pd.DataFrame({\n",
        "    'id': movie_id,\n",
        "    'movie_name': movie_name,\n",
        "    'genre': movie_genre\n",
        "})\n",
        "movie_new"
      ],
      "execution_count": null,
      "outputs": [
        {
          "output_type": "execute_result",
          "data": {
            "text/html": [
              "<div>\n",
              "<style scoped>\n",
              "    .dataframe tbody tr th:only-of-type {\n",
              "        vertical-align: middle;\n",
              "    }\n",
              "\n",
              "    .dataframe tbody tr th {\n",
              "        vertical-align: top;\n",
              "    }\n",
              "\n",
              "    .dataframe thead th {\n",
              "        text-align: right;\n",
              "    }\n",
              "</style>\n",
              "<table border=\"1\" class=\"dataframe\">\n",
              "  <thead>\n",
              "    <tr style=\"text-align: right;\">\n",
              "      <th></th>\n",
              "      <th>id</th>\n",
              "      <th>movie_name</th>\n",
              "      <th>genre</th>\n",
              "    </tr>\n",
              "  </thead>\n",
              "  <tbody>\n",
              "    <tr>\n",
              "      <th>0</th>\n",
              "      <td>1</td>\n",
              "      <td>Toy Story (1995)</td>\n",
              "      <td>Adventure|Animation|Children|Comedy|Fantasy</td>\n",
              "    </tr>\n",
              "    <tr>\n",
              "      <th>1</th>\n",
              "      <td>2</td>\n",
              "      <td>Jumanji (1995)</td>\n",
              "      <td>Adventure|Children|Fantasy</td>\n",
              "    </tr>\n",
              "    <tr>\n",
              "      <th>2</th>\n",
              "      <td>3</td>\n",
              "      <td>Grumpier Old Men (1995)</td>\n",
              "      <td>Comedy|Romance</td>\n",
              "    </tr>\n",
              "    <tr>\n",
              "      <th>3</th>\n",
              "      <td>5</td>\n",
              "      <td>Father of the Bride Part II (1995)</td>\n",
              "      <td>Comedy</td>\n",
              "    </tr>\n",
              "    <tr>\n",
              "      <th>4</th>\n",
              "      <td>7</td>\n",
              "      <td>Sabrina (1995)</td>\n",
              "      <td>Comedy|Romance</td>\n",
              "    </tr>\n",
              "    <tr>\n",
              "      <th>...</th>\n",
              "      <td>...</td>\n",
              "      <td>...</td>\n",
              "      <td>...</td>\n",
              "    </tr>\n",
              "    <tr>\n",
              "      <th>1549</th>\n",
              "      <td>183611</td>\n",
              "      <td>Game Night (2018)</td>\n",
              "      <td>Action|Comedy|Crime|Horror</td>\n",
              "    </tr>\n",
              "    <tr>\n",
              "      <th>1550</th>\n",
              "      <td>184471</td>\n",
              "      <td>Tomb Raider (2018)</td>\n",
              "      <td>Action|Adventure|Fantasy</td>\n",
              "    </tr>\n",
              "    <tr>\n",
              "      <th>1551</th>\n",
              "      <td>187593</td>\n",
              "      <td>Deadpool 2 (2018)</td>\n",
              "      <td>Action|Comedy|Sci-Fi</td>\n",
              "    </tr>\n",
              "    <tr>\n",
              "      <th>1552</th>\n",
              "      <td>187595</td>\n",
              "      <td>Solo: A Star Wars Story (2018)</td>\n",
              "      <td>Action|Adventure|Children|Sci-Fi</td>\n",
              "    </tr>\n",
              "    <tr>\n",
              "      <th>1553</th>\n",
              "      <td>193565</td>\n",
              "      <td>Gintama: The Movie (2010)</td>\n",
              "      <td>Action|Animation|Comedy|Sci-Fi</td>\n",
              "    </tr>\n",
              "  </tbody>\n",
              "</table>\n",
              "<p>1554 rows × 3 columns</p>\n",
              "</div>"
            ],
            "text/plain": [
              "          id  ...                                        genre\n",
              "0          1  ...  Adventure|Animation|Children|Comedy|Fantasy\n",
              "1          2  ...                   Adventure|Children|Fantasy\n",
              "2          3  ...                               Comedy|Romance\n",
              "3          5  ...                                       Comedy\n",
              "4          7  ...                               Comedy|Romance\n",
              "...      ...  ...                                          ...\n",
              "1549  183611  ...                   Action|Comedy|Crime|Horror\n",
              "1550  184471  ...                     Action|Adventure|Fantasy\n",
              "1551  187593  ...                         Action|Comedy|Sci-Fi\n",
              "1552  187595  ...             Action|Adventure|Children|Sci-Fi\n",
              "1553  193565  ...               Action|Animation|Comedy|Sci-Fi\n",
              "\n",
              "[1554 rows x 3 columns]"
            ]
          },
          "metadata": {},
          "execution_count": 25
        }
      ]
    },
    {
      "cell_type": "markdown",
      "metadata": {
        "id": "XrQL02B0L3Rj"
      },
      "source": [
        "## Modeling and Result\n",
        "\n",
        "- Proses modeling yang saya lakukan pada data ini adalah dengan membuat algoritma machine learning, yaitu content based filtering dan collabrative filtering. untuk algoritma content based filtering saya buat dengan apa yang disukai pengguna pada masa lalu, sedangkan untuk content based filtering, saya buat dengan memanfaatkan tingkat rating dari movie tersebut.\n",
        "\n",
        "\n",
        "1. Model Development dengan Content Based Filtering\n",
        "\n",
        "\n",
        " menggukan fungsi TFIDFVectorizer()\n"
      ]
    },
    {
      "cell_type": "code",
      "metadata": {
        "colab": {
          "base_uri": "https://localhost:8080/"
        },
        "id": "Ruj3ZBpaL_fc",
        "outputId": "8a6be047-714a-4873-f38a-dc42cc9f072f"
      },
      "source": [
        "from sklearn.feature_extraction.text import TfidfVectorizer\n",
        " \n",
        "# Inisialisasi TfidfVectorizer\n",
        "tf = TfidfVectorizer()\n",
        " \n",
        "# Melakukan perhitungan idf pada data genre\n",
        "tf.fit(movie_new['genre']) \n",
        " \n",
        "# Mapping array dari fitur index integer ke fitur nama\n",
        "tf.get_feature_names() "
      ],
      "execution_count": null,
      "outputs": [
        {
          "output_type": "execute_result",
          "data": {
            "text/plain": [
              "['action',\n",
              " 'adventure',\n",
              " 'animation',\n",
              " 'children',\n",
              " 'comedy',\n",
              " 'crime',\n",
              " 'documentary',\n",
              " 'drama',\n",
              " 'fantasy',\n",
              " 'fi',\n",
              " 'film',\n",
              " 'genres',\n",
              " 'horror',\n",
              " 'imax',\n",
              " 'listed',\n",
              " 'musical',\n",
              " 'mystery',\n",
              " 'no',\n",
              " 'noir',\n",
              " 'romance',\n",
              " 'sci',\n",
              " 'thriller',\n",
              " 'war',\n",
              " 'western']"
            ]
          },
          "metadata": {},
          "execution_count": 26
        }
      ]
    },
    {
      "cell_type": "markdown",
      "metadata": {
        "id": "Wg4SRhzFMZ39"
      },
      "source": [
        "Selanjutnya, lakukan fit dan transformasi ke dalam bentuk matriks. "
      ]
    },
    {
      "cell_type": "code",
      "metadata": {
        "colab": {
          "base_uri": "https://localhost:8080/"
        },
        "id": "IphlObw3Mbny",
        "outputId": "f9e2492c-8885-4bb2-b92f-07fb8611b755"
      },
      "source": [
        "tfidf_matrix = tf.fit_transform(movie_new['genre']) \n",
        "tfidf_matrix.shape "
      ],
      "execution_count": null,
      "outputs": [
        {
          "output_type": "execute_result",
          "data": {
            "text/plain": [
              "(1554, 24)"
            ]
          },
          "metadata": {},
          "execution_count": 27
        }
      ]
    },
    {
      "cell_type": "markdown",
      "metadata": {
        "id": "a0xVSkdoNd7e"
      },
      "source": [
        " \n",
        " menghasilkan vektor tf-idf dalam bentuk matriks, menggunakan fungsi todense(). "
      ]
    },
    {
      "cell_type": "code",
      "metadata": {
        "colab": {
          "base_uri": "https://localhost:8080/"
        },
        "id": "WJKGrVYaNhHC",
        "outputId": "4b75d80a-b5ae-4733-f9bd-a21f9b746067"
      },
      "source": [
        "tfidf_matrix.todense()"
      ],
      "execution_count": null,
      "outputs": [
        {
          "output_type": "execute_result",
          "data": {
            "text/plain": [
              "matrix([[0.        , 0.3983147 , 0.52247057, ..., 0.        , 0.        ,\n",
              "         0.        ],\n",
              "        [0.        , 0.49497089, 0.        , ..., 0.        , 0.        ,\n",
              "         0.        ],\n",
              "        [0.        , 0.        , 0.        , ..., 0.        , 0.        ,\n",
              "         0.        ],\n",
              "        ...,\n",
              "        [0.49413097, 0.        , 0.        , ..., 0.        , 0.        ,\n",
              "         0.        ],\n",
              "        [0.39639614, 0.40792706, 0.        , ..., 0.        , 0.        ,\n",
              "         0.        ],\n",
              "        [0.41107716, 0.        , 0.55489644, ..., 0.        , 0.        ,\n",
              "         0.        ]])"
            ]
          },
          "metadata": {},
          "execution_count": 28
        }
      ]
    },
    {
      "cell_type": "markdown",
      "metadata": {
        "id": "NnvGQcNJNlLd"
      },
      "source": [
        "lihat matriks tf-idf untuk beberapa movie (movie_name) dan genre"
      ]
    },
    {
      "cell_type": "code",
      "metadata": {
        "colab": {
          "base_uri": "https://localhost:8080/",
          "height": 631
        },
        "id": "j-xhkpAcNnDI",
        "outputId": "7f0b8b89-1f03-40fc-fac4-bc0d8c4016d9"
      },
      "source": [
        "pd.DataFrame(\n",
        "    tfidf_matrix.todense(), \n",
        "    columns=tf.get_feature_names(),\n",
        "    index=movie_new.movie_name\n",
        ").sample(22, axis=1).sample(10, axis=0)"
      ],
      "execution_count": null,
      "outputs": [
        {
          "output_type": "execute_result",
          "data": {
            "text/html": [
              "<div>\n",
              "<style scoped>\n",
              "    .dataframe tbody tr th:only-of-type {\n",
              "        vertical-align: middle;\n",
              "    }\n",
              "\n",
              "    .dataframe tbody tr th {\n",
              "        vertical-align: top;\n",
              "    }\n",
              "\n",
              "    .dataframe thead th {\n",
              "        text-align: right;\n",
              "    }\n",
              "</style>\n",
              "<table border=\"1\" class=\"dataframe\">\n",
              "  <thead>\n",
              "    <tr style=\"text-align: right;\">\n",
              "      <th></th>\n",
              "      <th>sci</th>\n",
              "      <th>genres</th>\n",
              "      <th>drama</th>\n",
              "      <th>western</th>\n",
              "      <th>children</th>\n",
              "      <th>musical</th>\n",
              "      <th>fi</th>\n",
              "      <th>adventure</th>\n",
              "      <th>action</th>\n",
              "      <th>crime</th>\n",
              "      <th>noir</th>\n",
              "      <th>animation</th>\n",
              "      <th>horror</th>\n",
              "      <th>no</th>\n",
              "      <th>war</th>\n",
              "      <th>documentary</th>\n",
              "      <th>fantasy</th>\n",
              "      <th>comedy</th>\n",
              "      <th>mystery</th>\n",
              "      <th>romance</th>\n",
              "      <th>imax</th>\n",
              "      <th>thriller</th>\n",
              "    </tr>\n",
              "    <tr>\n",
              "      <th>movie_name</th>\n",
              "      <th></th>\n",
              "      <th></th>\n",
              "      <th></th>\n",
              "      <th></th>\n",
              "      <th></th>\n",
              "      <th></th>\n",
              "      <th></th>\n",
              "      <th></th>\n",
              "      <th></th>\n",
              "      <th></th>\n",
              "      <th></th>\n",
              "      <th></th>\n",
              "      <th></th>\n",
              "      <th></th>\n",
              "      <th></th>\n",
              "      <th></th>\n",
              "      <th></th>\n",
              "      <th></th>\n",
              "      <th></th>\n",
              "      <th></th>\n",
              "      <th></th>\n",
              "      <th></th>\n",
              "    </tr>\n",
              "  </thead>\n",
              "  <tbody>\n",
              "    <tr>\n",
              "      <th>Manhunter (1986)</th>\n",
              "      <td>0.0</td>\n",
              "      <td>0.0</td>\n",
              "      <td>0.243881</td>\n",
              "      <td>0.000000</td>\n",
              "      <td>0.0</td>\n",
              "      <td>0.0</td>\n",
              "      <td>0.0</td>\n",
              "      <td>0.0</td>\n",
              "      <td>0.446139</td>\n",
              "      <td>0.467913</td>\n",
              "      <td>0.0</td>\n",
              "      <td>0.0</td>\n",
              "      <td>0.593487</td>\n",
              "      <td>0.0</td>\n",
              "      <td>0.0</td>\n",
              "      <td>0.0</td>\n",
              "      <td>0.0</td>\n",
              "      <td>0.000000</td>\n",
              "      <td>0.000000</td>\n",
              "      <td>0.0</td>\n",
              "      <td>0.0</td>\n",
              "      <td>0.412689</td>\n",
              "    </tr>\n",
              "    <tr>\n",
              "      <th>Blazing Saddles (1974)</th>\n",
              "      <td>0.0</td>\n",
              "      <td>0.0</td>\n",
              "      <td>0.000000</td>\n",
              "      <td>0.924368</td>\n",
              "      <td>0.0</td>\n",
              "      <td>0.0</td>\n",
              "      <td>0.0</td>\n",
              "      <td>0.0</td>\n",
              "      <td>0.000000</td>\n",
              "      <td>0.000000</td>\n",
              "      <td>0.0</td>\n",
              "      <td>0.0</td>\n",
              "      <td>0.000000</td>\n",
              "      <td>0.0</td>\n",
              "      <td>0.0</td>\n",
              "      <td>0.0</td>\n",
              "      <td>0.0</td>\n",
              "      <td>0.381501</td>\n",
              "      <td>0.000000</td>\n",
              "      <td>0.0</td>\n",
              "      <td>0.0</td>\n",
              "      <td>0.000000</td>\n",
              "    </tr>\n",
              "    <tr>\n",
              "      <th>Picnic at Hanging Rock (1975)</th>\n",
              "      <td>0.0</td>\n",
              "      <td>0.0</td>\n",
              "      <td>0.414161</td>\n",
              "      <td>0.000000</td>\n",
              "      <td>0.0</td>\n",
              "      <td>0.0</td>\n",
              "      <td>0.0</td>\n",
              "      <td>0.0</td>\n",
              "      <td>0.000000</td>\n",
              "      <td>0.000000</td>\n",
              "      <td>0.0</td>\n",
              "      <td>0.0</td>\n",
              "      <td>0.000000</td>\n",
              "      <td>0.0</td>\n",
              "      <td>0.0</td>\n",
              "      <td>0.0</td>\n",
              "      <td>0.0</td>\n",
              "      <td>0.000000</td>\n",
              "      <td>0.910204</td>\n",
              "      <td>0.0</td>\n",
              "      <td>0.0</td>\n",
              "      <td>0.000000</td>\n",
              "    </tr>\n",
              "    <tr>\n",
              "      <th>Royal Tenenbaums, The (2001)</th>\n",
              "      <td>0.0</td>\n",
              "      <td>0.0</td>\n",
              "      <td>0.600342</td>\n",
              "      <td>0.000000</td>\n",
              "      <td>0.0</td>\n",
              "      <td>0.0</td>\n",
              "      <td>0.0</td>\n",
              "      <td>0.0</td>\n",
              "      <td>0.000000</td>\n",
              "      <td>0.000000</td>\n",
              "      <td>0.0</td>\n",
              "      <td>0.0</td>\n",
              "      <td>0.000000</td>\n",
              "      <td>0.0</td>\n",
              "      <td>0.0</td>\n",
              "      <td>0.0</td>\n",
              "      <td>0.0</td>\n",
              "      <td>0.799743</td>\n",
              "      <td>0.000000</td>\n",
              "      <td>0.0</td>\n",
              "      <td>0.0</td>\n",
              "      <td>0.000000</td>\n",
              "    </tr>\n",
              "    <tr>\n",
              "      <th>Arsenic and Old Lace (1944)</th>\n",
              "      <td>0.0</td>\n",
              "      <td>0.0</td>\n",
              "      <td>0.000000</td>\n",
              "      <td>0.000000</td>\n",
              "      <td>0.0</td>\n",
              "      <td>0.0</td>\n",
              "      <td>0.0</td>\n",
              "      <td>0.0</td>\n",
              "      <td>0.000000</td>\n",
              "      <td>0.000000</td>\n",
              "      <td>0.0</td>\n",
              "      <td>0.0</td>\n",
              "      <td>0.000000</td>\n",
              "      <td>0.0</td>\n",
              "      <td>0.0</td>\n",
              "      <td>0.0</td>\n",
              "      <td>0.0</td>\n",
              "      <td>0.432936</td>\n",
              "      <td>0.714234</td>\n",
              "      <td>0.0</td>\n",
              "      <td>0.0</td>\n",
              "      <td>0.549942</td>\n",
              "    </tr>\n",
              "    <tr>\n",
              "      <th>Women, The (1939)</th>\n",
              "      <td>0.0</td>\n",
              "      <td>0.0</td>\n",
              "      <td>0.000000</td>\n",
              "      <td>0.000000</td>\n",
              "      <td>0.0</td>\n",
              "      <td>0.0</td>\n",
              "      <td>0.0</td>\n",
              "      <td>0.0</td>\n",
              "      <td>0.000000</td>\n",
              "      <td>0.000000</td>\n",
              "      <td>0.0</td>\n",
              "      <td>0.0</td>\n",
              "      <td>0.000000</td>\n",
              "      <td>0.0</td>\n",
              "      <td>0.0</td>\n",
              "      <td>0.0</td>\n",
              "      <td>0.0</td>\n",
              "      <td>1.000000</td>\n",
              "      <td>0.000000</td>\n",
              "      <td>0.0</td>\n",
              "      <td>0.0</td>\n",
              "      <td>0.000000</td>\n",
              "    </tr>\n",
              "    <tr>\n",
              "      <th>Big Eyes (2014)</th>\n",
              "      <td>0.0</td>\n",
              "      <td>0.0</td>\n",
              "      <td>1.000000</td>\n",
              "      <td>0.000000</td>\n",
              "      <td>0.0</td>\n",
              "      <td>0.0</td>\n",
              "      <td>0.0</td>\n",
              "      <td>0.0</td>\n",
              "      <td>0.000000</td>\n",
              "      <td>0.000000</td>\n",
              "      <td>0.0</td>\n",
              "      <td>0.0</td>\n",
              "      <td>0.000000</td>\n",
              "      <td>0.0</td>\n",
              "      <td>0.0</td>\n",
              "      <td>0.0</td>\n",
              "      <td>0.0</td>\n",
              "      <td>0.000000</td>\n",
              "      <td>0.000000</td>\n",
              "      <td>0.0</td>\n",
              "      <td>0.0</td>\n",
              "      <td>0.000000</td>\n",
              "    </tr>\n",
              "    <tr>\n",
              "      <th>Breaking the Waves (1996)</th>\n",
              "      <td>0.0</td>\n",
              "      <td>0.0</td>\n",
              "      <td>0.414161</td>\n",
              "      <td>0.000000</td>\n",
              "      <td>0.0</td>\n",
              "      <td>0.0</td>\n",
              "      <td>0.0</td>\n",
              "      <td>0.0</td>\n",
              "      <td>0.000000</td>\n",
              "      <td>0.000000</td>\n",
              "      <td>0.0</td>\n",
              "      <td>0.0</td>\n",
              "      <td>0.000000</td>\n",
              "      <td>0.0</td>\n",
              "      <td>0.0</td>\n",
              "      <td>0.0</td>\n",
              "      <td>0.0</td>\n",
              "      <td>0.000000</td>\n",
              "      <td>0.910204</td>\n",
              "      <td>0.0</td>\n",
              "      <td>0.0</td>\n",
              "      <td>0.000000</td>\n",
              "    </tr>\n",
              "    <tr>\n",
              "      <th>Following (1998)</th>\n",
              "      <td>0.0</td>\n",
              "      <td>0.0</td>\n",
              "      <td>0.000000</td>\n",
              "      <td>0.000000</td>\n",
              "      <td>0.0</td>\n",
              "      <td>0.0</td>\n",
              "      <td>0.0</td>\n",
              "      <td>0.0</td>\n",
              "      <td>0.000000</td>\n",
              "      <td>0.568883</td>\n",
              "      <td>0.0</td>\n",
              "      <td>0.0</td>\n",
              "      <td>0.000000</td>\n",
              "      <td>0.0</td>\n",
              "      <td>0.0</td>\n",
              "      <td>0.0</td>\n",
              "      <td>0.0</td>\n",
              "      <td>0.000000</td>\n",
              "      <td>0.651635</td>\n",
              "      <td>0.0</td>\n",
              "      <td>0.0</td>\n",
              "      <td>0.501742</td>\n",
              "    </tr>\n",
              "    <tr>\n",
              "      <th>8MM (1999)</th>\n",
              "      <td>0.0</td>\n",
              "      <td>0.0</td>\n",
              "      <td>0.339161</td>\n",
              "      <td>0.000000</td>\n",
              "      <td>0.0</td>\n",
              "      <td>0.0</td>\n",
              "      <td>0.0</td>\n",
              "      <td>0.0</td>\n",
              "      <td>0.000000</td>\n",
              "      <td>0.000000</td>\n",
              "      <td>0.0</td>\n",
              "      <td>0.0</td>\n",
              "      <td>0.000000</td>\n",
              "      <td>0.0</td>\n",
              "      <td>0.0</td>\n",
              "      <td>0.0</td>\n",
              "      <td>0.0</td>\n",
              "      <td>0.000000</td>\n",
              "      <td>0.745376</td>\n",
              "      <td>0.0</td>\n",
              "      <td>0.0</td>\n",
              "      <td>0.573920</td>\n",
              "    </tr>\n",
              "  </tbody>\n",
              "</table>\n",
              "</div>"
            ],
            "text/plain": [
              "                               sci  genres     drama  ...  romance  imax  thriller\n",
              "movie_name                                            ...                         \n",
              "Manhunter (1986)               0.0     0.0  0.243881  ...      0.0   0.0  0.412689\n",
              "Blazing Saddles (1974)         0.0     0.0  0.000000  ...      0.0   0.0  0.000000\n",
              "Picnic at Hanging Rock (1975)  0.0     0.0  0.414161  ...      0.0   0.0  0.000000\n",
              "Royal Tenenbaums, The (2001)   0.0     0.0  0.600342  ...      0.0   0.0  0.000000\n",
              "Arsenic and Old Lace (1944)    0.0     0.0  0.000000  ...      0.0   0.0  0.549942\n",
              "Women, The (1939)              0.0     0.0  0.000000  ...      0.0   0.0  0.000000\n",
              "Big Eyes (2014)                0.0     0.0  1.000000  ...      0.0   0.0  0.000000\n",
              "Breaking the Waves (1996)      0.0     0.0  0.414161  ...      0.0   0.0  0.000000\n",
              "Following (1998)               0.0     0.0  0.000000  ...      0.0   0.0  0.501742\n",
              "8MM (1999)                     0.0     0.0  0.339161  ...      0.0   0.0  0.573920\n",
              "\n",
              "[10 rows x 22 columns]"
            ]
          },
          "metadata": {},
          "execution_count": 29
        }
      ]
    },
    {
      "cell_type": "markdown",
      "metadata": {
        "id": "DwEnI2VsNsUn"
      },
      "source": [
        " **Cosine Similarity**\n",
        " menghitung derajat kesamaan (similarity degree) antar movie dengan teknik cosine similarity."
      ]
    },
    {
      "cell_type": "code",
      "metadata": {
        "colab": {
          "base_uri": "https://localhost:8080/"
        },
        "id": "rr4kwyISNqK8",
        "outputId": "0ed32b17-b340-4a9b-9a80-bdecb8b0cfb4"
      },
      "source": [
        "from sklearn.metrics.pairwise import cosine_similarity\n",
        "\n",
        "cosine_sim = cosine_similarity(tfidf_matrix) \n",
        "cosine_sim"
      ],
      "execution_count": null,
      "outputs": [
        {
          "output_type": "execute_result",
          "data": {
            "text/plain": [
              "array([[1.        , 0.80472348, 0.1808617 , ..., 0.10142228, 0.42942348,\n",
              "        0.37429223],\n",
              "       [0.80472348, 1.        , 0.        , ..., 0.        , 0.53362862,\n",
              "        0.        ],\n",
              "       [0.1808617 , 0.        , 1.        , ..., 0.23089549, 0.        ,\n",
              "        0.19208644],\n",
              "       ...,\n",
              "       [0.10142228, 0.        , 0.23089549, ..., 1.        , 0.6983388 ,\n",
              "        0.83191943],\n",
              "       [0.42942348, 0.53362862, 0.        , ..., 0.6983388 , 1.        ,\n",
              "        0.58096161],\n",
              "       [0.37429223, 0.        , 0.19208644, ..., 0.83191943, 0.58096161,\n",
              "        1.        ]])"
            ]
          },
          "metadata": {},
          "execution_count": 30
        }
      ]
    },
    {
      "cell_type": "markdown",
      "metadata": {
        "id": "lt50vcaJN2V6"
      },
      "source": [
        "Membuat dataframe dari variabel cosine_sim_df dengan baris dan kolom berupa nama movie, serta melihat kesamaan matrix dari setiap movie"
      ]
    },
    {
      "cell_type": "code",
      "metadata": {
        "colab": {
          "base_uri": "https://localhost:8080/",
          "height": 475
        },
        "id": "jEC99jyuN9uO",
        "outputId": "79597a21-9289-4e6a-ddc0-701bc958fc8d"
      },
      "source": [
        "cosine_sim_df = pd.DataFrame(cosine_sim, index=movie_new['movie_name'], columns=movie_new['movie_name'])\n",
        "print('Shape:', cosine_sim_df.shape)\n",
        " \n",
        "cosine_sim_df.sample(5, axis=1).sample(10, axis=0)"
      ],
      "execution_count": null,
      "outputs": [
        {
          "output_type": "stream",
          "name": "stdout",
          "text": [
            "Shape: (1554, 1554)\n"
          ]
        },
        {
          "output_type": "execute_result",
          "data": {
            "text/html": [
              "<div>\n",
              "<style scoped>\n",
              "    .dataframe tbody tr th:only-of-type {\n",
              "        vertical-align: middle;\n",
              "    }\n",
              "\n",
              "    .dataframe tbody tr th {\n",
              "        vertical-align: top;\n",
              "    }\n",
              "\n",
              "    .dataframe thead th {\n",
              "        text-align: right;\n",
              "    }\n",
              "</style>\n",
              "<table border=\"1\" class=\"dataframe\">\n",
              "  <thead>\n",
              "    <tr style=\"text-align: right;\">\n",
              "      <th>movie_name</th>\n",
              "      <th>Captain Phillips (2013)</th>\n",
              "      <th>Paprika (Papurika) (2006)</th>\n",
              "      <th>Look Who's Talking (1989)</th>\n",
              "      <th>Friendly Persuasion (1956)</th>\n",
              "      <th>Harry Potter and the Prisoner of Azkaban (2004)</th>\n",
              "    </tr>\n",
              "    <tr>\n",
              "      <th>movie_name</th>\n",
              "      <th></th>\n",
              "      <th></th>\n",
              "      <th></th>\n",
              "      <th></th>\n",
              "      <th></th>\n",
              "    </tr>\n",
              "  </thead>\n",
              "  <tbody>\n",
              "    <tr>\n",
              "      <th>Psycho (1960)</th>\n",
              "      <td>0.000000</td>\n",
              "      <td>0.000000</td>\n",
              "      <td>0.000000</td>\n",
              "      <td>0.000000</td>\n",
              "      <td>0.000000</td>\n",
              "    </tr>\n",
              "    <tr>\n",
              "      <th>Laputa: Castle in the Sky (Tenkû no shiro Rapyuta) (1986)</th>\n",
              "      <td>0.150265</td>\n",
              "      <td>0.583093</td>\n",
              "      <td>0.000000</td>\n",
              "      <td>0.000000</td>\n",
              "      <td>0.353917</td>\n",
              "    </tr>\n",
              "    <tr>\n",
              "      <th>Juno (2007)</th>\n",
              "      <td>0.104887</td>\n",
              "      <td>0.000000</td>\n",
              "      <td>0.900930</td>\n",
              "      <td>0.433964</td>\n",
              "      <td>0.000000</td>\n",
              "    </tr>\n",
              "    <tr>\n",
              "      <th>Northfork (2003)</th>\n",
              "      <td>0.097866</td>\n",
              "      <td>0.000000</td>\n",
              "      <td>0.000000</td>\n",
              "      <td>0.404916</td>\n",
              "      <td>0.481944</td>\n",
              "    </tr>\n",
              "    <tr>\n",
              "      <th>Ringu (Ring) (1998)</th>\n",
              "      <td>0.187561</td>\n",
              "      <td>0.296327</td>\n",
              "      <td>0.000000</td>\n",
              "      <td>0.000000</td>\n",
              "      <td>0.000000</td>\n",
              "    </tr>\n",
              "    <tr>\n",
              "      <th>All About Eve (1950)</th>\n",
              "      <td>0.241695</td>\n",
              "      <td>0.000000</td>\n",
              "      <td>0.000000</td>\n",
              "      <td>1.000000</td>\n",
              "      <td>0.000000</td>\n",
              "    </tr>\n",
              "    <tr>\n",
              "      <th>Aliens (1986)</th>\n",
              "      <td>0.185175</td>\n",
              "      <td>0.420138</td>\n",
              "      <td>0.000000</td>\n",
              "      <td>0.000000</td>\n",
              "      <td>0.178833</td>\n",
              "    </tr>\n",
              "    <tr>\n",
              "      <th>Grave of the Fireflies (Hotaru no haka) (1988)</th>\n",
              "      <td>0.065668</td>\n",
              "      <td>0.375058</td>\n",
              "      <td>0.000000</td>\n",
              "      <td>0.271700</td>\n",
              "      <td>0.000000</td>\n",
              "    </tr>\n",
              "    <tr>\n",
              "      <th>Three Musketeers, The (1973)</th>\n",
              "      <td>0.290987</td>\n",
              "      <td>0.000000</td>\n",
              "      <td>0.290389</td>\n",
              "      <td>0.000000</td>\n",
              "      <td>0.281021</td>\n",
              "    </tr>\n",
              "    <tr>\n",
              "      <th>Haunted World of El Superbeasto, The (2009)</th>\n",
              "      <td>0.154738</td>\n",
              "      <td>0.308638</td>\n",
              "      <td>0.191120</td>\n",
              "      <td>0.000000</td>\n",
              "      <td>0.000000</td>\n",
              "    </tr>\n",
              "  </tbody>\n",
              "</table>\n",
              "</div>"
            ],
            "text/plain": [
              "movie_name                                          Captain Phillips (2013)  ...  Harry Potter and the Prisoner of Azkaban (2004)\n",
              "movie_name                                                                   ...                                                 \n",
              "Psycho (1960)                                                      0.000000  ...                                         0.000000\n",
              "Laputa: Castle in the Sky (Tenkû no shiro Rapyu...                 0.150265  ...                                         0.353917\n",
              "Juno (2007)                                                        0.104887  ...                                         0.000000\n",
              "Northfork (2003)                                                   0.097866  ...                                         0.481944\n",
              "Ringu (Ring) (1998)                                                0.187561  ...                                         0.000000\n",
              "All About Eve (1950)                                               0.241695  ...                                         0.000000\n",
              "Aliens (1986)                                                      0.185175  ...                                         0.178833\n",
              "Grave of the Fireflies (Hotaru no haka) (1988)                     0.065668  ...                                         0.000000\n",
              "Three Musketeers, The (1973)                                       0.290987  ...                                         0.281021\n",
              "Haunted World of El Superbeasto, The (2009)                        0.154738  ...                                         0.000000\n",
              "\n",
              "[10 rows x 5 columns]"
            ]
          },
          "metadata": {},
          "execution_count": 31
        }
      ]
    },
    {
      "cell_type": "markdown",
      "metadata": {
        "id": "xDYETsfVOGeQ"
      },
      "source": [
        "## Mendapatkan Rekomendasi\n",
        " membuat fungsi movie_recommendations dengan beberapa parameter sebagai berikut:\n",
        "\n",
        "- Nama_movie : Nama judul dari movie tersebut (index kemiripan dataframe).  \n",
        "- Similarity_data : Dataframe mengenai similarity yang telah kita didefinisikan sebelumnya\n",
        "- Items : Nama dan fitur yang digunakan untuk mendefinisikan kemiripan, dalam hal ini adalah ‘movie_name’ dan ‘genre’.  \n",
        "- k : Banyak rekomendasi yang ingin diberikan.  \n",
        "\n",
        "\n"
      ]
    },
    {
      "cell_type": "code",
      "metadata": {
        "id": "7IqgkMaDOAm6"
      },
      "source": [
        "def movie_recommendations(nama_movie, similarity_data=cosine_sim_df, items=movie_new[['movie_name', 'genre']], k=5):\n",
        "   \n",
        " \n",
        "    # Mengambil data dengan menggunakan argpartition untuk melakukan partisi secara tidak langsung sepanjang sumbu yang diberikan    \n",
        "    # Dataframe diubah menjadi numpy\n",
        "    # Range(start, stop, step)\n",
        "    index = similarity_data.loc[:,nama_movie].to_numpy().argpartition(\n",
        "        range(-1, -k, -1))\n",
        "    \n",
        "    # Mengambil data dengan similarity terbesar dari index yang ada\n",
        "    closest = similarity_data.columns[index[-1:-(k+2):-1]]\n",
        "    \n",
        "    # Drop nama_movie agar nama movie yang dicari tidak muncul dalam daftar rekomendasi\n",
        "    closest = closest.drop(nama_movie, errors='ignore')\n",
        " \n",
        "    return pd.DataFrame(closest).merge(items).head(k)"
      ],
      "execution_count": null,
      "outputs": []
    },
    {
      "cell_type": "markdown",
      "metadata": {
        "id": "u9LTO9UGOc8G"
      },
      "source": [
        "\n",
        " terapkan kode di atas untuk menemukan rekomendasi movie yang mirip dengan Jumanji (1995)."
      ]
    },
    {
      "cell_type": "code",
      "metadata": {
        "colab": {
          "base_uri": "https://localhost:8080/",
          "height": 80
        },
        "id": "bEI8b0ztOkbs",
        "outputId": "7f22b373-badb-4b38-b523-760e2f5c6f32"
      },
      "source": [
        "movie_new[movie_new.movie_name.eq('Jumanji (1995)')]"
      ],
      "execution_count": null,
      "outputs": [
        {
          "output_type": "execute_result",
          "data": {
            "text/html": [
              "<div>\n",
              "<style scoped>\n",
              "    .dataframe tbody tr th:only-of-type {\n",
              "        vertical-align: middle;\n",
              "    }\n",
              "\n",
              "    .dataframe tbody tr th {\n",
              "        vertical-align: top;\n",
              "    }\n",
              "\n",
              "    .dataframe thead th {\n",
              "        text-align: right;\n",
              "    }\n",
              "</style>\n",
              "<table border=\"1\" class=\"dataframe\">\n",
              "  <thead>\n",
              "    <tr style=\"text-align: right;\">\n",
              "      <th></th>\n",
              "      <th>id</th>\n",
              "      <th>movie_name</th>\n",
              "      <th>genre</th>\n",
              "    </tr>\n",
              "  </thead>\n",
              "  <tbody>\n",
              "    <tr>\n",
              "      <th>1</th>\n",
              "      <td>2</td>\n",
              "      <td>Jumanji (1995)</td>\n",
              "      <td>Adventure|Children|Fantasy</td>\n",
              "    </tr>\n",
              "  </tbody>\n",
              "</table>\n",
              "</div>"
            ],
            "text/plain": [
              "   id      movie_name                       genre\n",
              "1   2  Jumanji (1995)  Adventure|Children|Fantasy"
            ]
          },
          "metadata": {},
          "execution_count": 33
        }
      ]
    },
    {
      "cell_type": "markdown",
      "metadata": {
        "id": "jFvD0epROmSm"
      },
      "source": [
        "dari hasil di atas dapat dilihat bahwa pengguna menyukai movie yang berjudul jumanji (1995) yang bergenre Adventure, Children, Fantasy.  \n",
        "Mendapatkan rekomendasi movie yang mirip dengan Jumanji (1995).\n",
        "\n"
      ]
    },
    {
      "cell_type": "code",
      "metadata": {
        "colab": {
          "base_uri": "https://localhost:8080/",
          "height": 204
        },
        "id": "a5PJnUgqOoJd",
        "outputId": "eb8ed30a-dbb5-44b9-edd5-a0885b367c7b"
      },
      "source": [
        "movie_recommendations('Jumanji (1995)')"
      ],
      "execution_count": null,
      "outputs": [
        {
          "output_type": "execute_result",
          "data": {
            "text/html": [
              "<div>\n",
              "<style scoped>\n",
              "    .dataframe tbody tr th:only-of-type {\n",
              "        vertical-align: middle;\n",
              "    }\n",
              "\n",
              "    .dataframe tbody tr th {\n",
              "        vertical-align: top;\n",
              "    }\n",
              "\n",
              "    .dataframe thead th {\n",
              "        text-align: right;\n",
              "    }\n",
              "</style>\n",
              "<table border=\"1\" class=\"dataframe\">\n",
              "  <thead>\n",
              "    <tr style=\"text-align: right;\">\n",
              "      <th></th>\n",
              "      <th>movie_name</th>\n",
              "      <th>genre</th>\n",
              "    </tr>\n",
              "  </thead>\n",
              "  <tbody>\n",
              "    <tr>\n",
              "      <th>0</th>\n",
              "      <td>Chronicles of Narnia: The Lion, the Witch and ...</td>\n",
              "      <td>Adventure|Children|Fantasy</td>\n",
              "    </tr>\n",
              "    <tr>\n",
              "      <th>1</th>\n",
              "      <td>Harry Potter and the Sorcerer's Stone (a.k.a. ...</td>\n",
              "      <td>Adventure|Children|Fantasy</td>\n",
              "    </tr>\n",
              "    <tr>\n",
              "      <th>2</th>\n",
              "      <td>Chronicles of Narnia: Prince Caspian, The (2008)</td>\n",
              "      <td>Adventure|Children|Fantasy</td>\n",
              "    </tr>\n",
              "    <tr>\n",
              "      <th>3</th>\n",
              "      <td>Lemony Snicket's A Series of Unfortunate Event...</td>\n",
              "      <td>Adventure|Children|Comedy|Fantasy</td>\n",
              "    </tr>\n",
              "    <tr>\n",
              "      <th>4</th>\n",
              "      <td>Lord of the Rings, The (1978)</td>\n",
              "      <td>Adventure|Animation|Children|Fantasy</td>\n",
              "    </tr>\n",
              "  </tbody>\n",
              "</table>\n",
              "</div>"
            ],
            "text/plain": [
              "                                          movie_name                                 genre\n",
              "0  Chronicles of Narnia: The Lion, the Witch and ...            Adventure|Children|Fantasy\n",
              "1  Harry Potter and the Sorcerer's Stone (a.k.a. ...            Adventure|Children|Fantasy\n",
              "2   Chronicles of Narnia: Prince Caspian, The (2008)            Adventure|Children|Fantasy\n",
              "3  Lemony Snicket's A Series of Unfortunate Event...     Adventure|Children|Comedy|Fantasy\n",
              "4                      Lord of the Rings, The (1978)  Adventure|Animation|Children|Fantasy"
            ]
          },
          "metadata": {},
          "execution_count": 34
        }
      ]
    },
    {
      "cell_type": "markdown",
      "metadata": {
        "id": "1doNLK_tNGsJ"
      },
      "source": [
        "Dari hasil rekomendasi di atas, diketahui bahwa Jumanji (1995) termasuk ke dalam genre  Adventure|Children|Fantasy. Dari 5 item yang direkomendasikan, 3 item memiliki genre Adventure|Children|Fantasy (similar). Artinya, precision sistem kita sebesar 3/5 atau 60%."
      ]
    },
    {
      "cell_type": "markdown",
      "metadata": {
        "id": "IE5DXGzbO5HM"
      },
      "source": [
        "2. Model Development dengan Collaborative Filtering \n",
        "\n",
        "Import semua library yang dibutuhkan"
      ]
    },
    {
      "cell_type": "code",
      "metadata": {
        "id": "sz9QIFTxPTr9"
      },
      "source": [
        "import pandas as pd\n",
        "import numpy as np \n",
        "import tensorflow as tf\n",
        "from tensorflow import keras\n",
        "from tensorflow.keras import layers\n",
        "from pathlib import Path\n",
        "import matplotlib.pyplot as plt"
      ],
      "execution_count": null,
      "outputs": []
    },
    {
      "cell_type": "markdown",
      "metadata": {
        "id": "e6pasz4-PYPC"
      },
      "source": [
        "ubah nama variabel ratings yang telah dibuat sebelumnya menjadi df."
      ]
    },
    {
      "cell_type": "code",
      "metadata": {
        "colab": {
          "base_uri": "https://localhost:8080/",
          "height": 419
        },
        "id": "EqppHcMPPYCv",
        "outputId": "23536a2e-5c61-4e06-99af-f4c3dd52b113"
      },
      "source": [
        "df = ratings\n",
        "df"
      ],
      "execution_count": null,
      "outputs": [
        {
          "output_type": "execute_result",
          "data": {
            "text/html": [
              "<div>\n",
              "<style scoped>\n",
              "    .dataframe tbody tr th:only-of-type {\n",
              "        vertical-align: middle;\n",
              "    }\n",
              "\n",
              "    .dataframe tbody tr th {\n",
              "        vertical-align: top;\n",
              "    }\n",
              "\n",
              "    .dataframe thead th {\n",
              "        text-align: right;\n",
              "    }\n",
              "</style>\n",
              "<table border=\"1\" class=\"dataframe\">\n",
              "  <thead>\n",
              "    <tr style=\"text-align: right;\">\n",
              "      <th></th>\n",
              "      <th>userId</th>\n",
              "      <th>movieId</th>\n",
              "      <th>rating</th>\n",
              "      <th>timestamp</th>\n",
              "    </tr>\n",
              "  </thead>\n",
              "  <tbody>\n",
              "    <tr>\n",
              "      <th>0</th>\n",
              "      <td>1</td>\n",
              "      <td>1</td>\n",
              "      <td>4.0</td>\n",
              "      <td>964982703</td>\n",
              "    </tr>\n",
              "    <tr>\n",
              "      <th>1</th>\n",
              "      <td>1</td>\n",
              "      <td>3</td>\n",
              "      <td>4.0</td>\n",
              "      <td>964981247</td>\n",
              "    </tr>\n",
              "    <tr>\n",
              "      <th>2</th>\n",
              "      <td>1</td>\n",
              "      <td>6</td>\n",
              "      <td>4.0</td>\n",
              "      <td>964982224</td>\n",
              "    </tr>\n",
              "    <tr>\n",
              "      <th>3</th>\n",
              "      <td>1</td>\n",
              "      <td>47</td>\n",
              "      <td>5.0</td>\n",
              "      <td>964983815</td>\n",
              "    </tr>\n",
              "    <tr>\n",
              "      <th>4</th>\n",
              "      <td>1</td>\n",
              "      <td>50</td>\n",
              "      <td>5.0</td>\n",
              "      <td>964982931</td>\n",
              "    </tr>\n",
              "    <tr>\n",
              "      <th>...</th>\n",
              "      <td>...</td>\n",
              "      <td>...</td>\n",
              "      <td>...</td>\n",
              "      <td>...</td>\n",
              "    </tr>\n",
              "    <tr>\n",
              "      <th>100831</th>\n",
              "      <td>610</td>\n",
              "      <td>166534</td>\n",
              "      <td>4.0</td>\n",
              "      <td>1493848402</td>\n",
              "    </tr>\n",
              "    <tr>\n",
              "      <th>100832</th>\n",
              "      <td>610</td>\n",
              "      <td>168248</td>\n",
              "      <td>5.0</td>\n",
              "      <td>1493850091</td>\n",
              "    </tr>\n",
              "    <tr>\n",
              "      <th>100833</th>\n",
              "      <td>610</td>\n",
              "      <td>168250</td>\n",
              "      <td>5.0</td>\n",
              "      <td>1494273047</td>\n",
              "    </tr>\n",
              "    <tr>\n",
              "      <th>100834</th>\n",
              "      <td>610</td>\n",
              "      <td>168252</td>\n",
              "      <td>5.0</td>\n",
              "      <td>1493846352</td>\n",
              "    </tr>\n",
              "    <tr>\n",
              "      <th>100835</th>\n",
              "      <td>610</td>\n",
              "      <td>170875</td>\n",
              "      <td>3.0</td>\n",
              "      <td>1493846415</td>\n",
              "    </tr>\n",
              "  </tbody>\n",
              "</table>\n",
              "<p>100836 rows × 4 columns</p>\n",
              "</div>"
            ],
            "text/plain": [
              "        userId  movieId  rating   timestamp\n",
              "0            1        1     4.0   964982703\n",
              "1            1        3     4.0   964981247\n",
              "2            1        6     4.0   964982224\n",
              "3            1       47     5.0   964983815\n",
              "4            1       50     5.0   964982931\n",
              "...        ...      ...     ...         ...\n",
              "100831     610   166534     4.0  1493848402\n",
              "100832     610   168248     5.0  1493850091\n",
              "100833     610   168250     5.0  1494273047\n",
              "100834     610   168252     5.0  1493846352\n",
              "100835     610   170875     3.0  1493846415\n",
              "\n",
              "[100836 rows x 4 columns]"
            ]
          },
          "metadata": {},
          "execution_count": 36
        }
      ]
    },
    {
      "cell_type": "markdown",
      "metadata": {
        "id": "ZFX98D9FPfGQ"
      },
      "source": [
        "## Data Preparation\n",
        "melakukan tahapan prepocessing"
      ]
    },
    {
      "cell_type": "code",
      "metadata": {
        "colab": {
          "base_uri": "https://localhost:8080/"
        },
        "id": "dJt27bMmPoyt",
        "outputId": "62d011cf-b15f-4692-e835-6c3027d881d3"
      },
      "source": [
        "# Mengubah userID menjadi list tanpa nilai yang sama\n",
        "user_ids = df['userId'].unique().tolist()\n",
        "print('list userID: ', user_ids)\n",
        " \n",
        "# Melakukan encoding userID\n",
        "user_to_user_encoded = {x: i for i, x in enumerate(user_ids)}\n",
        "print('encoded userID : ', user_to_user_encoded)\n",
        " \n",
        "# Melakukan proses encoding angka ke ke userID\n",
        "user_encoded_to_user = {i: x for i, x in enumerate(user_ids)}\n",
        "print('encoded angka ke userID: ', user_encoded_to_user)"
      ],
      "execution_count": null,
      "outputs": [
        {
          "output_type": "stream",
          "name": "stdout",
          "text": [
            "list userID:  [1, 2, 3, 4, 5, 6, 7, 8, 9, 10, 11, 12, 13, 14, 15, 16, 17, 18, 19, 20, 21, 22, 23, 24, 25, 26, 27, 28, 29, 30, 31, 32, 33, 34, 35, 36, 37, 38, 39, 40, 41, 42, 43, 44, 45, 46, 47, 48, 49, 50, 51, 52, 53, 54, 55, 56, 57, 58, 59, 60, 61, 62, 63, 64, 65, 66, 67, 68, 69, 70, 71, 72, 73, 74, 75, 76, 77, 78, 79, 80, 81, 82, 83, 84, 85, 86, 87, 88, 89, 90, 91, 92, 93, 94, 95, 96, 97, 98, 99, 100, 101, 102, 103, 104, 105, 106, 107, 108, 109, 110, 111, 112, 113, 114, 115, 116, 117, 118, 119, 120, 121, 122, 123, 124, 125, 126, 127, 128, 129, 130, 131, 132, 133, 134, 135, 136, 137, 138, 139, 140, 141, 142, 143, 144, 145, 146, 147, 148, 149, 150, 151, 152, 153, 154, 155, 156, 157, 158, 159, 160, 161, 162, 163, 164, 165, 166, 167, 168, 169, 170, 171, 172, 173, 174, 175, 176, 177, 178, 179, 180, 181, 182, 183, 184, 185, 186, 187, 188, 189, 190, 191, 192, 193, 194, 195, 196, 197, 198, 199, 200, 201, 202, 203, 204, 205, 206, 207, 208, 209, 210, 211, 212, 213, 214, 215, 216, 217, 218, 219, 220, 221, 222, 223, 224, 225, 226, 227, 228, 229, 230, 231, 232, 233, 234, 235, 236, 237, 238, 239, 240, 241, 242, 243, 244, 245, 246, 247, 248, 249, 250, 251, 252, 253, 254, 255, 256, 257, 258, 259, 260, 261, 262, 263, 264, 265, 266, 267, 268, 269, 270, 271, 272, 273, 274, 275, 276, 277, 278, 279, 280, 281, 282, 283, 284, 285, 286, 287, 288, 289, 290, 291, 292, 293, 294, 295, 296, 297, 298, 299, 300, 301, 302, 303, 304, 305, 306, 307, 308, 309, 310, 311, 312, 313, 314, 315, 316, 317, 318, 319, 320, 321, 322, 323, 324, 325, 326, 327, 328, 329, 330, 331, 332, 333, 334, 335, 336, 337, 338, 339, 340, 341, 342, 343, 344, 345, 346, 347, 348, 349, 350, 351, 352, 353, 354, 355, 356, 357, 358, 359, 360, 361, 362, 363, 364, 365, 366, 367, 368, 369, 370, 371, 372, 373, 374, 375, 376, 377, 378, 379, 380, 381, 382, 383, 384, 385, 386, 387, 388, 389, 390, 391, 392, 393, 394, 395, 396, 397, 398, 399, 400, 401, 402, 403, 404, 405, 406, 407, 408, 409, 410, 411, 412, 413, 414, 415, 416, 417, 418, 419, 420, 421, 422, 423, 424, 425, 426, 427, 428, 429, 430, 431, 432, 433, 434, 435, 436, 437, 438, 439, 440, 441, 442, 443, 444, 445, 446, 447, 448, 449, 450, 451, 452, 453, 454, 455, 456, 457, 458, 459, 460, 461, 462, 463, 464, 465, 466, 467, 468, 469, 470, 471, 472, 473, 474, 475, 476, 477, 478, 479, 480, 481, 482, 483, 484, 485, 486, 487, 488, 489, 490, 491, 492, 493, 494, 495, 496, 497, 498, 499, 500, 501, 502, 503, 504, 505, 506, 507, 508, 509, 510, 511, 512, 513, 514, 515, 516, 517, 518, 519, 520, 521, 522, 523, 524, 525, 526, 527, 528, 529, 530, 531, 532, 533, 534, 535, 536, 537, 538, 539, 540, 541, 542, 543, 544, 545, 546, 547, 548, 549, 550, 551, 552, 553, 554, 555, 556, 557, 558, 559, 560, 561, 562, 563, 564, 565, 566, 567, 568, 569, 570, 571, 572, 573, 574, 575, 576, 577, 578, 579, 580, 581, 582, 583, 584, 585, 586, 587, 588, 589, 590, 591, 592, 593, 594, 595, 596, 597, 598, 599, 600, 601, 602, 603, 604, 605, 606, 607, 608, 609, 610]\n",
            "encoded userID :  {1: 0, 2: 1, 3: 2, 4: 3, 5: 4, 6: 5, 7: 6, 8: 7, 9: 8, 10: 9, 11: 10, 12: 11, 13: 12, 14: 13, 15: 14, 16: 15, 17: 16, 18: 17, 19: 18, 20: 19, 21: 20, 22: 21, 23: 22, 24: 23, 25: 24, 26: 25, 27: 26, 28: 27, 29: 28, 30: 29, 31: 30, 32: 31, 33: 32, 34: 33, 35: 34, 36: 35, 37: 36, 38: 37, 39: 38, 40: 39, 41: 40, 42: 41, 43: 42, 44: 43, 45: 44, 46: 45, 47: 46, 48: 47, 49: 48, 50: 49, 51: 50, 52: 51, 53: 52, 54: 53, 55: 54, 56: 55, 57: 56, 58: 57, 59: 58, 60: 59, 61: 60, 62: 61, 63: 62, 64: 63, 65: 64, 66: 65, 67: 66, 68: 67, 69: 68, 70: 69, 71: 70, 72: 71, 73: 72, 74: 73, 75: 74, 76: 75, 77: 76, 78: 77, 79: 78, 80: 79, 81: 80, 82: 81, 83: 82, 84: 83, 85: 84, 86: 85, 87: 86, 88: 87, 89: 88, 90: 89, 91: 90, 92: 91, 93: 92, 94: 93, 95: 94, 96: 95, 97: 96, 98: 97, 99: 98, 100: 99, 101: 100, 102: 101, 103: 102, 104: 103, 105: 104, 106: 105, 107: 106, 108: 107, 109: 108, 110: 109, 111: 110, 112: 111, 113: 112, 114: 113, 115: 114, 116: 115, 117: 116, 118: 117, 119: 118, 120: 119, 121: 120, 122: 121, 123: 122, 124: 123, 125: 124, 126: 125, 127: 126, 128: 127, 129: 128, 130: 129, 131: 130, 132: 131, 133: 132, 134: 133, 135: 134, 136: 135, 137: 136, 138: 137, 139: 138, 140: 139, 141: 140, 142: 141, 143: 142, 144: 143, 145: 144, 146: 145, 147: 146, 148: 147, 149: 148, 150: 149, 151: 150, 152: 151, 153: 152, 154: 153, 155: 154, 156: 155, 157: 156, 158: 157, 159: 158, 160: 159, 161: 160, 162: 161, 163: 162, 164: 163, 165: 164, 166: 165, 167: 166, 168: 167, 169: 168, 170: 169, 171: 170, 172: 171, 173: 172, 174: 173, 175: 174, 176: 175, 177: 176, 178: 177, 179: 178, 180: 179, 181: 180, 182: 181, 183: 182, 184: 183, 185: 184, 186: 185, 187: 186, 188: 187, 189: 188, 190: 189, 191: 190, 192: 191, 193: 192, 194: 193, 195: 194, 196: 195, 197: 196, 198: 197, 199: 198, 200: 199, 201: 200, 202: 201, 203: 202, 204: 203, 205: 204, 206: 205, 207: 206, 208: 207, 209: 208, 210: 209, 211: 210, 212: 211, 213: 212, 214: 213, 215: 214, 216: 215, 217: 216, 218: 217, 219: 218, 220: 219, 221: 220, 222: 221, 223: 222, 224: 223, 225: 224, 226: 225, 227: 226, 228: 227, 229: 228, 230: 229, 231: 230, 232: 231, 233: 232, 234: 233, 235: 234, 236: 235, 237: 236, 238: 237, 239: 238, 240: 239, 241: 240, 242: 241, 243: 242, 244: 243, 245: 244, 246: 245, 247: 246, 248: 247, 249: 248, 250: 249, 251: 250, 252: 251, 253: 252, 254: 253, 255: 254, 256: 255, 257: 256, 258: 257, 259: 258, 260: 259, 261: 260, 262: 261, 263: 262, 264: 263, 265: 264, 266: 265, 267: 266, 268: 267, 269: 268, 270: 269, 271: 270, 272: 271, 273: 272, 274: 273, 275: 274, 276: 275, 277: 276, 278: 277, 279: 278, 280: 279, 281: 280, 282: 281, 283: 282, 284: 283, 285: 284, 286: 285, 287: 286, 288: 287, 289: 288, 290: 289, 291: 290, 292: 291, 293: 292, 294: 293, 295: 294, 296: 295, 297: 296, 298: 297, 299: 298, 300: 299, 301: 300, 302: 301, 303: 302, 304: 303, 305: 304, 306: 305, 307: 306, 308: 307, 309: 308, 310: 309, 311: 310, 312: 311, 313: 312, 314: 313, 315: 314, 316: 315, 317: 316, 318: 317, 319: 318, 320: 319, 321: 320, 322: 321, 323: 322, 324: 323, 325: 324, 326: 325, 327: 326, 328: 327, 329: 328, 330: 329, 331: 330, 332: 331, 333: 332, 334: 333, 335: 334, 336: 335, 337: 336, 338: 337, 339: 338, 340: 339, 341: 340, 342: 341, 343: 342, 344: 343, 345: 344, 346: 345, 347: 346, 348: 347, 349: 348, 350: 349, 351: 350, 352: 351, 353: 352, 354: 353, 355: 354, 356: 355, 357: 356, 358: 357, 359: 358, 360: 359, 361: 360, 362: 361, 363: 362, 364: 363, 365: 364, 366: 365, 367: 366, 368: 367, 369: 368, 370: 369, 371: 370, 372: 371, 373: 372, 374: 373, 375: 374, 376: 375, 377: 376, 378: 377, 379: 378, 380: 379, 381: 380, 382: 381, 383: 382, 384: 383, 385: 384, 386: 385, 387: 386, 388: 387, 389: 388, 390: 389, 391: 390, 392: 391, 393: 392, 394: 393, 395: 394, 396: 395, 397: 396, 398: 397, 399: 398, 400: 399, 401: 400, 402: 401, 403: 402, 404: 403, 405: 404, 406: 405, 407: 406, 408: 407, 409: 408, 410: 409, 411: 410, 412: 411, 413: 412, 414: 413, 415: 414, 416: 415, 417: 416, 418: 417, 419: 418, 420: 419, 421: 420, 422: 421, 423: 422, 424: 423, 425: 424, 426: 425, 427: 426, 428: 427, 429: 428, 430: 429, 431: 430, 432: 431, 433: 432, 434: 433, 435: 434, 436: 435, 437: 436, 438: 437, 439: 438, 440: 439, 441: 440, 442: 441, 443: 442, 444: 443, 445: 444, 446: 445, 447: 446, 448: 447, 449: 448, 450: 449, 451: 450, 452: 451, 453: 452, 454: 453, 455: 454, 456: 455, 457: 456, 458: 457, 459: 458, 460: 459, 461: 460, 462: 461, 463: 462, 464: 463, 465: 464, 466: 465, 467: 466, 468: 467, 469: 468, 470: 469, 471: 470, 472: 471, 473: 472, 474: 473, 475: 474, 476: 475, 477: 476, 478: 477, 479: 478, 480: 479, 481: 480, 482: 481, 483: 482, 484: 483, 485: 484, 486: 485, 487: 486, 488: 487, 489: 488, 490: 489, 491: 490, 492: 491, 493: 492, 494: 493, 495: 494, 496: 495, 497: 496, 498: 497, 499: 498, 500: 499, 501: 500, 502: 501, 503: 502, 504: 503, 505: 504, 506: 505, 507: 506, 508: 507, 509: 508, 510: 509, 511: 510, 512: 511, 513: 512, 514: 513, 515: 514, 516: 515, 517: 516, 518: 517, 519: 518, 520: 519, 521: 520, 522: 521, 523: 522, 524: 523, 525: 524, 526: 525, 527: 526, 528: 527, 529: 528, 530: 529, 531: 530, 532: 531, 533: 532, 534: 533, 535: 534, 536: 535, 537: 536, 538: 537, 539: 538, 540: 539, 541: 540, 542: 541, 543: 542, 544: 543, 545: 544, 546: 545, 547: 546, 548: 547, 549: 548, 550: 549, 551: 550, 552: 551, 553: 552, 554: 553, 555: 554, 556: 555, 557: 556, 558: 557, 559: 558, 560: 559, 561: 560, 562: 561, 563: 562, 564: 563, 565: 564, 566: 565, 567: 566, 568: 567, 569: 568, 570: 569, 571: 570, 572: 571, 573: 572, 574: 573, 575: 574, 576: 575, 577: 576, 578: 577, 579: 578, 580: 579, 581: 580, 582: 581, 583: 582, 584: 583, 585: 584, 586: 585, 587: 586, 588: 587, 589: 588, 590: 589, 591: 590, 592: 591, 593: 592, 594: 593, 595: 594, 596: 595, 597: 596, 598: 597, 599: 598, 600: 599, 601: 600, 602: 601, 603: 602, 604: 603, 605: 604, 606: 605, 607: 606, 608: 607, 609: 608, 610: 609}\n",
            "encoded angka ke userID:  {0: 1, 1: 2, 2: 3, 3: 4, 4: 5, 5: 6, 6: 7, 7: 8, 8: 9, 9: 10, 10: 11, 11: 12, 12: 13, 13: 14, 14: 15, 15: 16, 16: 17, 17: 18, 18: 19, 19: 20, 20: 21, 21: 22, 22: 23, 23: 24, 24: 25, 25: 26, 26: 27, 27: 28, 28: 29, 29: 30, 30: 31, 31: 32, 32: 33, 33: 34, 34: 35, 35: 36, 36: 37, 37: 38, 38: 39, 39: 40, 40: 41, 41: 42, 42: 43, 43: 44, 44: 45, 45: 46, 46: 47, 47: 48, 48: 49, 49: 50, 50: 51, 51: 52, 52: 53, 53: 54, 54: 55, 55: 56, 56: 57, 57: 58, 58: 59, 59: 60, 60: 61, 61: 62, 62: 63, 63: 64, 64: 65, 65: 66, 66: 67, 67: 68, 68: 69, 69: 70, 70: 71, 71: 72, 72: 73, 73: 74, 74: 75, 75: 76, 76: 77, 77: 78, 78: 79, 79: 80, 80: 81, 81: 82, 82: 83, 83: 84, 84: 85, 85: 86, 86: 87, 87: 88, 88: 89, 89: 90, 90: 91, 91: 92, 92: 93, 93: 94, 94: 95, 95: 96, 96: 97, 97: 98, 98: 99, 99: 100, 100: 101, 101: 102, 102: 103, 103: 104, 104: 105, 105: 106, 106: 107, 107: 108, 108: 109, 109: 110, 110: 111, 111: 112, 112: 113, 113: 114, 114: 115, 115: 116, 116: 117, 117: 118, 118: 119, 119: 120, 120: 121, 121: 122, 122: 123, 123: 124, 124: 125, 125: 126, 126: 127, 127: 128, 128: 129, 129: 130, 130: 131, 131: 132, 132: 133, 133: 134, 134: 135, 135: 136, 136: 137, 137: 138, 138: 139, 139: 140, 140: 141, 141: 142, 142: 143, 143: 144, 144: 145, 145: 146, 146: 147, 147: 148, 148: 149, 149: 150, 150: 151, 151: 152, 152: 153, 153: 154, 154: 155, 155: 156, 156: 157, 157: 158, 158: 159, 159: 160, 160: 161, 161: 162, 162: 163, 163: 164, 164: 165, 165: 166, 166: 167, 167: 168, 168: 169, 169: 170, 170: 171, 171: 172, 172: 173, 173: 174, 174: 175, 175: 176, 176: 177, 177: 178, 178: 179, 179: 180, 180: 181, 181: 182, 182: 183, 183: 184, 184: 185, 185: 186, 186: 187, 187: 188, 188: 189, 189: 190, 190: 191, 191: 192, 192: 193, 193: 194, 194: 195, 195: 196, 196: 197, 197: 198, 198: 199, 199: 200, 200: 201, 201: 202, 202: 203, 203: 204, 204: 205, 205: 206, 206: 207, 207: 208, 208: 209, 209: 210, 210: 211, 211: 212, 212: 213, 213: 214, 214: 215, 215: 216, 216: 217, 217: 218, 218: 219, 219: 220, 220: 221, 221: 222, 222: 223, 223: 224, 224: 225, 225: 226, 226: 227, 227: 228, 228: 229, 229: 230, 230: 231, 231: 232, 232: 233, 233: 234, 234: 235, 235: 236, 236: 237, 237: 238, 238: 239, 239: 240, 240: 241, 241: 242, 242: 243, 243: 244, 244: 245, 245: 246, 246: 247, 247: 248, 248: 249, 249: 250, 250: 251, 251: 252, 252: 253, 253: 254, 254: 255, 255: 256, 256: 257, 257: 258, 258: 259, 259: 260, 260: 261, 261: 262, 262: 263, 263: 264, 264: 265, 265: 266, 266: 267, 267: 268, 268: 269, 269: 270, 270: 271, 271: 272, 272: 273, 273: 274, 274: 275, 275: 276, 276: 277, 277: 278, 278: 279, 279: 280, 280: 281, 281: 282, 282: 283, 283: 284, 284: 285, 285: 286, 286: 287, 287: 288, 288: 289, 289: 290, 290: 291, 291: 292, 292: 293, 293: 294, 294: 295, 295: 296, 296: 297, 297: 298, 298: 299, 299: 300, 300: 301, 301: 302, 302: 303, 303: 304, 304: 305, 305: 306, 306: 307, 307: 308, 308: 309, 309: 310, 310: 311, 311: 312, 312: 313, 313: 314, 314: 315, 315: 316, 316: 317, 317: 318, 318: 319, 319: 320, 320: 321, 321: 322, 322: 323, 323: 324, 324: 325, 325: 326, 326: 327, 327: 328, 328: 329, 329: 330, 330: 331, 331: 332, 332: 333, 333: 334, 334: 335, 335: 336, 336: 337, 337: 338, 338: 339, 339: 340, 340: 341, 341: 342, 342: 343, 343: 344, 344: 345, 345: 346, 346: 347, 347: 348, 348: 349, 349: 350, 350: 351, 351: 352, 352: 353, 353: 354, 354: 355, 355: 356, 356: 357, 357: 358, 358: 359, 359: 360, 360: 361, 361: 362, 362: 363, 363: 364, 364: 365, 365: 366, 366: 367, 367: 368, 368: 369, 369: 370, 370: 371, 371: 372, 372: 373, 373: 374, 374: 375, 375: 376, 376: 377, 377: 378, 378: 379, 379: 380, 380: 381, 381: 382, 382: 383, 383: 384, 384: 385, 385: 386, 386: 387, 387: 388, 388: 389, 389: 390, 390: 391, 391: 392, 392: 393, 393: 394, 394: 395, 395: 396, 396: 397, 397: 398, 398: 399, 399: 400, 400: 401, 401: 402, 402: 403, 403: 404, 404: 405, 405: 406, 406: 407, 407: 408, 408: 409, 409: 410, 410: 411, 411: 412, 412: 413, 413: 414, 414: 415, 415: 416, 416: 417, 417: 418, 418: 419, 419: 420, 420: 421, 421: 422, 422: 423, 423: 424, 424: 425, 425: 426, 426: 427, 427: 428, 428: 429, 429: 430, 430: 431, 431: 432, 432: 433, 433: 434, 434: 435, 435: 436, 436: 437, 437: 438, 438: 439, 439: 440, 440: 441, 441: 442, 442: 443, 443: 444, 444: 445, 445: 446, 446: 447, 447: 448, 448: 449, 449: 450, 450: 451, 451: 452, 452: 453, 453: 454, 454: 455, 455: 456, 456: 457, 457: 458, 458: 459, 459: 460, 460: 461, 461: 462, 462: 463, 463: 464, 464: 465, 465: 466, 466: 467, 467: 468, 468: 469, 469: 470, 470: 471, 471: 472, 472: 473, 473: 474, 474: 475, 475: 476, 476: 477, 477: 478, 478: 479, 479: 480, 480: 481, 481: 482, 482: 483, 483: 484, 484: 485, 485: 486, 486: 487, 487: 488, 488: 489, 489: 490, 490: 491, 491: 492, 492: 493, 493: 494, 494: 495, 495: 496, 496: 497, 497: 498, 498: 499, 499: 500, 500: 501, 501: 502, 502: 503, 503: 504, 504: 505, 505: 506, 506: 507, 507: 508, 508: 509, 509: 510, 510: 511, 511: 512, 512: 513, 513: 514, 514: 515, 515: 516, 516: 517, 517: 518, 518: 519, 519: 520, 520: 521, 521: 522, 522: 523, 523: 524, 524: 525, 525: 526, 526: 527, 527: 528, 528: 529, 529: 530, 530: 531, 531: 532, 532: 533, 533: 534, 534: 535, 535: 536, 536: 537, 537: 538, 538: 539, 539: 540, 540: 541, 541: 542, 542: 543, 543: 544, 544: 545, 545: 546, 546: 547, 547: 548, 548: 549, 549: 550, 550: 551, 551: 552, 552: 553, 553: 554, 554: 555, 555: 556, 556: 557, 557: 558, 558: 559, 559: 560, 560: 561, 561: 562, 562: 563, 563: 564, 564: 565, 565: 566, 566: 567, 567: 568, 568: 569, 569: 570, 570: 571, 571: 572, 572: 573, 573: 574, 574: 575, 575: 576, 576: 577, 577: 578, 578: 579, 579: 580, 580: 581, 581: 582, 582: 583, 583: 584, 584: 585, 585: 586, 586: 587, 587: 588, 588: 589, 589: 590, 590: 591, 591: 592, 592: 593, 593: 594, 594: 595, 595: 596, 596: 597, 597: 598, 598: 599, 599: 600, 600: 601, 601: 602, 602: 603, 603: 604, 604: 605, 605: 606, 606: 607, 607: 608, 608: 609, 609: 610}\n"
          ]
        }
      ]
    },
    {
      "cell_type": "markdown",
      "metadata": {
        "id": "N1pFphs9Ps1u"
      },
      "source": [
        "Selanjutnya, lakukan hal yang sama pada fitur ‘movieId’."
      ]
    },
    {
      "cell_type": "code",
      "metadata": {
        "id": "977eOiBPPv8p"
      },
      "source": [
        "# Mengubah movieId menjadi list tanpa nilai yang sama\n",
        "movie_ids = df['movieId'].unique().tolist()\n",
        " \n",
        "# Melakukan proses encoding movieId\n",
        "movie_to_movie_encoded = {x: i for i, x in enumerate(movie_ids)}\n",
        " \n",
        "# Melakukan proses encoding angka ke movieId\n",
        "movie_encoded_to_movie = {i: x for i, x in enumerate(movie_ids)}\n",
        " \n",
        "# Selanjutnya, petakan userId dan movieId ke dataframe yang berkaitan.\n",
        " \n",
        "# Mapping userId ke dataframe genres\n",
        "df['genres'] = df['userId'].map(user_to_user_encoded)\n",
        " \n",
        "# Mapping movieD ke dataframe movies\n",
        "df['movies'] = df['movieId'].map(movie_to_movie_encoded)"
      ],
      "execution_count": null,
      "outputs": []
    },
    {
      "cell_type": "markdown",
      "metadata": {
        "id": "7F60C2btP3yD"
      },
      "source": [
        "Terakhir, cek beberapa hal dalam data seperti jumlah user, jumlah movie, dan mengubah nilai rating menjadi float, cek nilai minimum dan maximum"
      ]
    },
    {
      "cell_type": "code",
      "metadata": {
        "colab": {
          "base_uri": "https://localhost:8080/"
        },
        "id": "vrWhC6b_P6wv",
        "outputId": "afbc7a0b-21a1-48ba-d898-711db00b7443"
      },
      "source": [
        "num_users = len(user_to_user_encoded)\n",
        "print(num_users)\n",
        " \n",
        "num_movie = len(movie_encoded_to_movie)\n",
        "print(num_movie)\n",
        " \n",
        "df['ratings'] = df['rating'].values.astype(np.float32)\n",
        " \n",
        "min_rating = min(df['rating'])\n",
        " \n",
        "max_rating = max(df['rating'])\n",
        " \n",
        "print('Number of User: {}, Number of movie: {}, Min Rating: {}, Max Rating: {}'.format(\n",
        "    num_users, num_movie, min_rating, max_rating\n",
        "))"
      ],
      "execution_count": null,
      "outputs": [
        {
          "output_type": "stream",
          "name": "stdout",
          "text": [
            "610\n",
            "9724\n",
            "Number of User: 610, Number of movie: 9724, Min Rating: 0.5, Max Rating: 5.0\n"
          ]
        }
      ]
    },
    {
      "cell_type": "markdown",
      "metadata": {
        "id": "_BfGy20cQMwL"
      },
      "source": [
        "**Membagi Data untuk Training dan Validasi**\n"
      ]
    },
    {
      "cell_type": "code",
      "metadata": {
        "colab": {
          "base_uri": "https://localhost:8080/",
          "height": 419
        },
        "id": "qQPmSxkhQR1o",
        "outputId": "10e75854-9e8c-4fbf-9fcc-d275aecd80ac"
      },
      "source": [
        "# Mengacak dataset\n",
        "df = df.sample(frac=1, random_state=42)\n",
        "df"
      ],
      "execution_count": null,
      "outputs": [
        {
          "output_type": "execute_result",
          "data": {
            "text/html": [
              "<div>\n",
              "<style scoped>\n",
              "    .dataframe tbody tr th:only-of-type {\n",
              "        vertical-align: middle;\n",
              "    }\n",
              "\n",
              "    .dataframe tbody tr th {\n",
              "        vertical-align: top;\n",
              "    }\n",
              "\n",
              "    .dataframe thead th {\n",
              "        text-align: right;\n",
              "    }\n",
              "</style>\n",
              "<table border=\"1\" class=\"dataframe\">\n",
              "  <thead>\n",
              "    <tr style=\"text-align: right;\">\n",
              "      <th></th>\n",
              "      <th>userId</th>\n",
              "      <th>movieId</th>\n",
              "      <th>rating</th>\n",
              "      <th>timestamp</th>\n",
              "      <th>genres</th>\n",
              "      <th>movies</th>\n",
              "      <th>ratings</th>\n",
              "    </tr>\n",
              "  </thead>\n",
              "  <tbody>\n",
              "    <tr>\n",
              "      <th>67037</th>\n",
              "      <td>432</td>\n",
              "      <td>77866</td>\n",
              "      <td>4.5</td>\n",
              "      <td>1335139641</td>\n",
              "      <td>431</td>\n",
              "      <td>4730</td>\n",
              "      <td>4.5</td>\n",
              "    </tr>\n",
              "    <tr>\n",
              "      <th>42175</th>\n",
              "      <td>288</td>\n",
              "      <td>474</td>\n",
              "      <td>3.0</td>\n",
              "      <td>978465565</td>\n",
              "      <td>287</td>\n",
              "      <td>474</td>\n",
              "      <td>3.0</td>\n",
              "    </tr>\n",
              "    <tr>\n",
              "      <th>93850</th>\n",
              "      <td>599</td>\n",
              "      <td>4351</td>\n",
              "      <td>3.0</td>\n",
              "      <td>1498524542</td>\n",
              "      <td>598</td>\n",
              "      <td>2631</td>\n",
              "      <td>3.0</td>\n",
              "    </tr>\n",
              "    <tr>\n",
              "      <th>6187</th>\n",
              "      <td>42</td>\n",
              "      <td>2987</td>\n",
              "      <td>4.0</td>\n",
              "      <td>996262677</td>\n",
              "      <td>41</td>\n",
              "      <td>194</td>\n",
              "      <td>4.0</td>\n",
              "    </tr>\n",
              "    <tr>\n",
              "      <th>12229</th>\n",
              "      <td>75</td>\n",
              "      <td>1610</td>\n",
              "      <td>4.0</td>\n",
              "      <td>1158989841</td>\n",
              "      <td>74</td>\n",
              "      <td>727</td>\n",
              "      <td>4.0</td>\n",
              "    </tr>\n",
              "    <tr>\n",
              "      <th>...</th>\n",
              "      <td>...</td>\n",
              "      <td>...</td>\n",
              "      <td>...</td>\n",
              "      <td>...</td>\n",
              "      <td>...</td>\n",
              "      <td>...</td>\n",
              "      <td>...</td>\n",
              "    </tr>\n",
              "    <tr>\n",
              "      <th>6265</th>\n",
              "      <td>42</td>\n",
              "      <td>4005</td>\n",
              "      <td>4.0</td>\n",
              "      <td>996259059</td>\n",
              "      <td>41</td>\n",
              "      <td>1873</td>\n",
              "      <td>4.0</td>\n",
              "    </tr>\n",
              "    <tr>\n",
              "      <th>54886</th>\n",
              "      <td>364</td>\n",
              "      <td>141</td>\n",
              "      <td>4.0</td>\n",
              "      <td>869443367</td>\n",
              "      <td>363</td>\n",
              "      <td>524</td>\n",
              "      <td>4.0</td>\n",
              "    </tr>\n",
              "    <tr>\n",
              "      <th>76820</th>\n",
              "      <td>480</td>\n",
              "      <td>6867</td>\n",
              "      <td>4.0</td>\n",
              "      <td>1179163171</td>\n",
              "      <td>479</td>\n",
              "      <td>2240</td>\n",
              "      <td>4.0</td>\n",
              "    </tr>\n",
              "    <tr>\n",
              "      <th>860</th>\n",
              "      <td>6</td>\n",
              "      <td>981</td>\n",
              "      <td>3.0</td>\n",
              "      <td>845556567</td>\n",
              "      <td>5</td>\n",
              "      <td>712</td>\n",
              "      <td>3.0</td>\n",
              "    </tr>\n",
              "    <tr>\n",
              "      <th>15795</th>\n",
              "      <td>103</td>\n",
              "      <td>6711</td>\n",
              "      <td>5.0</td>\n",
              "      <td>1431957425</td>\n",
              "      <td>102</td>\n",
              "      <td>2046</td>\n",
              "      <td>5.0</td>\n",
              "    </tr>\n",
              "  </tbody>\n",
              "</table>\n",
              "<p>100836 rows × 7 columns</p>\n",
              "</div>"
            ],
            "text/plain": [
              "       userId  movieId  rating   timestamp  genres  movies  ratings\n",
              "67037     432    77866     4.5  1335139641     431    4730      4.5\n",
              "42175     288      474     3.0   978465565     287     474      3.0\n",
              "93850     599     4351     3.0  1498524542     598    2631      3.0\n",
              "6187       42     2987     4.0   996262677      41     194      4.0\n",
              "12229      75     1610     4.0  1158989841      74     727      4.0\n",
              "...       ...      ...     ...         ...     ...     ...      ...\n",
              "6265       42     4005     4.0   996259059      41    1873      4.0\n",
              "54886     364      141     4.0   869443367     363     524      4.0\n",
              "76820     480     6867     4.0  1179163171     479    2240      4.0\n",
              "860         6      981     3.0   845556567       5     712      3.0\n",
              "15795     103     6711     5.0  1431957425     102    2046      5.0\n",
              "\n",
              "[100836 rows x 7 columns]"
            ]
          },
          "metadata": {},
          "execution_count": 40
        }
      ]
    },
    {
      "cell_type": "markdown",
      "metadata": {
        "id": "X4pOMSw1QWRe"
      },
      "source": [
        "membagi data train dan validasi dengan komposisi 80:20. "
      ]
    },
    {
      "cell_type": "code",
      "metadata": {
        "colab": {
          "base_uri": "https://localhost:8080/"
        },
        "id": "C-thC2GBQdGf",
        "outputId": "0cbe4d36-8400-4c82-c695-4a5c5b249261"
      },
      "source": [
        "# Membuat variabel x untuk mencocokkan data genres  dan movies menjadi satu value\n",
        "x = df[['genres', 'movies']].values\n",
        " \n",
        "# Membuat variabel y untuk membuat ratings dari hasil \n",
        "y = df['ratings'].apply(lambda x: (x - min_rating) / (max_rating - min_rating)).values\n",
        " \n",
        "# Membagi menjadi 80% data train dan 20% data validasi\n",
        "train_indices = int(0.8 * df.shape[0])\n",
        "x_train, x_val, y_train, y_val = (\n",
        "    x[:train_indices],\n",
        "    x[train_indices:],\n",
        "    y[:train_indices],\n",
        "    y[train_indices:]\n",
        ")\n",
        " \n",
        "print(x, y)"
      ],
      "execution_count": null,
      "outputs": [
        {
          "output_type": "stream",
          "name": "stdout",
          "text": [
            "[[ 431 4730]\n",
            " [ 287  474]\n",
            " [ 598 2631]\n",
            " ...\n",
            " [ 479 2240]\n",
            " [   5  712]\n",
            " [ 102 2046]] [0.88888889 0.55555556 0.55555556 ... 0.77777778 0.55555556 1.        ]\n"
          ]
        }
      ]
    },
    {
      "cell_type": "markdown",
      "metadata": {
        "id": "zUZ7PZClQoCX"
      },
      "source": [
        "lakukan proses training\n"
      ]
    },
    {
      "cell_type": "code",
      "metadata": {
        "id": "NwWjQNuTQtBU"
      },
      "source": [
        "class RecommenderNet(tf.keras.Model):\n",
        " \n",
        "  # Insialisasi fungsi\n",
        "  def __init__(self, num_users, num_movie, embedding_size, **kwargs):\n",
        "    super(RecommenderNet, self).__init__(**kwargs)\n",
        "    self.num_users = num_users\n",
        "    self.num_movie = num_movie\n",
        "    self.embedding_size = embedding_size\n",
        "    self.user_embedding = layers.Embedding( # layer embedding user\n",
        "        num_users,\n",
        "        embedding_size,\n",
        "        embeddings_initializer = 'he_normal',\n",
        "        embeddings_regularizer = keras.regularizers.l2(1e-6)\n",
        "    )\n",
        "    self.user_bias = layers.Embedding(num_users, 1) # layer embedding user bias\n",
        "    self.movie_embedding = layers.Embedding( # layer embeddings movies\n",
        "        num_movie,\n",
        "        embedding_size,\n",
        "        embeddings_initializer = 'he_normal',\n",
        "        embeddings_regularizer = keras.regularizers.l2(1e-6)\n",
        "    )\n",
        "    self.movie_bias = layers.Embedding(num_movie, 1) # layer embedding movies bias\n",
        " \n",
        "  def call(self, inputs):\n",
        "    user_vector = self.user_embedding(inputs[:,0]) # memanggil layer embedding 1\n",
        "    user_bias = self.user_bias(inputs[:, 0]) # memanggil layer embedding 2\n",
        "    movie_vector = self.movie_embedding(inputs[:, 1]) # memanggil layer embedding 3\n",
        "    movie_bias = self.movie_bias(inputs[:, 1]) # memanggil layer embedding 4\n",
        " \n",
        "    dot_user_movie = tf.tensordot(user_vector, movie_vector, 2) \n",
        " \n",
        "    x = dot_user_movie + user_bias + movie_bias\n",
        "    \n",
        "    return tf.nn.sigmoid(x) # activation sigmoid"
      ],
      "execution_count": null,
      "outputs": []
    },
    {
      "cell_type": "markdown",
      "metadata": {
        "id": "V29cvzoGQu1Z"
      },
      "source": [
        "## Evaluation \n",
        "Selanjutnya, lakukan proses compile terhadap model. serta menggunakan matrix evaluasi RMSE\n",
        "\n"
      ]
    },
    {
      "cell_type": "code",
      "metadata": {
        "id": "DX7GdqjHQyps"
      },
      "source": [
        "model = RecommenderNet(num_users, num_movie, 50) # inisialisasi model\n",
        " \n",
        "# model compile\n",
        "model.compile(\n",
        "    loss = tf.keras.losses.BinaryCrossentropy(),\n",
        "    optimizer = keras.optimizers.Adam(learning_rate=0.001),\n",
        "    metrics=[tf.keras.metrics.RootMeanSquaredError()]\n",
        ")"
      ],
      "execution_count": null,
      "outputs": []
    },
    {
      "cell_type": "markdown",
      "metadata": {
        "id": "ISrZu97CQzU5"
      },
      "source": [
        "Memulai proses training dengan batch size sebesar 64 serta epoch 100 kali"
      ]
    },
    {
      "cell_type": "code",
      "metadata": {
        "colab": {
          "base_uri": "https://localhost:8080/"
        },
        "id": "g94d6UKKQ7hX",
        "outputId": "d095bf70-c21c-4b0f-ce4a-81e61bc127ea"
      },
      "source": [
        "# Memulai training\n",
        " \n",
        "history = model.fit(\n",
        "    x = x_train,\n",
        "    y = y_train,\n",
        "    batch_size = 64,\n",
        "    epochs = 100,\n",
        "    validation_data = (x_val, y_val)\n",
        ")"
      ],
      "execution_count": null,
      "outputs": [
        {
          "output_type": "stream",
          "name": "stdout",
          "text": [
            "Epoch 1/100\n",
            "1261/1261 [==============================] - 15s 11ms/step - loss: 0.6389 - root_mean_squared_error: 0.2350 - val_loss: 0.6208 - val_root_mean_squared_error: 0.2152\n",
            "Epoch 2/100\n",
            "1261/1261 [==============================] - 13s 10ms/step - loss: 0.6146 - root_mean_squared_error: 0.2095 - val_loss: 0.6212 - val_root_mean_squared_error: 0.2151\n",
            "Epoch 3/100\n",
            "1261/1261 [==============================] - 12s 9ms/step - loss: 0.6089 - root_mean_squared_error: 0.2034 - val_loss: 0.6152 - val_root_mean_squared_error: 0.2090\n",
            "Epoch 4/100\n",
            "1261/1261 [==============================] - 13s 10ms/step - loss: 0.6070 - root_mean_squared_error: 0.2013 - val_loss: 0.6135 - val_root_mean_squared_error: 0.2072\n",
            "Epoch 5/100\n",
            "1261/1261 [==============================] - 12s 9ms/step - loss: 0.6065 - root_mean_squared_error: 0.2005 - val_loss: 0.6114 - val_root_mean_squared_error: 0.2047\n",
            "Epoch 6/100\n",
            "1261/1261 [==============================] - 11s 9ms/step - loss: 0.6069 - root_mean_squared_error: 0.2007 - val_loss: 0.6118 - val_root_mean_squared_error: 0.2052\n",
            "Epoch 7/100\n",
            "1261/1261 [==============================] - 12s 10ms/step - loss: 0.6056 - root_mean_squared_error: 0.1990 - val_loss: 0.6124 - val_root_mean_squared_error: 0.2057\n",
            "Epoch 8/100\n",
            "1261/1261 [==============================] - 10s 8ms/step - loss: 0.6053 - root_mean_squared_error: 0.1985 - val_loss: 0.6138 - val_root_mean_squared_error: 0.2072\n",
            "Epoch 9/100\n",
            "1261/1261 [==============================] - 10s 8ms/step - loss: 0.6045 - root_mean_squared_error: 0.1975 - val_loss: 0.6114 - val_root_mean_squared_error: 0.2044\n",
            "Epoch 10/100\n",
            "1261/1261 [==============================] - 12s 10ms/step - loss: 0.6031 - root_mean_squared_error: 0.1959 - val_loss: 0.6121 - val_root_mean_squared_error: 0.2050\n",
            "Epoch 11/100\n",
            "1261/1261 [==============================] - 12s 9ms/step - loss: 0.6036 - root_mean_squared_error: 0.1962 - val_loss: 0.6148 - val_root_mean_squared_error: 0.2078\n",
            "Epoch 12/100\n",
            "1261/1261 [==============================] - 12s 9ms/step - loss: 0.6044 - root_mean_squared_error: 0.1968 - val_loss: 0.6139 - val_root_mean_squared_error: 0.2066\n",
            "Epoch 13/100\n",
            "1261/1261 [==============================] - 12s 10ms/step - loss: 0.6043 - root_mean_squared_error: 0.1965 - val_loss: 0.6138 - val_root_mean_squared_error: 0.2065\n",
            "Epoch 14/100\n",
            "1261/1261 [==============================] - 12s 10ms/step - loss: 0.6032 - root_mean_squared_error: 0.1952 - val_loss: 0.6129 - val_root_mean_squared_error: 0.2052\n",
            "Epoch 15/100\n",
            "1261/1261 [==============================] - 12s 10ms/step - loss: 0.6032 - root_mean_squared_error: 0.1948 - val_loss: 0.6134 - val_root_mean_squared_error: 0.2057\n",
            "Epoch 16/100\n",
            "1261/1261 [==============================] - 13s 10ms/step - loss: 0.6044 - root_mean_squared_error: 0.1963 - val_loss: 0.6115 - val_root_mean_squared_error: 0.2034\n",
            "Epoch 17/100\n",
            "1261/1261 [==============================] - 12s 9ms/step - loss: 0.6034 - root_mean_squared_error: 0.1948 - val_loss: 0.6128 - val_root_mean_squared_error: 0.2049\n",
            "Epoch 18/100\n",
            "1261/1261 [==============================] - 14s 11ms/step - loss: 0.6031 - root_mean_squared_error: 0.1943 - val_loss: 0.6130 - val_root_mean_squared_error: 0.2051\n",
            "Epoch 19/100\n",
            "1261/1261 [==============================] - 13s 10ms/step - loss: 0.6035 - root_mean_squared_error: 0.1947 - val_loss: 0.6120 - val_root_mean_squared_error: 0.2038\n",
            "Epoch 20/100\n",
            "1261/1261 [==============================] - 13s 10ms/step - loss: 0.6038 - root_mean_squared_error: 0.1948 - val_loss: 0.6133 - val_root_mean_squared_error: 0.2047\n",
            "Epoch 21/100\n",
            "1261/1261 [==============================] - 12s 10ms/step - loss: 0.6019 - root_mean_squared_error: 0.1927 - val_loss: 0.6147 - val_root_mean_squared_error: 0.2063\n",
            "Epoch 22/100\n",
            "1261/1261 [==============================] - 12s 9ms/step - loss: 0.6028 - root_mean_squared_error: 0.1937 - val_loss: 0.6138 - val_root_mean_squared_error: 0.2052\n",
            "Epoch 23/100\n",
            "1261/1261 [==============================] - 12s 10ms/step - loss: 0.6048 - root_mean_squared_error: 0.1956 - val_loss: 0.6150 - val_root_mean_squared_error: 0.2065\n",
            "Epoch 24/100\n",
            "1261/1261 [==============================] - 11s 9ms/step - loss: 0.6031 - root_mean_squared_error: 0.1937 - val_loss: 0.6158 - val_root_mean_squared_error: 0.2074\n",
            "Epoch 25/100\n",
            "1261/1261 [==============================] - 10s 8ms/step - loss: 0.6041 - root_mean_squared_error: 0.1948 - val_loss: 0.6155 - val_root_mean_squared_error: 0.2071\n",
            "Epoch 26/100\n",
            "1261/1261 [==============================] - 10s 8ms/step - loss: 0.6049 - root_mean_squared_error: 0.1954 - val_loss: 0.6157 - val_root_mean_squared_error: 0.2074\n",
            "Epoch 27/100\n",
            "1261/1261 [==============================] - 11s 9ms/step - loss: 0.6049 - root_mean_squared_error: 0.1954 - val_loss: 0.6159 - val_root_mean_squared_error: 0.2075\n",
            "Epoch 28/100\n",
            "1261/1261 [==============================] - 10s 8ms/step - loss: 0.6047 - root_mean_squared_error: 0.1950 - val_loss: 0.6159 - val_root_mean_squared_error: 0.2074\n",
            "Epoch 29/100\n",
            "1261/1261 [==============================] - 11s 8ms/step - loss: 0.6046 - root_mean_squared_error: 0.1948 - val_loss: 0.6157 - val_root_mean_squared_error: 0.2069\n",
            "Epoch 30/100\n",
            "1261/1261 [==============================] - 11s 9ms/step - loss: 0.6043 - root_mean_squared_error: 0.1945 - val_loss: 0.6168 - val_root_mean_squared_error: 0.2079\n",
            "Epoch 31/100\n",
            "1261/1261 [==============================] - 11s 8ms/step - loss: 0.6040 - root_mean_squared_error: 0.1941 - val_loss: 0.6162 - val_root_mean_squared_error: 0.2071\n",
            "Epoch 32/100\n",
            "1261/1261 [==============================] - 11s 9ms/step - loss: 0.6049 - root_mean_squared_error: 0.1950 - val_loss: 0.6159 - val_root_mean_squared_error: 0.2066\n",
            "Epoch 33/100\n",
            "1261/1261 [==============================] - 12s 10ms/step - loss: 0.6056 - root_mean_squared_error: 0.1956 - val_loss: 0.6161 - val_root_mean_squared_error: 0.2068\n",
            "Epoch 34/100\n",
            "1261/1261 [==============================] - 12s 9ms/step - loss: 0.6056 - root_mean_squared_error: 0.1954 - val_loss: 0.6158 - val_root_mean_squared_error: 0.2064\n",
            "Epoch 35/100\n",
            "1261/1261 [==============================] - 12s 10ms/step - loss: 0.6036 - root_mean_squared_error: 0.1933 - val_loss: 0.6152 - val_root_mean_squared_error: 0.2056\n",
            "Epoch 36/100\n",
            "1261/1261 [==============================] - 10s 8ms/step - loss: 0.6052 - root_mean_squared_error: 0.1952 - val_loss: 0.6143 - val_root_mean_squared_error: 0.2047\n",
            "Epoch 37/100\n",
            "1261/1261 [==============================] - 11s 9ms/step - loss: 0.6040 - root_mean_squared_error: 0.1936 - val_loss: 0.6153 - val_root_mean_squared_error: 0.2061\n",
            "Epoch 38/100\n",
            "1261/1261 [==============================] - 11s 9ms/step - loss: 0.6054 - root_mean_squared_error: 0.1952 - val_loss: 0.6146 - val_root_mean_squared_error: 0.2052\n",
            "Epoch 39/100\n",
            "1261/1261 [==============================] - 11s 9ms/step - loss: 0.6050 - root_mean_squared_error: 0.1946 - val_loss: 0.6149 - val_root_mean_squared_error: 0.2054\n",
            "Epoch 40/100\n",
            "1261/1261 [==============================] - 11s 9ms/step - loss: 0.6064 - root_mean_squared_error: 0.1960 - val_loss: 0.6150 - val_root_mean_squared_error: 0.2054\n",
            "Epoch 41/100\n",
            "1261/1261 [==============================] - 11s 9ms/step - loss: 0.6040 - root_mean_squared_error: 0.1935 - val_loss: 0.6145 - val_root_mean_squared_error: 0.2045\n",
            "Epoch 42/100\n",
            "1261/1261 [==============================] - 12s 10ms/step - loss: 0.6053 - root_mean_squared_error: 0.1948 - val_loss: 0.6168 - val_root_mean_squared_error: 0.2069\n",
            "Epoch 43/100\n",
            "1261/1261 [==============================] - 12s 9ms/step - loss: 0.6060 - root_mean_squared_error: 0.1954 - val_loss: 0.6167 - val_root_mean_squared_error: 0.2063\n",
            "Epoch 44/100\n",
            "1261/1261 [==============================] - 11s 9ms/step - loss: 0.6058 - root_mean_squared_error: 0.1952 - val_loss: 0.6169 - val_root_mean_squared_error: 0.2068\n",
            "Epoch 45/100\n",
            "1261/1261 [==============================] - 11s 9ms/step - loss: 0.6045 - root_mean_squared_error: 0.1940 - val_loss: 0.6166 - val_root_mean_squared_error: 0.2062\n",
            "Epoch 46/100\n",
            "1261/1261 [==============================] - 11s 9ms/step - loss: 0.6053 - root_mean_squared_error: 0.1947 - val_loss: 0.6152 - val_root_mean_squared_error: 0.2047\n",
            "Epoch 47/100\n",
            "1261/1261 [==============================] - 11s 9ms/step - loss: 0.6048 - root_mean_squared_error: 0.1942 - val_loss: 0.6161 - val_root_mean_squared_error: 0.2060\n",
            "Epoch 48/100\n",
            "1261/1261 [==============================] - 11s 8ms/step - loss: 0.6054 - root_mean_squared_error: 0.1950 - val_loss: 0.6178 - val_root_mean_squared_error: 0.2074\n",
            "Epoch 49/100\n",
            "1261/1261 [==============================] - 11s 9ms/step - loss: 0.6056 - root_mean_squared_error: 0.1947 - val_loss: 0.6199 - val_root_mean_squared_error: 0.2102\n",
            "Epoch 50/100\n",
            "1261/1261 [==============================] - 11s 9ms/step - loss: 0.6053 - root_mean_squared_error: 0.1951 - val_loss: 0.6181 - val_root_mean_squared_error: 0.2076\n",
            "Epoch 51/100\n",
            "1261/1261 [==============================] - 11s 9ms/step - loss: 0.6055 - root_mean_squared_error: 0.1940 - val_loss: 0.6199 - val_root_mean_squared_error: 0.2101\n",
            "Epoch 52/100\n",
            "1261/1261 [==============================] - 12s 9ms/step - loss: 0.6072 - root_mean_squared_error: 0.1970 - val_loss: 0.6172 - val_root_mean_squared_error: 0.2063\n",
            "Epoch 53/100\n",
            "1261/1261 [==============================] - 13s 11ms/step - loss: 0.6064 - root_mean_squared_error: 0.1948 - val_loss: 0.6212 - val_root_mean_squared_error: 0.2115\n",
            "Epoch 54/100\n",
            "1261/1261 [==============================] - 11s 9ms/step - loss: 0.6060 - root_mean_squared_error: 0.1962 - val_loss: 0.6178 - val_root_mean_squared_error: 0.2062\n",
            "Epoch 55/100\n",
            "1261/1261 [==============================] - 12s 9ms/step - loss: 0.6061 - root_mean_squared_error: 0.1940 - val_loss: 0.6205 - val_root_mean_squared_error: 0.2110\n",
            "Epoch 56/100\n",
            "1261/1261 [==============================] - 12s 9ms/step - loss: 0.6064 - root_mean_squared_error: 0.1968 - val_loss: 0.6187 - val_root_mean_squared_error: 0.2065\n",
            "Epoch 57/100\n",
            "1261/1261 [==============================] - 11s 9ms/step - loss: 0.6068 - root_mean_squared_error: 0.1948 - val_loss: 0.6206 - val_root_mean_squared_error: 0.2111\n",
            "Epoch 58/100\n",
            "1261/1261 [==============================] - 12s 9ms/step - loss: 0.6077 - root_mean_squared_error: 0.1981 - val_loss: 0.6193 - val_root_mean_squared_error: 0.2068\n",
            "Epoch 59/100\n",
            "1261/1261 [==============================] - 12s 10ms/step - loss: 0.6047 - root_mean_squared_error: 0.1927 - val_loss: 0.6200 - val_root_mean_squared_error: 0.2104\n",
            "Epoch 60/100\n",
            "1261/1261 [==============================] - 12s 9ms/step - loss: 0.6055 - root_mean_squared_error: 0.1957 - val_loss: 0.6183 - val_root_mean_squared_error: 0.2062\n",
            "Epoch 61/100\n",
            "1261/1261 [==============================] - 12s 10ms/step - loss: 0.6035 - root_mean_squared_error: 0.1915 - val_loss: 0.6188 - val_root_mean_squared_error: 0.2089\n",
            "Epoch 62/100\n",
            "1261/1261 [==============================] - 11s 9ms/step - loss: 0.6041 - root_mean_squared_error: 0.1943 - val_loss: 0.6174 - val_root_mean_squared_error: 0.2052\n",
            "Epoch 63/100\n",
            "1261/1261 [==============================] - 11s 9ms/step - loss: 0.6049 - root_mean_squared_error: 0.1933 - val_loss: 0.6175 - val_root_mean_squared_error: 0.2074\n",
            "Epoch 64/100\n",
            "1261/1261 [==============================] - 11s 9ms/step - loss: 0.6043 - root_mean_squared_error: 0.1944 - val_loss: 0.6171 - val_root_mean_squared_error: 0.2051\n",
            "Epoch 65/100\n",
            "1261/1261 [==============================] - 12s 10ms/step - loss: 0.6049 - root_mean_squared_error: 0.1932 - val_loss: 0.6206 - val_root_mean_squared_error: 0.2106\n",
            "Epoch 66/100\n",
            "1261/1261 [==============================] - 11s 9ms/step - loss: 0.6056 - root_mean_squared_error: 0.1957 - val_loss: 0.6186 - val_root_mean_squared_error: 0.2065\n",
            "Epoch 67/100\n",
            "1261/1261 [==============================] - 12s 9ms/step - loss: 0.6042 - root_mean_squared_error: 0.1924 - val_loss: 0.6178 - val_root_mean_squared_error: 0.2076\n",
            "Epoch 68/100\n",
            "1261/1261 [==============================] - 12s 10ms/step - loss: 0.6047 - root_mean_squared_error: 0.1951 - val_loss: 0.6195 - val_root_mean_squared_error: 0.2066\n",
            "Epoch 69/100\n",
            "1261/1261 [==============================] - 12s 9ms/step - loss: 0.6043 - root_mean_squared_error: 0.1925 - val_loss: 0.6185 - val_root_mean_squared_error: 0.2083\n",
            "Epoch 70/100\n",
            "1261/1261 [==============================] - 12s 9ms/step - loss: 0.6051 - root_mean_squared_error: 0.1953 - val_loss: 0.6191 - val_root_mean_squared_error: 0.2065\n",
            "Epoch 71/100\n",
            "1261/1261 [==============================] - 11s 9ms/step - loss: 0.6036 - root_mean_squared_error: 0.1916 - val_loss: 0.6198 - val_root_mean_squared_error: 0.2098\n",
            "Epoch 72/100\n",
            "1261/1261 [==============================] - 12s 10ms/step - loss: 0.6057 - root_mean_squared_error: 0.1958 - val_loss: 0.6205 - val_root_mean_squared_error: 0.2078\n",
            "Epoch 73/100\n",
            "1261/1261 [==============================] - 12s 9ms/step - loss: 0.6045 - root_mean_squared_error: 0.1926 - val_loss: 0.6193 - val_root_mean_squared_error: 0.2091\n",
            "Epoch 74/100\n",
            "1261/1261 [==============================] - 11s 8ms/step - loss: 0.6036 - root_mean_squared_error: 0.1938 - val_loss: 0.6205 - val_root_mean_squared_error: 0.2077\n",
            "Epoch 75/100\n",
            "1261/1261 [==============================] - 12s 10ms/step - loss: 0.6024 - root_mean_squared_error: 0.1905 - val_loss: 0.6200 - val_root_mean_squared_error: 0.2100\n",
            "Epoch 76/100\n",
            "1261/1261 [==============================] - 12s 10ms/step - loss: 0.6054 - root_mean_squared_error: 0.1958 - val_loss: 0.6195 - val_root_mean_squared_error: 0.2071\n",
            "Epoch 77/100\n",
            "1261/1261 [==============================] - 13s 10ms/step - loss: 0.6045 - root_mean_squared_error: 0.1927 - val_loss: 0.6193 - val_root_mean_squared_error: 0.2090\n",
            "Epoch 78/100\n",
            "1261/1261 [==============================] - 12s 9ms/step - loss: 0.6032 - root_mean_squared_error: 0.1931 - val_loss: 0.6186 - val_root_mean_squared_error: 0.2062\n",
            "Epoch 79/100\n",
            "1261/1261 [==============================] - 12s 10ms/step - loss: 0.6029 - root_mean_squared_error: 0.1913 - val_loss: 0.6176 - val_root_mean_squared_error: 0.2070\n",
            "Epoch 80/100\n",
            "1261/1261 [==============================] - 12s 9ms/step - loss: 0.6042 - root_mean_squared_error: 0.1943 - val_loss: 0.6198 - val_root_mean_squared_error: 0.2072\n",
            "Epoch 81/100\n",
            "1261/1261 [==============================] - 13s 11ms/step - loss: 0.6039 - root_mean_squared_error: 0.1922 - val_loss: 0.6187 - val_root_mean_squared_error: 0.2080\n",
            "Epoch 82/100\n",
            "1261/1261 [==============================] - 12s 9ms/step - loss: 0.6052 - root_mean_squared_error: 0.1956 - val_loss: 0.6212 - val_root_mean_squared_error: 0.2083\n",
            "Epoch 83/100\n",
            "1261/1261 [==============================] - 11s 8ms/step - loss: 0.6055 - root_mean_squared_error: 0.1931 - val_loss: 0.6203 - val_root_mean_squared_error: 0.2095\n",
            "Epoch 84/100\n",
            "1261/1261 [==============================] - 12s 9ms/step - loss: 0.6041 - root_mean_squared_error: 0.1943 - val_loss: 0.6222 - val_root_mean_squared_error: 0.2089\n",
            "Epoch 85/100\n",
            "1261/1261 [==============================] - 12s 10ms/step - loss: 0.6045 - root_mean_squared_error: 0.1923 - val_loss: 0.6205 - val_root_mean_squared_error: 0.2099\n",
            "Epoch 86/100\n",
            "1261/1261 [==============================] - 12s 10ms/step - loss: 0.6042 - root_mean_squared_error: 0.1946 - val_loss: 0.6220 - val_root_mean_squared_error: 0.2086\n",
            "Epoch 87/100\n",
            "1261/1261 [==============================] - 12s 9ms/step - loss: 0.6037 - root_mean_squared_error: 0.1918 - val_loss: 0.6199 - val_root_mean_squared_error: 0.2094\n",
            "Epoch 88/100\n",
            "1261/1261 [==============================] - 11s 9ms/step - loss: 0.6042 - root_mean_squared_error: 0.1944 - val_loss: 0.6216 - val_root_mean_squared_error: 0.2088\n",
            "Epoch 89/100\n",
            "1261/1261 [==============================] - 11s 9ms/step - loss: 0.6044 - root_mean_squared_error: 0.1925 - val_loss: 0.6197 - val_root_mean_squared_error: 0.2089\n",
            "Epoch 90/100\n",
            "1261/1261 [==============================] - 11s 9ms/step - loss: 0.6027 - root_mean_squared_error: 0.1927 - val_loss: 0.6206 - val_root_mean_squared_error: 0.2080\n",
            "Epoch 91/100\n",
            "1261/1261 [==============================] - 11s 9ms/step - loss: 0.6035 - root_mean_squared_error: 0.1918 - val_loss: 0.6200 - val_root_mean_squared_error: 0.2093\n",
            "Epoch 92/100\n",
            "1261/1261 [==============================] - 11s 9ms/step - loss: 0.6029 - root_mean_squared_error: 0.1930 - val_loss: 0.6222 - val_root_mean_squared_error: 0.2092\n",
            "Epoch 93/100\n",
            "1261/1261 [==============================] - 11s 9ms/step - loss: 0.6045 - root_mean_squared_error: 0.1924 - val_loss: 0.6213 - val_root_mean_squared_error: 0.2105\n",
            "Epoch 94/100\n",
            "1261/1261 [==============================] - 11s 9ms/step - loss: 0.6058 - root_mean_squared_error: 0.1961 - val_loss: 0.6229 - val_root_mean_squared_error: 0.2095\n",
            "Epoch 95/100\n",
            "1261/1261 [==============================] - 11s 9ms/step - loss: 0.6053 - root_mean_squared_error: 0.1933 - val_loss: 0.6214 - val_root_mean_squared_error: 0.2104\n",
            "Epoch 96/100\n",
            "1261/1261 [==============================] - 11s 9ms/step - loss: 0.6053 - root_mean_squared_error: 0.1956 - val_loss: 0.6226 - val_root_mean_squared_error: 0.2090\n",
            "Epoch 97/100\n",
            "1261/1261 [==============================] - 10s 8ms/step - loss: 0.6053 - root_mean_squared_error: 0.1934 - val_loss: 0.6199 - val_root_mean_squared_error: 0.2086\n",
            "Epoch 98/100\n",
            "1261/1261 [==============================] - 11s 9ms/step - loss: 0.6048 - root_mean_squared_error: 0.1950 - val_loss: 0.6208 - val_root_mean_squared_error: 0.2075\n",
            "Epoch 99/100\n",
            "1261/1261 [==============================] - 10s 8ms/step - loss: 0.6031 - root_mean_squared_error: 0.1913 - val_loss: 0.6181 - val_root_mean_squared_error: 0.2068\n",
            "Epoch 100/100\n",
            "1261/1261 [==============================] - 10s 8ms/step - loss: 0.6031 - root_mean_squared_error: 0.1932 - val_loss: 0.6189 - val_root_mean_squared_error: 0.2061\n"
          ]
        }
      ]
    },
    {
      "cell_type": "markdown",
      "metadata": {
        "id": "8Stxdc_XRCR6"
      },
      "source": [
        "**Visualisasi Metrik**  \n",
        "Untuk melihat visualisasi proses training"
      ]
    },
    {
      "cell_type": "code",
      "metadata": {
        "colab": {
          "base_uri": "https://localhost:8080/",
          "height": 295
        },
        "id": "RPpPLK8sRFLB",
        "outputId": "5424b229-0ab0-4c11-f5cf-106b187f6f52"
      },
      "source": [
        "plt.plot(history.history['root_mean_squared_error'])\n",
        "plt.plot(history.history['val_root_mean_squared_error'])\n",
        "plt.title('model_metrics')\n",
        "plt.ylabel('root_mean_squared_error')\n",
        "plt.xlabel('epoch')\n",
        "plt.legend(['train', 'test'], loc='upper left')\n",
        "plt.show()"
      ],
      "execution_count": null,
      "outputs": [
        {
          "output_type": "display_data",
          "data": {
            "image/png": "[encoded data removed]",
            "text/plain": [
              "<Figure size 432x288 with 1 Axes>"
            ]
          },
          "metadata": {
            "needs_background": "light"
          }
        }
      ]
    },
    {
      "cell_type": "markdown",
      "metadata": {
        "id": "V2sWa6PgRIsj"
      },
      "source": [
        "dari visualisasi proses training model di atas cukup smooth dan model konvergen pada epochs sekitar 100. Dari proses ini, kita memperoleh nilai error akhir sebesar sekitar 0.19 dan error pada data validasi sebesar 0.20. "
      ]
    },
    {
      "cell_type": "markdown",
      "metadata": {
        "id": "vfGPxwECRN5v"
      },
      "source": [
        "***Mendapatkan Rekomendasi movie***\n",
        "\n",
        "\n",
        "\n"
      ]
    },
    {
      "cell_type": "code",
      "metadata": {
        "id": "updSpwCyRbSp"
      },
      "source": [
        "movie_df = movie_new\n",
        "df = pd.read_csv('movie-recommendation-data/ml-latest-small/ratings.csv')\n",
        " \n",
        "\n",
        "user_id = df.userId.sample(1).iloc[0]\n",
        "movie_watched_by_user = df[df.userId == user_id]\n",
        " \n",
        "\n",
        "movie_not_watched = movie_df[~movie_df['id'].isin(movie_watched_by_user.movieId.values)]['id'] \n",
        "movie_not_watched = list(\n",
        "    set(movie_not_watched)\n",
        "    .intersection(set(movie_to_movie_encoded.keys()))\n",
        ")\n",
        " \n",
        "movie_not_watched = [[movie_to_movie_encoded.get(x)] for x in movie_not_watched]\n",
        "user_encoder = user_to_user_encoded.get(user_id)\n",
        "user_movie_array = np.hstack(\n",
        "    ([[user_encoder]] * len(movie_not_watched), movie_not_watched)\n",
        ")"
      ],
      "execution_count": null,
      "outputs": []
    },
    {
      "cell_type": "markdown",
      "metadata": {
        "id": "55OiSpYcRe69"
      },
      "source": [
        "untuk memperoleh rekomendasi movies, gunakan fungsi model.predict() dari library Keras dengan menerapkan kode berikut."
      ]
    },
    {
      "cell_type": "code",
      "metadata": {
        "colab": {
          "base_uri": "https://localhost:8080/"
        },
        "id": "fOQBxwnnRbL2",
        "outputId": "1d33a0f9-a05b-4c4a-e80c-1fe32e408254"
      },
      "source": [
        "ratings = model.predict(user_movie_array).flatten()\n",
        " \n",
        "top_ratings_indices = ratings.argsort()[-10:][::-1]\n",
        "recommended_movie_ids = [\n",
        "    movie_encoded_to_movie.get(movie_not_watched[x][0]) for x in top_ratings_indices\n",
        "]\n",
        " \n",
        "print('Showing recommendations for users: {}'.format(user_id))\n",
        "print('===' * 9)\n",
        "print('movie with high ratings from user')\n",
        "print('----' * 8)\n",
        " \n",
        "top_movie_user = (\n",
        "    movie_watched_by_user.sort_values(\n",
        "        by = 'rating',\n",
        "        ascending=False\n",
        "    )\n",
        "    .head(5)\n",
        "    .movieId.values\n",
        ")\n",
        " \n",
        "movie_df_rows = movie_df[movie_df['id'].isin(top_movie_user)]\n",
        "for row in movie_df_rows.itertuples():\n",
        "    print(row.movie_name, ':', row.genre)\n",
        " \n",
        "print('----' * 8)\n",
        "print('Top 10 movie recommendation')\n",
        "print('----' * 8)\n",
        " \n",
        "recommended_movie = movie_df[movie_df['id'].isin(recommended_movie_ids)]\n",
        "for row in recommended_movie.itertuples():\n",
        "    print(row.movie_name, ':', row.genre)"
      ],
      "execution_count": null,
      "outputs": [
        {
          "output_type": "stream",
          "name": "stdout",
          "text": [
            "Showing recommendations for users: 474\n",
            "===========================\n",
            "movie with high ratings from user\n",
            "--------------------------------\n",
            "Enchanted April (1992) : Drama|Romance\n",
            "Strictly Ballroom (1992) : Comedy|Romance\n",
            "Moonstruck (1987) : Comedy|Romance\n",
            "Safety Last! (1923) : Action|Comedy|Romance\n",
            "Harry Potter and the Goblet of Fire (2005) : Adventure|Fantasy|Thriller|IMAX\n",
            "--------------------------------\n",
            "Top 10 movie recommendation\n",
            "--------------------------------\n",
            "Last Days of Disco, The (1998) : Comedy|Drama\n",
            "Two Family House (2000) : Drama\n",
            "Hope and Glory (1987) : Drama\n",
            "More (1998) : Animation|Drama|Sci-Fi|IMAX\n",
            "Come and See (Idi i smotri) (1985) : Drama|War\n",
            "Into the Woods (1991) : Adventure|Comedy|Fantasy|Musical\n",
            "Match Factory Girl, The (Tulitikkutehtaan tyttö) (1990) : Comedy|Drama\n",
            "Reefer Madness: The Movie Musical (2005) : Comedy|Drama|Musical\n",
            "Neon Genesis Evangelion: Death & Rebirth (Shin seiki Evangelion Gekijô-ban: Shito shinsei) (1997) : Action|Animation|Mystery|Sci-Fi\n",
            "Captain Fantastic (2016) : Drama\n"
          ]
        }
      ]
    },
    {
      "cell_type": "markdown",
      "metadata": {
        "id": "7BGQ7vQhm2lk"
      },
      "source": [
        "dari hasi di atas movie yang bergenre comedy menjadi movie yang paling tinggi ratingsnya. Kemudian top 10 movie yang direkomendasikan sistem adalah movie dengan genre comedy dan drama."
      ]
    }
  ]
}